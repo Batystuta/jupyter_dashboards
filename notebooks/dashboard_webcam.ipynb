{
 "cells": [
  {
   "cell_type": "code",
   "execution_count": 1,
   "metadata": {
    "extensions": {
     "jupyter_dashboards": {
      "version": 1,
      "views": {
       "grid_default": {
        "col": 3,
        "height": 2,
        "hidden": false,
        "row": 0,
        "width": 7
       },
       "report_default": {}
      }
     }
    }
   },
   "outputs": [
    {
     "data": {
      "text/html": [
       "<h1>Finse Data monitoring Dashboard</h1>"
      ],
      "text/plain": [
       "<IPython.core.display.HTML object>"
      ]
     },
     "execution_count": 1,
     "metadata": {},
     "output_type": "execute_result"
    }
   ],
   "source": [
    "from IPython.display import HTML\n",
    "HTML('<h1>Finse Data monitoring Dashboard</h1>')"
   ]
  },
  {
   "cell_type": "code",
   "execution_count": 8,
   "metadata": {
    "extensions": {
     "jupyter_dashboards": {
      "version": 1,
      "views": {
       "grid_default": {
        "col": 0,
        "height": 15,
        "hidden": false,
        "row": 16,
        "width": 6
       },
       "report_default": {}
      }
     }
    }
   },
   "outputs": [
    {
     "data": {
      "application/vnd.jupyter.widget-view+json": {
       "model_id": "3cdfcc466b794992ac5b6829c2016881",
       "version_major": 2,
       "version_minor": 0
      },
      "text/html": [
       "<p>Failed to display Jupyter Widget of type <code>HTML</code>.</p>\n",
       "<p>\n",
       "  If you're reading this message in the Jupyter Notebook or JupyterLab Notebook, it may mean\n",
       "  that the widgets JavaScript is still loading. If this message persists, it\n",
       "  likely means that the widgets JavaScript library is either not installed or\n",
       "  not enabled. See the <a href=\"https://ipywidgets.readthedocs.io/en/stable/user_install.html\">Jupyter\n",
       "  Widgets Documentation</a> for setup instructions.\n",
       "</p>\n",
       "<p>\n",
       "  If you're reading this message in another frontend (for example, a static\n",
       "  rendering on GitHub or <a href=\"https://nbviewer.jupyter.org/\">NBViewer</a>),\n",
       "  it may mean that your frontend doesn't currently support widgets.\n",
       "</p>\n"
      ],
      "text/plain": [
       "HTML(value='<iframe width=\"560\"  height=\"315\" src=\"http://www.finse.uio.no/news/webcam/dagens.jpg\"></iframe>')"
      ]
     },
     "metadata": {},
     "output_type": "display_data"
    },
    {
     "data": {
      "application/vnd.jupyter.widget-view+json": {
       "model_id": "0928888ea7e6468fa06777779d132d47",
       "version_major": 2,
       "version_minor": 0
      },
      "text/html": [
       "<p>Failed to display Jupyter Widget of type <code>RadioButtons</code>.</p>\n",
       "<p>\n",
       "  If you're reading this message in the Jupyter Notebook or JupyterLab Notebook, it may mean\n",
       "  that the widgets JavaScript is still loading. If this message persists, it\n",
       "  likely means that the widgets JavaScript library is either not installed or\n",
       "  not enabled. See the <a href=\"https://ipywidgets.readthedocs.io/en/stable/user_install.html\">Jupyter\n",
       "  Widgets Documentation</a> for setup instructions.\n",
       "</p>\n",
       "<p>\n",
       "  If you're reading this message in another frontend (for example, a static\n",
       "  rendering on GitHub or <a href=\"https://nbviewer.jupyter.org/\">NBViewer</a>),\n",
       "  it may mean that your frontend doesn't currently support widgets.\n",
       "</p>\n"
      ],
      "text/plain": [
       "RadioButtons(description='Webcam:', index=1, options=('Finse Railway Station', 'Finse Research Centre'), value='Finse Research Centre')"
      ]
     },
     "metadata": {},
     "output_type": "display_data"
    }
   ],
   "source": [
    "import ipywidgets as widgets\n",
    "button = widgets.RadioButtons(\n",
    "    options=['Finse Railway Station', 'Finse Research Centre'],\n",
    "    value='Finse Research Centre',\n",
    "    description='Webcam:',\n",
    "    disabled=False\n",
    ")\n",
    "\n",
    "\n",
    "webcam = widgets.HTML(\n",
    "    value='<iframe width=\"560\"  height=\"315\" src=\"http://www.finse.uio.no/news/webcam/dagens.jpg\"></iframe>',\n",
    ")\n",
    "def handle_button_change(change):\n",
    "    if change['new'] == 'Finse Research Centre':\n",
    "        webcam.value = '<iframe width=\"500\"  height=\"315\" src=\"http://www.finse.uio.no/news/webcam/dagens.jpg\"></iframe>'\n",
    "    else:\n",
    "        webcam.value = '<iframe id=\"iframe\" width=\"500\"  height=\"315\" src=\"http://www.bt.no/tv/embed/?id=100521\" allowfullscreen=\"true\"></iframe>'\n",
    "\n",
    "button.observe(handle_button_change, names='value')\n",
    "\n",
    "display(webcam, button)"
   ]
  },
  {
   "cell_type": "code",
   "execution_count": 3,
   "metadata": {
    "collapsed": true,
    "extensions": {
     "jupyter_dashboards": {
      "version": 1,
      "views": {
       "grid_default": {
        "hidden": true
       },
       "report_default": {}
      }
     }
    }
   },
   "outputs": [],
   "source": [
    "import folium\n",
    "\n",
    "map = folium.Map(location=[60.5, 7.5], tiles='Stamen Terrain')"
   ]
  },
  {
   "cell_type": "code",
   "execution_count": 4,
   "metadata": {
    "collapsed": true,
    "extensions": {
     "jupyter_dashboards": {
      "version": 1,
      "views": {
       "grid_default": {
        "hidden": true
       },
       "report_default": {}
      }
     }
    }
   },
   "outputs": [],
   "source": [
    "import urllib.request\n",
    "\n",
    "url='https://raw.githubusercontent.com/annefou/jupyter_dashboards/gh-pages/data/Hardangervidda.geojson'\n",
    "# Download the file from `url`, save it in a temporary directory and get the\n",
    "# path to it (e.g. '/tmp/tmpb48zma.txt') in the `file_name` variable:\n",
    "geojson_filename, headers = urllib.request.urlretrieve(url)\n"
   ]
  },
  {
   "cell_type": "code",
   "execution_count": 5,
   "metadata": {
    "collapsed": true,
    "extensions": {
     "jupyter_dashboards": {
      "version": 1,
      "views": {
       "grid_default": {
        "hidden": true
       },
       "report_default": {}
      }
     }
    }
   },
   "outputs": [],
   "source": [
    "geojson = folium.GeoJson(\n",
    "    geojson_filename,\n",
    "    name='geojson'\n",
    ").add_to(map)"
   ]
  },
  {
   "cell_type": "code",
   "execution_count": 6,
   "metadata": {
    "extensions": {
     "jupyter_dashboards": {
      "version": 1,
      "views": {
       "grid_default": {
        "col": 5,
        "height": 14,
        "hidden": false,
        "row": 2,
        "width": 6
       },
       "report_default": {}
      }
     }
    }
   },
   "outputs": [
    {
     "data": {
      "text/html": [
       "<div style=\"width:100%;\"><div style=\"position:relative;width:100%;height:0;padding-bottom:60%;\"><iframe src=\"data:text/html;charset=utf-8;base64,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\" style=\"position:absolute;width:100%;height:100%;left:0;top:0;border:none !important;\" allowfullscreen webkitallowfullscreen mozallowfullscreen></iframe></div></div>"
      ],
      "text/plain": [
       "<folium.folium.Map at 0x91d5d30>"
      ]
     },
     "execution_count": 6,
     "metadata": {},
     "output_type": "execute_result"
    }
   ],
   "source": [
    "import folium\n",
    "\n",
    "map = folium.Map(location=[60.6, 7.5], zoom_start=11, tiles='Stamen Terrain')\n",
    "\n",
    "html_header=\"\"\"\n",
    "<html>\n",
    "<head>\n",
    "<style>\n",
    "table {\n",
    "    font-family: arial, sans-serif;\n",
    "    border-collapse: collapse;\n",
    "    width: 100%;\n",
    "}\n",
    "\n",
    "td, th {\n",
    "    border: 1px solid #dddddd;\n",
    "    text-align: left;\n",
    "    padding: 8px;\n",
    "}\n",
    "\n",
    "tr:nth-child(even) {\n",
    "    background-color: #dddddd;\n",
    "}\n",
    "</style>\n",
    "</head>\n",
    "<body>\n",
    "\n",
    "<table>\n",
    "\"\"\"\n",
    "html_end = \"\"\"\n",
    "</table>\n",
    "\n",
    "</body>\n",
    "</html>\n",
    "\"\"\"\n",
    "features = geojson.data['features']\n",
    "for i in range(0,len(features)):   \n",
    "    location=[features[i]['geometry']['coordinates'][1],features[i]['geometry']['coordinates'][0]]\n",
    "    name = features[i]['properties']['name']\n",
    "    opr = features[i]['properties']['waspmote_id']\n",
    "    description = features[i]['properties']['description']\n",
    "    country = features[i]['properties']['country.etc']\n",
    "    html = html_header + \"\"\"\n",
    "    <tr>\n",
    "      <th>name</th> <th>\"\"\" + name + \"\"\"</th>\n",
    "    </tr>\n",
    "    <tr>\n",
    "      <th>description</th><th>\"\"\" + description + \"\"\"</th>\n",
    "    </tr>\n",
    "    <tr>\n",
    "      <th>country.etc</th><th>\"\"\" + country + \"\"\"</th>\n",
    "    </tr>\n",
    "    <tr>\n",
    "      <th>wapsmote_id</th><th>\"\"\" + opr + \"\"\"</th>\n",
    "    </tr>\n",
    "    \"\"\" + html_end\n",
    "\n",
    "    iframe = folium.IFrame(html=html, width=300, height=200)\n",
    "    popup = folium.Popup(iframe, max_width=2650)\n",
    "    folium.Marker(location, popup=popup,  icon=folium.Icon(color='green',  icon='ok-sign')).add_to(map)\n",
    "    \n",
    "map"
   ]
  },
  {
   "cell_type": "code",
   "execution_count": 6,
   "metadata": {
    "collapsed": true,
    "extensions": {
     "jupyter_dashboards": {
      "version": 1,
      "views": {
       "grid_default": {
        "hidden": true
       },
       "report_default": {}
      }
     }
    }
   },
   "outputs": [],
   "source": [
    "map.save('../files/map_finse.html')"
   ]
  },
  {
   "cell_type": "code",
   "execution_count": 7,
   "metadata": {
    "extensions": {
     "jupyter_dashboards": {
      "version": 1,
      "views": {
       "grid_default": {
        "col": 0,
        "height": 14,
        "hidden": false,
        "row": 2,
        "width": 5
       },
       "report_default": {}
      }
     }
    }
   },
   "outputs": [
    {
     "data": {
      "text/html": [
       "<h4>About the Finse Alpine Research Centre</h4>\n",
       "<p>\n",
       "Finse Alpine Research Center, located in the northwestern part of the Hardangervidda mountain plateau, belongs to the faculties of mathematics and natural sciences at the universities of Bergen and Oslo. The center attracts biologists, geologists, geophysicists and other researchers from a wide range of Norwegian and international institutions. Seminars and meetings, as well as university field courses, are regularly held in the conference unit.  \n",
       "</p>\n",
       "\n",
       "      <ul>\n",
       "          <li class=\"vrtx-child\"><a  href=\"http://www.finse.uio.no/about/research-unit/\" target=\"_blank\"><span>Research unit</span></a></li>\n",
       "          <li class=\"vrtx-child\"><a  href=\"http://www.finse.uio.no/about/course-and-conference-unit/\" target=\"_blank\"><span>Course and conference unit</span></a></li>\n",
       "          <li class=\"vrtx-child\"><a  href=\"http://www.finse.uio.no/about/garpen/\" target=\"_blank\"><span>Garpen</span></a></li>\n",
       "          <li class=\"vrtx-child\"><a  href=\"http://www.finse.uio.no/about/location/\" target=\"_blank\"><span>Location</span></a></li>\n",
       "          <li class=\"vrtx-child\"><a  href=\"http://www.finse.uio.no/about/rates/\" target=\"_blank\"><span>Rates</span></a></li>\n",
       "          <li class=\"vrtx-child\"><a  href=\"http://www.finse.uio.no/about/reports/\" target=\"_blank\"><span>Reports and documents</span></a></li>\n",
       "          <li class=\"vrtx-child\"><a  href=\"http://www.finse.uio.no/about/in-the-media/\" target=\"_blank\"><span>In the media</span></a></li>\n",
       "          <li class=\"vrtx-child\"><a  href=\"http://www.finse.uio.no/about/contact/\" target=\"_blank\"><span>Contact information</span></a></li>\n",
       "      </ul>\n",
       "\n"
      ],
      "text/plain": [
       "<IPython.core.display.HTML object>"
      ]
     },
     "execution_count": 7,
     "metadata": {},
     "output_type": "execute_result"
    }
   ],
   "source": [
    "from IPython.display import HTML\n",
    "HTML('''<h4>About the Finse Alpine Research Centre</h4>\n",
    "<p>\n",
    "Finse Alpine Research Center, located in the northwestern part of the Hardangervidda mountain plateau, belongs to the faculties of mathematics and natural sciences at the universities of Bergen and Oslo. The center attracts biologists, geologists, geophysicists and other researchers from a wide range of Norwegian and international institutions. Seminars and meetings, as well as university field courses, are regularly held in the conference unit.  \n",
    "</p>\n",
    "\n",
    "      <ul>\n",
    "          <li class=\"vrtx-child\"><a  href=\"http://www.finse.uio.no/about/research-unit/\" target=\"_blank\"><span>Research unit</span></a></li>\n",
    "          <li class=\"vrtx-child\"><a  href=\"http://www.finse.uio.no/about/course-and-conference-unit/\" target=\"_blank\"><span>Course and conference unit</span></a></li>\n",
    "          <li class=\"vrtx-child\"><a  href=\"http://www.finse.uio.no/about/garpen/\" target=\"_blank\"><span>Garpen</span></a></li>\n",
    "          <li class=\"vrtx-child\"><a  href=\"http://www.finse.uio.no/about/location/\" target=\"_blank\"><span>Location</span></a></li>\n",
    "          <li class=\"vrtx-child\"><a  href=\"http://www.finse.uio.no/about/rates/\" target=\"_blank\"><span>Rates</span></a></li>\n",
    "          <li class=\"vrtx-child\"><a  href=\"http://www.finse.uio.no/about/reports/\" target=\"_blank\"><span>Reports and documents</span></a></li>\n",
    "          <li class=\"vrtx-child\"><a  href=\"http://www.finse.uio.no/about/in-the-media/\" target=\"_blank\"><span>In the media</span></a></li>\n",
    "          <li class=\"vrtx-child\"><a  href=\"http://www.finse.uio.no/about/contact/\" target=\"_blank\"><span>Contact information</span></a></li>\n",
    "      </ul>\n",
    "\n",
    "''')"
   ]
  },
  {
   "cell_type": "code",
   "execution_count": null,
   "metadata": {
    "collapsed": true,
    "extensions": {
     "jupyter_dashboards": {
      "version": 1,
      "views": {
       "grid_default": {
        "hidden": true
       },
       "report_default": {}
      }
     }
    }
   },
   "outputs": [],
   "source": []
  },
  {
   "cell_type": "code",
   "execution_count": null,
   "metadata": {
    "collapsed": true,
    "extensions": {
     "jupyter_dashboards": {
      "version": 1,
      "views": {
       "grid_default": {
        "hidden": true
       },
       "report_default": {}
      }
     }
    }
   },
   "outputs": [],
   "source": []
  }
 ],
 "metadata": {
  "extensions": {
   "jupyter_dashboards": {
    "activeView": "grid_default",
    "version": 1,
    "views": {
     "grid_default": {
      "cellMargin": 10,
      "defaultCellHeight": 20,
      "maxColumns": 12,
      "name": "grid",
      "type": "grid"
     },
     "report_default": {
      "name": "report",
      "type": "report"
     }
    }
   }
  },
  "kernelspec": {
   "display_name": "Python 3",
   "language": "python",
   "name": "python3"
  },
  "language_info": {
   "codemirror_mode": {
    "name": "ipython",
    "version": 3
   },
   "file_extension": ".py",
   "mimetype": "text/x-python",
   "name": "python",
   "nbconvert_exporter": "python",
   "pygments_lexer": "ipython3",
   "version": "3.6.3"
  },
  "widgets": {
   "application/vnd.jupyter.widget-state+json": {
    "state": {},
    "version_major": 2,
    "version_minor": 0
   }
  }
 },
 "nbformat": 4,
 "nbformat_minor": 2
}
