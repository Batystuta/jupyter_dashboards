{
 "cells": [
  {
   "cell_type": "code",
   "execution_count": 1,
   "metadata": {
    "extensions": {
     "jupyter_dashboards": {
      "version": 1,
      "views": {
       "grid_default": {
        "col": 3,
        "height": 2,
        "hidden": false,
        "row": 0,
        "width": 7
       },
       "report_default": {}
      }
     }
    }
   },
   "outputs": [
    {
     "data": {
      "text/html": [
       "<h1>Finse Data monitoring Dashboard</h1>"
      ],
      "text/plain": [
       "<IPython.core.display.HTML object>"
      ]
     },
     "execution_count": 1,
     "metadata": {},
     "output_type": "execute_result"
    }
   ],
   "source": [
    "from IPython.display import HTML\n",
    "HTML('<h1>Finse Data monitoring Dashboard</h1>')"
   ]
  },
  {
   "cell_type": "code",
   "execution_count": 2,
   "metadata": {
    "extensions": {
     "jupyter_dashboards": {
      "version": 1,
      "views": {
       "grid_default": {
        "col": 0,
        "height": 15,
        "hidden": false,
        "row": 16,
        "width": 6
       },
       "report_default": {}
      }
     }
    }
   },
   "outputs": [
    {
     "data": {
      "application/vnd.jupyter.widget-view+json": {
       "model_id": "6b2f5235df30421984ac4d202ae6fa0b",
       "version_major": 2,
       "version_minor": 0
      },
      "text/html": [
       "<p>Failed to display Jupyter Widget of type <code>HTML</code>.</p>\n",
       "<p>\n",
       "  If you're reading this message in the Jupyter Notebook or JupyterLab Notebook, it may mean\n",
       "  that the widgets JavaScript is still loading. If this message persists, it\n",
       "  likely means that the widgets JavaScript library is either not installed or\n",
       "  not enabled. See the <a href=\"https://ipywidgets.readthedocs.io/en/stable/user_install.html\">Jupyter\n",
       "  Widgets Documentation</a> for setup instructions.\n",
       "</p>\n",
       "<p>\n",
       "  If you're reading this message in another frontend (for example, a static\n",
       "  rendering on GitHub or <a href=\"https://nbviewer.jupyter.org/\">NBViewer</a>),\n",
       "  it may mean that your frontend doesn't currently support widgets.\n",
       "</p>\n"
      ],
      "text/plain": [
       "HTML(value='<iframe width=\"560\"  height=\"315\" src=\"http://www.finse.uio.no/news/webcam/dagens.jpg\"></iframe>')"
      ]
     },
     "metadata": {},
     "output_type": "display_data"
    },
    {
     "data": {
      "application/vnd.jupyter.widget-view+json": {
       "model_id": "68456058f34e47af9a184a9911ea04ee",
       "version_major": 2,
       "version_minor": 0
      },
      "text/html": [
       "<p>Failed to display Jupyter Widget of type <code>RadioButtons</code>.</p>\n",
       "<p>\n",
       "  If you're reading this message in the Jupyter Notebook or JupyterLab Notebook, it may mean\n",
       "  that the widgets JavaScript is still loading. If this message persists, it\n",
       "  likely means that the widgets JavaScript library is either not installed or\n",
       "  not enabled. See the <a href=\"https://ipywidgets.readthedocs.io/en/stable/user_install.html\">Jupyter\n",
       "  Widgets Documentation</a> for setup instructions.\n",
       "</p>\n",
       "<p>\n",
       "  If you're reading this message in another frontend (for example, a static\n",
       "  rendering on GitHub or <a href=\"https://nbviewer.jupyter.org/\">NBViewer</a>),\n",
       "  it may mean that your frontend doesn't currently support widgets.\n",
       "</p>\n"
      ],
      "text/plain": [
       "RadioButtons(description='Webcam:', index=1, options=('Finse Railway Station', 'Finse Research Centre'), value='Finse Research Centre')"
      ]
     },
     "metadata": {},
     "output_type": "display_data"
    }
   ],
   "source": [
    "import ipywidgets as widgets\n",
    "button = widgets.RadioButtons(\n",
    "    options=['Finse Railway Station', 'Finse Research Centre'],\n",
    "    value='Finse Research Centre',\n",
    "    description='Webcam:',\n",
    "    disabled=False\n",
    ")\n",
    "\n",
    "\n",
    "webcam = widgets.HTML(\n",
    "    value='<iframe width=\"560\"  height=\"315\" src=\"http://www.finse.uio.no/news/webcam/dagens.jpg\"></iframe>',\n",
    ")\n",
    "def handle_button_change(change):\n",
    "    if change['new'] == 'Finse Research Centre':\n",
    "        webcam.value = '<iframe width=\"500\"  height=\"315\" src=\"http://www.finse.uio.no/news/webcam/dagens.jpg\"></iframe>'\n",
    "    else:\n",
    "        webcam.value = '<iframe id=\"iframe\" width=\"500\"  height=\"315\" src=\"http://www.bt.no/tv/embed/?id=100521\" allowfullscreen=\"true\"></iframe>'\n",
    "\n",
    "button.observe(handle_button_change, names='value')\n",
    "\n",
    "display(webcam, button)"
   ]
  },
  {
   "cell_type": "code",
   "execution_count": 3,
   "metadata": {
    "extensions": {
     "jupyter_dashboards": {
      "version": 1,
      "views": {
       "grid_default": {
        "hidden": true
       },
       "report_default": {}
      }
     }
    }
   },
   "outputs": [],
   "source": [
    "import folium\n",
    "\n",
    "map = folium.Map(location=[60.5, 7.5], tiles='Stamen Terrain')"
   ]
  },
  {
   "cell_type": "code",
   "execution_count": 4,
   "metadata": {
    "extensions": {
     "jupyter_dashboards": {
      "version": 1,
      "views": {
       "grid_default": {
        "hidden": true
       },
       "report_default": {}
      }
     }
    }
   },
   "outputs": [],
   "source": [
    "import urllib.request\n",
    "\n",
    "url='https://raw.githubusercontent.com/annefou/jupyter_dashboards/gh-pages/data/Hardangervidda.geojson'\n",
    "# Download the file from `url`, save it in a temporary directory and get the\n",
    "# path to it (e.g. '/tmp/tmpb48zma.txt') in the `file_name` variable:\n",
    "geojson_filename, headers = urllib.request.urlretrieve(url)\n"
   ]
  },
  {
   "cell_type": "code",
   "execution_count": 5,
   "metadata": {
    "extensions": {
     "jupyter_dashboards": {
      "version": 1,
      "views": {
       "grid_default": {
        "hidden": true
       },
       "report_default": {}
      }
     }
    }
   },
   "outputs": [],
   "source": [
    "geojson = folium.GeoJson(\n",
    "    geojson_filename,\n",
    "    name='geojson'\n",
    ").add_to(map)"
   ]
  },
  {
   "cell_type": "code",
   "execution_count": 6,
   "metadata": {
    "extensions": {
     "jupyter_dashboards": {
      "version": 1,
      "views": {
       "grid_default": {
        "col": 5,
        "height": 14,
        "hidden": false,
        "row": 2,
        "width": 6
       },
       "report_default": {}
      }
     }
    }
   },
   "outputs": [
    {
     "data": {
      "text/html": [
       "<div style=\"width:100%;\"><div style=\"position:relative;width:100%;height:0;padding-bottom:60%;\"><iframe src=\"data:text/html;charset=utf-8;base64,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\" style=\"position:absolute;width:100%;height:100%;left:0;top:0;border:none !important;\" allowfullscreen webkitallowfullscreen mozallowfullscreen></iframe></div></div>"
      ],
      "text/plain": [
       "<folium.folium.Map at 0x10b0bda90>"
      ]
     },
     "execution_count": 6,
     "metadata": {},
     "output_type": "execute_result"
    }
   ],
   "source": [
    "import folium\n",
    "\n",
    "map = folium.Map(location=[60.6, 7.5], zoom_start=11, tiles='Stamen Terrain')\n",
    "\n",
    "html_header=\"\"\"\n",
    "<html>\n",
    "<head>\n",
    "<style>\n",
    "table {\n",
    "    font-family: arial, sans-serif;\n",
    "    border-collapse: collapse;\n",
    "    width: 100%;\n",
    "}\n",
    "\n",
    "td, th {\n",
    "    border: 1px solid #dddddd;\n",
    "    text-align: left;\n",
    "    padding: 8px;\n",
    "}\n",
    "\n",
    "tr:nth-child(even) {\n",
    "    background-color: #dddddd;\n",
    "}\n",
    "</style>\n",
    "</head>\n",
    "<body>\n",
    "\n",
    "<table>\n",
    "\"\"\"\n",
    "html_end = \"\"\"\n",
    "</table>\n",
    "\n",
    "</body>\n",
    "</html>\n",
    "\"\"\"\n",
    "features = geojson.data['features']\n",
    "for i in range(0,len(features)):   \n",
    "    location=[features[i]['geometry']['coordinates'][1],features[i]['geometry']['coordinates'][0]]\n",
    "    name = features[i]['properties']['name']\n",
    "    opr = features[i]['properties']['waspmote_id']\n",
    "    description = features[i]['properties']['description']\n",
    "    country = features[i]['properties']['country.etc']\n",
    "    html = html_header + \"\"\"\n",
    "    <tr>\n",
    "      <th>name</th> <th>\"\"\" + name + \"\"\"</th>\n",
    "    </tr>\n",
    "    <tr>\n",
    "      <th>description</th><th>\"\"\" + description + \"\"\"</th>\n",
    "    </tr>\n",
    "    <tr>\n",
    "      <th>country.etc</th><th>\"\"\" + country + \"\"\"</th>\n",
    "    </tr>\n",
    "    <tr>\n",
    "      <th>wapsmote_id</th><th>\"\"\" + opr + \"\"\"</th>\n",
    "    </tr>\n",
    "    \"\"\" + html_end\n",
    "\n",
    "    iframe = folium.IFrame(html=html, width=300, height=200)\n",
    "    popup = folium.Popup(iframe, max_width=2650)\n",
    "    folium.Marker(location, popup=popup,  icon=folium.Icon(color='green',  icon='ok-sign')).add_to(map)\n",
    "    \n",
    "map"
   ]
  },
  {
   "cell_type": "code",
   "execution_count": 7,
   "metadata": {
    "extensions": {
     "jupyter_dashboards": {
      "version": 1,
      "views": {
       "grid_default": {
        "hidden": true
       },
       "report_default": {}
      }
     }
    }
   },
   "outputs": [],
   "source": [
    "map.save('../files/map_finse.html')"
   ]
  },
  {
   "cell_type": "code",
   "execution_count": 8,
   "metadata": {
    "extensions": {
     "jupyter_dashboards": {
      "version": 1,
      "views": {
       "grid_default": {
        "col": 0,
        "height": 14,
        "hidden": false,
        "row": 2,
        "width": 5
       },
       "report_default": {}
      }
     }
    }
   },
   "outputs": [
    {
     "data": {
      "text/html": [
       "<h4>About the Finse Alpine Research Centre</h4>\n",
       "<p>\n",
       "Finse Alpine Research Center, located in the northwestern part of the Hardangervidda mountain plateau, belongs to the faculties of mathematics and natural sciences at the universities of Bergen and Oslo. The center attracts biologists, geologists, geophysicists and other researchers from a wide range of Norwegian and international institutions. Seminars and meetings, as well as university field courses, are regularly held in the conference unit.  \n",
       "</p>\n",
       "\n",
       "      <ul>\n",
       "          <li class=\"vrtx-child\"><a  href=\"http://www.finse.uio.no/about/research-unit/\" target=\"_blank\"><span>Research unit</span></a></li>\n",
       "          <li class=\"vrtx-child\"><a  href=\"http://www.finse.uio.no/about/course-and-conference-unit/\" target=\"_blank\"><span>Course and conference unit</span></a></li>\n",
       "          <li class=\"vrtx-child\"><a  href=\"http://www.finse.uio.no/about/garpen/\" target=\"_blank\"><span>Garpen</span></a></li>\n",
       "          <li class=\"vrtx-child\"><a  href=\"http://www.finse.uio.no/about/location/\" target=\"_blank\"><span>Location</span></a></li>\n",
       "          <li class=\"vrtx-child\"><a  href=\"http://www.finse.uio.no/about/rates/\" target=\"_blank\"><span>Rates</span></a></li>\n",
       "          <li class=\"vrtx-child\"><a  href=\"http://www.finse.uio.no/about/reports/\" target=\"_blank\"><span>Reports and documents</span></a></li>\n",
       "          <li class=\"vrtx-child\"><a  href=\"http://www.finse.uio.no/about/in-the-media/\" target=\"_blank\"><span>In the media</span></a></li>\n",
       "          <li class=\"vrtx-child\"><a  href=\"http://www.finse.uio.no/about/contact/\" target=\"_blank\"><span>Contact information</span></a></li>\n",
       "      </ul>\n",
       "\n"
      ],
      "text/plain": [
       "<IPython.core.display.HTML object>"
      ]
     },
     "execution_count": 8,
     "metadata": {},
     "output_type": "execute_result"
    }
   ],
   "source": [
    "from IPython.display import HTML\n",
    "HTML('''<h4>About the Finse Alpine Research Centre</h4>\n",
    "<p>\n",
    "Finse Alpine Research Center, located in the northwestern part of the Hardangervidda mountain plateau, belongs to the faculties of mathematics and natural sciences at the universities of Bergen and Oslo. The center attracts biologists, geologists, geophysicists and other researchers from a wide range of Norwegian and international institutions. Seminars and meetings, as well as university field courses, are regularly held in the conference unit.  \n",
    "</p>\n",
    "\n",
    "      <ul>\n",
    "          <li class=\"vrtx-child\"><a  href=\"http://www.finse.uio.no/about/research-unit/\" target=\"_blank\"><span>Research unit</span></a></li>\n",
    "          <li class=\"vrtx-child\"><a  href=\"http://www.finse.uio.no/about/course-and-conference-unit/\" target=\"_blank\"><span>Course and conference unit</span></a></li>\n",
    "          <li class=\"vrtx-child\"><a  href=\"http://www.finse.uio.no/about/garpen/\" target=\"_blank\"><span>Garpen</span></a></li>\n",
    "          <li class=\"vrtx-child\"><a  href=\"http://www.finse.uio.no/about/location/\" target=\"_blank\"><span>Location</span></a></li>\n",
    "          <li class=\"vrtx-child\"><a  href=\"http://www.finse.uio.no/about/rates/\" target=\"_blank\"><span>Rates</span></a></li>\n",
    "          <li class=\"vrtx-child\"><a  href=\"http://www.finse.uio.no/about/reports/\" target=\"_blank\"><span>Reports and documents</span></a></li>\n",
    "          <li class=\"vrtx-child\"><a  href=\"http://www.finse.uio.no/about/in-the-media/\" target=\"_blank\"><span>In the media</span></a></li>\n",
    "          <li class=\"vrtx-child\"><a  href=\"http://www.finse.uio.no/about/contact/\" target=\"_blank\"><span>Contact information</span></a></li>\n",
    "      </ul>\n",
    "\n",
    "''')"
   ]
  },
  {
   "cell_type": "code",
   "execution_count": null,
   "metadata": {
    "extensions": {
     "jupyter_dashboards": {
      "version": 1,
      "views": {
       "grid_default": {
        "hidden": true
       },
       "report_default": {}
      }
     }
    }
   },
   "outputs": [],
   "source": []
  },
  {
   "cell_type": "code",
   "execution_count": null,
   "metadata": {
    "collapsed": true,
    "extensions": {
     "jupyter_dashboards": {
      "version": 1,
      "views": {
       "grid_default": {
        "hidden": true
       },
       "report_default": {}
      }
     }
    }
   },
   "outputs": [],
   "source": []
  }
 ],
 "metadata": {
  "extensions": {
   "jupyter_dashboards": {
    "activeView": "grid_default",
    "version": 1,
    "views": {
     "grid_default": {
      "cellMargin": 10,
      "defaultCellHeight": 20,
      "maxColumns": 12,
      "name": "grid",
      "type": "grid"
     },
     "report_default": {
      "name": "report",
      "type": "report"
     }
    }
   }
  },
  "kernelspec": {
   "display_name": "Python 3",
   "language": "python",
   "name": "python3"
  },
  "language_info": {
   "codemirror_mode": {
    "name": "ipython",
    "version": 3
   },
   "file_extension": ".py",
   "mimetype": "text/x-python",
   "name": "python",
   "nbconvert_exporter": "python",
   "pygments_lexer": "ipython3",
   "version": "3.6.4"
  },
  "widgets": {
   "application/vnd.jupyter.widget-state+json": {
    "state": {
     "2942b6db989949bf9cea72680a8fe12e": {
      "model_module": "@jupyter-widgets/base",
      "model_module_version": "1.0.0",
      "model_name": "LayoutModel",
      "state": {}
     },
     "68456058f34e47af9a184a9911ea04ee": {
      "model_module": "@jupyter-widgets/controls",
      "model_module_version": "1.1.0",
      "model_name": "RadioButtonsModel",
      "state": {
       "_options_labels": [
        "Finse Railway Station",
        "Finse Research Centre"
       ],
       "description": "Webcam:",
       "index": 1,
       "layout": "IPY_MODEL_a6164057b3454fa78c097ef0169ee201",
       "style": "IPY_MODEL_97e4c0e08a8f4fc2a3b0dbbc302d34ab"
      }
     },
     "6b2f5235df30421984ac4d202ae6fa0b": {
      "model_module": "@jupyter-widgets/controls",
      "model_module_version": "1.1.0",
      "model_name": "HTMLModel",
      "state": {
       "layout": "IPY_MODEL_2942b6db989949bf9cea72680a8fe12e",
       "style": "IPY_MODEL_b5f6461434a64becaa774e495a2bc274",
       "value": "<iframe width=\"560\"  height=\"315\" src=\"http://www.finse.uio.no/news/webcam/dagens.jpg\"></iframe>"
      }
     },
     "97e4c0e08a8f4fc2a3b0dbbc302d34ab": {
      "model_module": "@jupyter-widgets/controls",
      "model_module_version": "1.1.0",
      "model_name": "DescriptionStyleModel",
      "state": {
       "description_width": ""
      }
     },
     "a6164057b3454fa78c097ef0169ee201": {
      "model_module": "@jupyter-widgets/base",
      "model_module_version": "1.0.0",
      "model_name": "LayoutModel",
      "state": {}
     },
     "b5f6461434a64becaa774e495a2bc274": {
      "model_module": "@jupyter-widgets/controls",
      "model_module_version": "1.1.0",
      "model_name": "DescriptionStyleModel",
      "state": {
       "description_width": ""
      }
     }
    },
    "version_major": 2,
    "version_minor": 0
   }
  }
 },
 "nbformat": 4,
 "nbformat_minor": 2
}
