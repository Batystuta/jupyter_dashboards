{
 "cells": [
  {
   "cell_type": "code",
   "execution_count": 5,
   "metadata": {
    "extensions": {
     "jupyter_dashboards": {
      "version": 1,
      "views": {
       "grid_default": {
        "col": 0,
        "height": 4,
        "hidden": false,
        "row": 0,
        "width": 4
       },
       "report_default": {}
      }
     }
    }
   },
   "outputs": [
    {
     "name": "stdout",
     "output_type": "stream",
     "text": [
      "/Users/gladys/miniconda3/envs/jupyter_dashboards/lib/python3.6/site-packages/folium/__init__.py\n",
      "0.5.0\n"
     ]
    }
   ],
   "source": [
    "#interact_manual\n",
    "\n",
    "import ipywidgets\n",
    "import folium\n",
    "print(folium.__file__)\n",
    "print(folium.__version__)\n",
    "import folium.plugins\n",
    "import numpy"
   ]
  },
  {
   "cell_type": "code",
   "execution_count": 6,
   "metadata": {
    "extensions": {
     "jupyter_dashboards": {
      "version": 1,
      "views": {
       "grid_default": {
        "col": 4,
        "height": 12,
        "hidden": false,
        "row": 0,
        "width": 4
       },
       "report_default": {}
      }
     }
    }
   },
   "outputs": [
    {
     "name": "stdout",
     "output_type": "stream",
     "text": [
      "{'response': {'version': '0.1', 'termsofService': 'http://www.wunderground.com/weather/api/d/terms.html', 'features': {'history': 1}}, 'history': {'date': {'pretty': 'December 20, 2017', 'year': '2017', 'mon': '12', 'mday': '20', 'hour': '00', 'min': '00', 'tzname': 'Europe/Oslo'}, 'utcdate': {'pretty': 'December 19, 2017', 'year': '2017', 'mon': '12', 'mday': '19', 'hour': '23', 'min': '00', 'tzname': 'UTC'}, 'observations': [{'date': {'pretty': '12:00 AM CET on December 20, 2017', 'year': '2017', 'mon': '12', 'mday': '20', 'hour': '00', 'min': '00', 'tzname': 'Europe/Oslo'}, 'utcdate': {'pretty': '11:00 PM GMT on December 19, 2017', 'year': '2017', 'mon': '12', 'mday': '19', 'hour': '23', 'min': '00', 'tzname': 'UTC'}, 'tempm': '-5', 'tempi': '23', 'dewptm': '-5', 'dewpti': '22', 'hum': '97', 'wspdm': '0.0', 'wspdi': '0.0', 'wgustm': '', 'wgusti': '', 'wdird': '', 'wdire': '', 'vism': '0.1', 'visi': '0', 'pressurem': '', 'pressurei': '', 'windchillm': '-999', 'windchilli': '-999', 'heatindexm': '-9999', 'heatindexi': '-9999', 'precipm': '', 'precipi': '', 'conds': '', 'icon': '', 'fog': '0', 'rain': '0', 'snow': '0', 'hail': '0', 'thunder': '0', 'tornado': '0', 'metar': 'AAXX 19231 01384 46/01 /0000 11049 21053 58005'}, {'date': {'pretty': '12:20 AM CET on December 20, 2017', 'year': '2017', 'mon': '12', 'mday': '20', 'hour': '00', 'min': '20', 'tzname': 'Europe/Oslo'}, 'utcdate': {'pretty': '11:20 PM GMT on December 19, 2017', 'year': '2017', 'mon': '12', 'mday': '19', 'hour': '23', 'min': '20', 'tzname': 'UTC'}, 'tempm': '-5.0', 'tempi': '23.0', 'dewptm': '-6.0', 'dewpti': '21.2', 'hum': '93', 'wspdm': '0.0', 'wspdi': '0.0', 'wgustm': '-9999.0', 'wgusti': '-9999.0', 'wdird': '0', 'wdire': 'North', 'vism': '0.5', 'visi': '0.3', 'pressurem': '1024', 'pressurei': '30.24', 'windchillm': '-999', 'windchilli': '-999', 'heatindexm': '-9999', 'heatindexi': '-9999', 'precipm': '-9999.00', 'precipi': '-9999.00', 'conds': 'Light Freezing Fog', 'icon': 'fog', 'fog': '1', 'rain': '0', 'snow': '0', 'hail': '0', 'thunder': '0', 'tornado': '0', 'metar': 'METAR ENGM 192320Z 00000KT 0500 R19R/1900U R01R/0600N FZFG VV001 M05/M06 Q1024'}, {'date': {'pretty': '12:50 AM CET on December 20, 2017', 'year': '2017', 'mon': '12', 'mday': '20', 'hour': '00', 'min': '50', 'tzname': 'Europe/Oslo'}, 'utcdate': {'pretty': '11:50 PM GMT on December 19, 2017', 'year': '2017', 'mon': '12', 'mday': '19', 'hour': '23', 'min': '50', 'tzname': 'UTC'}, 'tempm': '-5.0', 'tempi': '23.0', 'dewptm': '-6.0', 'dewpti': '21.2', 'hum': '93', 'wspdm': '0.0', 'wspdi': '0.0', 'wgustm': '-9999.0', 'wgusti': '-9999.0', 'wdird': '0', 'wdire': 'North', 'vism': '-9999.0', 'visi': '-9999.0', 'pressurem': '1024', 'pressurei': '30.24', 'windchillm': '-999', 'windchilli': '-999', 'heatindexm': '-9999', 'heatindexi': '-9999', 'precipm': '-9999.00', 'precipi': '-9999.00', 'conds': 'Light Freezing Fog', 'icon': 'fog', 'fog': '1', 'rain': '0', 'snow': '0', 'hail': '0', 'thunder': '0', 'tornado': '0', 'metar': 'METAR ENGM 192350Z 00000KT 0650 R19R/0750N R01R/0700N FZFG VV002 M05/M06 Q1024'}, {'date': {'pretty': '1:00 AM CET on December 20, 2017', 'year': '2017', 'mon': '12', 'mday': '20', 'hour': '01', 'min': '00', 'tzname': 'Europe/Oslo'}, 'utcdate': {'pretty': '12:00 AM GMT on December 20, 2017', 'year': '2017', 'mon': '12', 'mday': '20', 'hour': '00', 'min': '00', 'tzname': 'UTC'}, 'tempm': '-5', 'tempi': '23', 'dewptm': '-5', 'dewpti': '23', 'hum': '98', 'wspdm': '3.6', 'wspdi': '2.2', 'wgustm': '', 'wgusti': '', 'wdird': '10', 'wdire': 'North', 'vism': '0.5', 'visi': '0', 'pressurem': '', 'pressurei': '', 'windchillm': '-999', 'windchilli': '-999', 'heatindexm': '-9999', 'heatindexi': '-9999', 'precipm': '', 'precipi': '', 'conds': 'Heavy Fog', 'icon': 'fog', 'fog': '1', 'rain': '0', 'snow': '0', 'hail': '0', 'thunder': '0', 'tornado': '0', 'metar': 'AAXX 20001 01384 11X05 90101 11048 21052 58009 60001 74744'}, {'date': {'pretty': '1:20 AM CET on December 20, 2017', 'year': '2017', 'mon': '12', 'mday': '20', 'hour': '01', 'min': '20', 'tzname': 'Europe/Oslo'}, 'utcdate': {'pretty': '12:20 AM GMT on December 20, 2017', 'year': '2017', 'mon': '12', 'mday': '20', 'hour': '00', 'min': '20', 'tzname': 'UTC'}, 'tempm': '-5.0', 'tempi': '23.0', 'dewptm': '-6.0', 'dewpti': '21.2', 'hum': '93', 'wspdm': '1.9', 'wspdi': '1.2', 'wgustm': '-9999.0', 'wgusti': '-9999.0', 'wdird': '20', 'wdire': 'NNE', 'vism': '0.6', 'visi': '0.4', 'pressurem': '1023', 'pressurei': '30.21', 'windchillm': '-999', 'windchilli': '-999', 'heatindexm': '-9999', 'heatindexi': '-9999', 'precipm': '-9999.00', 'precipi': '-9999.00', 'conds': 'Light Freezing Fog', 'icon': 'fog', 'fog': '1', 'rain': '0', 'snow': '0', 'hail': '0', 'thunder': '0', 'tornado': '0', 'metar': 'METAR ENGM 200020Z 02001KT 0600 R19R/0800N R01R/0600N FZFG VV002 M05/M06 Q1023'}, {'date': {'pretty': '2:00 AM CET on December 20, 2017', 'year': '2017', 'mon': '12', 'mday': '20', 'hour': '02', 'min': '00', 'tzname': 'Europe/Oslo'}, 'utcdate': {'pretty': '1:00 AM GMT on December 20, 2017', 'year': '2017', 'mon': '12', 'mday': '20', 'hour': '01', 'min': '00', 'tzname': 'UTC'}, 'tempm': '-5', 'tempi': '24', 'dewptm': '-5', 'dewpti': '23', 'hum': '94', 'wspdm': '0.0', 'wspdi': '0.0', 'wgustm': '', 'wgusti': '', 'wdird': '', 'wdire': '', 'vism': '0.2', 'visi': '0', 'pressurem': '', 'pressurei': '', 'windchillm': '-999', 'windchilli': '-999', 'heatindexm': '-9999', 'heatindexi': '-9999', 'precipm': '', 'precipi': '', 'conds': '', 'icon': '', 'fog': '0', 'rain': '0', 'snow': '0', 'hail': '0', 'thunder': '0', 'tornado': '0', 'metar': 'AAXX 20011 01384 46/02 /0000 11046 21050 58014'}, {'date': {'pretty': '2:20 AM CET on December 20, 2017', 'year': '2017', 'mon': '12', 'mday': '20', 'hour': '02', 'min': '20', 'tzname': 'Europe/Oslo'}, 'utcdate': {'pretty': '1:20 AM GMT on December 20, 2017', 'year': '2017', 'mon': '12', 'mday': '20', 'hour': '01', 'min': '20', 'tzname': 'UTC'}, 'tempm': '-5.0', 'tempi': '23.0', 'dewptm': '-6.0', 'dewpti': '21.2', 'hum': '93', 'wspdm': '0.0', 'wspdi': '0.0', 'wgustm': '-9999.0', 'wgusti': '-9999.0', 'wdird': '0', 'wdire': 'North', 'vism': '-9999.0', 'visi': '-9999.0', 'pressurem': '1023', 'pressurei': '30.21', 'windchillm': '-999', 'windchilli': '-999', 'heatindexm': '-9999', 'heatindexi': '-9999', 'precipm': '-9999.00', 'precipi': '-9999.00', 'conds': 'Light Freezing Fog', 'icon': 'fog', 'fog': '1', 'rain': '0', 'snow': '0', 'hail': '0', 'thunder': '0', 'tornado': '0', 'metar': 'METAR ENGM 200120Z 00000KT 0650 R19R/0800N R01R/0750N FZFG VV001 M05/M06 Q1023'}, {'date': {'pretty': '2:50 AM CET on December 20, 2017', 'year': '2017', 'mon': '12', 'mday': '20', 'hour': '02', 'min': '50', 'tzname': 'Europe/Oslo'}, 'utcdate': {'pretty': '1:50 AM GMT on December 20, 2017', 'year': '2017', 'mon': '12', 'mday': '20', 'hour': '01', 'min': '50', 'tzname': 'UTC'}, 'tempm': '-5.0', 'tempi': '23.0', 'dewptm': '-6.0', 'dewpti': '21.2', 'hum': '93', 'wspdm': '0.0', 'wspdi': '0.0', 'wgustm': '-9999.0', 'wgusti': '-9999.0', 'wdird': '0', 'wdire': 'North', 'vism': '-9999.0', 'visi': '-9999.0', 'pressurem': '1023', 'pressurei': '30.21', 'windchillm': '-999', 'windchilli': '-999', 'heatindexm': '-9999', 'heatindexi': '-9999', 'precipm': '-9999.00', 'precipi': '-9999.00', 'conds': 'Light Freezing Fog', 'icon': 'fog', 'fog': '1', 'rain': '0', 'snow': '0', 'hail': '0', 'thunder': '0', 'tornado': '0', 'metar': 'METAR ENGM 200150Z 00000KT 0650 R19R/0900U R01R/0600N FZFG VV001 M05/M06 Q1023'}, {'date': {'pretty': '3:20 AM CET on December 20, 2017', 'year': '2017', 'mon': '12', 'mday': '20', 'hour': '03', 'min': '20', 'tzname': 'Europe/Oslo'}, 'utcdate': {'pretty': '2:20 AM GMT on December 20, 2017', 'year': '2017', 'mon': '12', 'mday': '20', 'hour': '02', 'min': '20', 'tzname': 'UTC'}, 'tempm': '-5.0', 'tempi': '23.0', 'dewptm': '-6.0', 'dewpti': '21.2', 'hum': '93', 'wspdm': '0.0', 'wspdi': '0.0', 'wgustm': '-9999.0', 'wgusti': '-9999.0', 'wdird': '0', 'wdire': 'North', 'vism': '0.5', 'visi': '0.3', 'pressurem': '1022', 'pressurei': '30.18', 'windchillm': '-999', 'windchilli': '-999', 'heatindexm': '-9999', 'heatindexi': '-9999', 'precipm': '-9999.00', 'precipi': '-9999.00', 'conds': 'Light Freezing Fog', 'icon': 'fog', 'fog': '1', 'rain': '0', 'snow': '0', 'hail': '0', 'thunder': '0', 'tornado': '0', 'metar': 'METAR ENGM 200220Z 00000KT 0500 R19R/0800N R01R/0700U FZFG VV001 M05/M06 Q1022'}, {'date': {'pretty': '3:50 AM CET on December 20, 2017', 'year': '2017', 'mon': '12', 'mday': '20', 'hour': '03', 'min': '50', 'tzname': 'Europe/Oslo'}, 'utcdate': {'pretty': '2:50 AM GMT on December 20, 2017', 'year': '2017', 'mon': '12', 'mday': '20', 'hour': '02', 'min': '50', 'tzname': 'UTC'}, 'tempm': '-5.0', 'tempi': '23.0', 'dewptm': '-6.0', 'dewpti': '21.2', 'hum': '93', 'wspdm': '0.0', 'wspdi': '0.0', 'wgustm': '-9999.0', 'wgusti': '-9999.0', 'wdird': '0', 'wdire': 'North', 'vism': '0.6', 'visi': '0.4', 'pressurem': '1022', 'pressurei': '30.18', 'windchillm': '-999', 'windchilli': '-999', 'heatindexm': '-9999', 'heatindexi': '-9999', 'precipm': '-9999.00', 'precipi': '-9999.00', 'conds': 'Light Freezing Fog', 'icon': 'fog', 'fog': '1', 'rain': '0', 'snow': '0', 'hail': '0', 'thunder': '0', 'tornado': '0', 'metar': 'METAR ENGM 200250Z 00000KT 0600 R19R/1100D R01R/0750N FZFG VV002 M05/M06 Q1022'}, {'date': {'pretty': '4:00 AM CET on December 20, 2017', 'year': '2017', 'mon': '12', 'mday': '20', 'hour': '04', 'min': '00', 'tzname': 'Europe/Oslo'}, 'utcdate': {'pretty': '3:00 AM GMT on December 20, 2017', 'year': '2017', 'mon': '12', 'mday': '20', 'hour': '03', 'min': '00', 'tzname': 'UTC'}, 'tempm': '-4', 'tempi': '24', 'dewptm': '-5', 'dewpti': '23', 'hum': '96', 'wspdm': '0.0', 'wspdi': '0.0', 'wgustm': '', 'wgusti': '', 'wdird': '', 'wdire': '', 'vism': '0.6', 'visi': '0', 'pressurem': '', 'pressurei': '', 'windchillm': '-999', 'windchilli': '-999', 'heatindexm': '-9999', 'heatindexi': '-9999', 'precipm': '', 'precipi': '', 'conds': 'Heavy Fog', 'icon': 'fog', 'fog': '1', 'rain': '0', 'snow': '0', 'hail': '0', 'thunder': '0', 'tornado': '0', 'metar': 'AAXX 20031 01384 41X06 90000 11044 21048 56012 74544'}, {'date': {'pretty': '4:20 AM CET on December 20, 2017', 'year': '2017', 'mon': '12', 'mday': '20', 'hour': '04', 'min': '20', 'tzname': 'Europe/Oslo'}, 'utcdate': {'pretty': '3:20 AM GMT on December 20, 2017', 'year': '2017', 'mon': '12', 'mday': '20', 'hour': '03', 'min': '20', 'tzname': 'UTC'}, 'tempm': '-5.0', 'tempi': '23.0', 'dewptm': '-6.0', 'dewpti': '21.2', 'hum': '93', 'wspdm': '0.0', 'wspdi': '0.0', 'wgustm': '-9999.0', 'wgusti': '-9999.0', 'wdird': '0', 'wdire': 'North', 'vism': '0.5', 'visi': '0.3', 'pressurem': '1022', 'pressurei': '30.18', 'windchillm': '-999', 'windchilli': '-999', 'heatindexm': '-9999', 'heatindexi': '-9999', 'precipm': '-9999.00', 'precipi': '-9999.00', 'conds': 'Light Freezing Fog', 'icon': 'fog', 'fog': '1', 'rain': '0', 'snow': '0', 'hail': '0', 'thunder': '0', 'tornado': '0', 'metar': 'METAR ENGM 200320Z 00000KT 0500 R19R/0900U R01R/0650N FZFG VV001 M05/M06 Q1022'}, {'date': {'pretty': '4:50 AM CET on December 20, 2017', 'year': '2017', 'mon': '12', 'mday': '20', 'hour': '04', 'min': '50', 'tzname': 'Europe/Oslo'}, 'utcdate': {'pretty': '3:50 AM GMT on December 20, 2017', 'year': '2017', 'mon': '12', 'mday': '20', 'hour': '03', 'min': '50', 'tzname': 'UTC'}, 'tempm': '-5.0', 'tempi': '23.0', 'dewptm': '-6.0', 'dewpti': '21.2', 'hum': '93', 'wspdm': '0.0', 'wspdi': '0.0', 'wgustm': '-9999.0', 'wgusti': '-9999.0', 'wdird': '0', 'wdire': 'North', 'vism': '0.5', 'visi': '0.3', 'pressurem': '1022', 'pressurei': '30.18', 'windchillm': '-999', 'windchilli': '-999', 'heatindexm': '-9999', 'heatindexi': '-9999', 'precipm': '-9999.00', 'precipi': '-9999.00', 'conds': 'Light Freezing Fog', 'icon': 'fog', 'fog': '1', 'rain': '0', 'snow': '0', 'hail': '0', 'thunder': '0', 'tornado': '0', 'metar': 'METAR ENGM 200350Z 00000KT 0500 R19R/0900N R01R/0650N FZFG VV001 M05/M06 Q1022'}, {'date': {'pretty': '5:00 AM CET on December 20, 2017', 'year': '2017', 'mon': '12', 'mday': '20', 'hour': '05', 'min': '00', 'tzname': 'Europe/Oslo'}, 'utcdate': {'pretty': '4:00 AM GMT on December 20, 2017', 'year': '2017', 'mon': '12', 'mday': '20', 'hour': '04', 'min': '00', 'tzname': 'UTC'}, 'tempm': '-4', 'tempi': '24', 'dewptm': '-5', 'dewpti': '23', 'hum': '96', 'wspdm': '0.0', 'wspdi': '0.0', 'wgustm': '', 'wgusti': '', 'wdird': '', 'wdire': '', 'vism': '0.1', 'visi': '0', 'pressurem': '', 'pressurei': '', 'windchillm': '-999', 'windchilli': '-999', 'heatindexm': '-9999', 'heatindexi': '-9999', 'precipm': '', 'precipi': '', 'conds': '', 'icon': '', 'fog': '0', 'rain': '0', 'snow': '0', 'hail': '0', 'thunder': '0', 'tornado': '0', 'metar': 'AAXX 20041 01384 46/01 /0000 11044 21048 58012'}, {'date': {'pretty': '5:20 AM CET on December 20, 2017', 'year': '2017', 'mon': '12', 'mday': '20', 'hour': '05', 'min': '20', 'tzname': 'Europe/Oslo'}, 'utcdate': {'pretty': '4:20 AM GMT on December 20, 2017', 'year': '2017', 'mon': '12', 'mday': '20', 'hour': '04', 'min': '20', 'tzname': 'UTC'}, 'tempm': '-5.0', 'tempi': '23.0', 'dewptm': '-6.0', 'dewpti': '21.2', 'hum': '93', 'wspdm': '0.0', 'wspdi': '0.0', 'wgustm': '-9999.0', 'wgusti': '-9999.0', 'wdird': '0', 'wdire': 'North', 'vism': '0.5', 'visi': '0.3', 'pressurem': '1021', 'pressurei': '30.15', 'windchillm': '-999', 'windchilli': '-999', 'heatindexm': '-9999', 'heatindexi': '-9999', 'precipm': '-9999.00', 'precipi': '-9999.00', 'conds': 'Light Freezing Fog', 'icon': 'fog', 'fog': '1', 'rain': '0', 'snow': '0', 'hail': '0', 'thunder': '0', 'tornado': '0', 'metar': 'METAR ENGM 200420Z 00000KT 0500 R19R/0900U R01R/0700N FZFG VV002 M05/M06 Q1021'}, {'date': {'pretty': '5:50 AM CET on December 20, 2017', 'year': '2017', 'mon': '12', 'mday': '20', 'hour': '05', 'min': '50', 'tzname': 'Europe/Oslo'}, 'utcdate': {'pretty': '4:50 AM GMT on December 20, 2017', 'year': '2017', 'mon': '12', 'mday': '20', 'hour': '04', 'min': '50', 'tzname': 'UTC'}, 'tempm': '-5.0', 'tempi': '23.0', 'dewptm': '-6.0', 'dewpti': '21.2', 'hum': '93', 'wspdm': '0.0', 'wspdi': '0.0', 'wgustm': '-9999.0', 'wgusti': '-9999.0', 'wdird': '0', 'wdire': 'North', 'vism': '-9999.0', 'visi': '-9999.0', 'pressurem': '1021', 'pressurei': '30.15', 'windchillm': '-999', 'windchilli': '-999', 'heatindexm': '-9999', 'heatindexi': '-9999', 'precipm': '-9999.00', 'precipi': '-9999.00', 'conds': 'Light Freezing Fog', 'icon': 'fog', 'fog': '1', 'rain': '0', 'snow': '0', 'hail': '0', 'thunder': '0', 'tornado': '0', 'metar': 'METAR ENGM 200450Z 00000KT 0550 R19R/0700N R01R/0800N FZFG VV002 M05/M06 Q1021 NOSIG'}, {'date': {'pretty': '6:00 AM CET on December 20, 2017', 'year': '2017', 'mon': '12', 'mday': '20', 'hour': '06', 'min': '00', 'tzname': 'Europe/Oslo'}, 'utcdate': {'pretty': '5:00 AM GMT on December 20, 2017', 'year': '2017', 'mon': '12', 'mday': '20', 'hour': '05', 'min': '00', 'tzname': 'UTC'}, 'tempm': '-4', 'tempi': '24', 'dewptm': '-5', 'dewpti': '24', 'hum': '97', 'wspdm': '0.0', 'wspdi': '0.0', 'wgustm': '', 'wgusti': '', 'wdird': '', 'wdire': '', 'vism': '0.2', 'visi': '0', 'pressurem': '', 'pressurei': '', 'windchillm': '-999', 'windchilli': '-999', 'heatindexm': '-9999', 'heatindexi': '-9999', 'precipm': '', 'precipi': '', 'conds': '', 'icon': '', 'fog': '0', 'rain': '0', 'snow': '0', 'hail': '0', 'thunder': '0', 'tornado': '0', 'metar': 'AAXX 20051 01384 46102 /0000 11043 21047 57013'}, {'date': {'pretty': '6:20 AM CET on December 20, 2017', 'year': '2017', 'mon': '12', 'mday': '20', 'hour': '06', 'min': '20', 'tzname': 'Europe/Oslo'}, 'utcdate': {'pretty': '5:20 AM GMT on December 20, 2017', 'year': '2017', 'mon': '12', 'mday': '20', 'hour': '05', 'min': '20', 'tzname': 'UTC'}, 'tempm': '-5.0', 'tempi': '23.0', 'dewptm': '-6.0', 'dewpti': '21.2', 'hum': '93', 'wspdm': '1.9', 'wspdi': '1.2', 'wgustm': '-9999.0', 'wgusti': '-9999.0', 'wdird': '360', 'wdire': 'North', 'vism': '0.6', 'visi': '0.4', 'pressurem': '1021', 'pressurei': '30.15', 'windchillm': '-999', 'windchilli': '-999', 'heatindexm': '-9999', 'heatindexi': '-9999', 'precipm': '-9999.00', 'precipi': '-9999.00', 'conds': 'Light Freezing Fog', 'icon': 'fog', 'fog': '1', 'rain': '0', 'snow': '0', 'hail': '0', 'thunder': '0', 'tornado': '0', 'metar': 'METAR ENGM 200520Z 36001KT 0600 R19R/0800D R01R/0900N FZFG VV002 M05/M06 Q1021 NOSIG'}, {'date': {'pretty': '6:50 AM CET on December 20, 2017', 'year': '2017', 'mon': '12', 'mday': '20', 'hour': '06', 'min': '50', 'tzname': 'Europe/Oslo'}, 'utcdate': {'pretty': '5:50 AM GMT on December 20, 2017', 'year': '2017', 'mon': '12', 'mday': '20', 'hour': '05', 'min': '50', 'tzname': 'UTC'}, 'tempm': '-5.0', 'tempi': '23.0', 'dewptm': '-6.0', 'dewpti': '21.2', 'hum': '93', 'wspdm': '0.0', 'wspdi': '0.0', 'wgustm': '-9999.0', 'wgusti': '-9999.0', 'wdird': '0', 'wdire': 'North', 'vism': '0.6', 'visi': '0.4', 'pressurem': '1021', 'pressurei': '30.15', 'windchillm': '-999', 'windchilli': '-999', 'heatindexm': '-9999', 'heatindexi': '-9999', 'precipm': '-9999.00', 'precipi': '-9999.00', 'conds': 'Light Freezing Fog', 'icon': 'fog', 'fog': '1', 'rain': '0', 'snow': '0', 'hail': '0', 'thunder': '0', 'tornado': '0', 'metar': 'METAR ENGM 200550Z 00000KT 0600 R19R/0800D R01R/0800U FZFG VV001 M05/M06 Q1021 TEMPO 0400 FZFG VV002'}, {'date': {'pretty': '7:00 AM CET on December 20, 2017', 'year': '2017', 'mon': '12', 'mday': '20', 'hour': '07', 'min': '00', 'tzname': 'Europe/Oslo'}, 'utcdate': {'pretty': '6:00 AM GMT on December 20, 2017', 'year': '2017', 'mon': '12', 'mday': '20', 'hour': '06', 'min': '00', 'tzname': 'UTC'}, 'tempm': '-4', 'tempi': '24', 'dewptm': '-5', 'dewpti': '24', 'hum': '98', 'wspdm': '0.0', 'wspdi': '0.0', 'wgustm': '', 'wgusti': '', 'wdird': '', 'wdire': '', 'vism': '0.5', 'visi': '0', 'pressurem': '', 'pressurei': '', 'windchillm': '-999', 'windchilli': '-999', 'heatindexm': '-9999', 'heatindexi': '-9999', 'precipm': '', 'precipi': '', 'conds': 'Heavy Fog', 'icon': 'fog', 'fog': '1', 'rain': '0', 'snow': '0', 'hail': '0', 'thunder': '0', 'tornado': '0', 'metar': 'AAXX 20061 01384 11X05 90000 11042 21046 58018 69922 74544 333 70002'}, {'date': {'pretty': '7:20 AM CET on December 20, 2017', 'year': '2017', 'mon': '12', 'mday': '20', 'hour': '07', 'min': '20', 'tzname': 'Europe/Oslo'}, 'utcdate': {'pretty': '6:20 AM GMT on December 20, 2017', 'year': '2017', 'mon': '12', 'mday': '20', 'hour': '06', 'min': '20', 'tzname': 'UTC'}, 'tempm': '-5.0', 'tempi': '23.0', 'dewptm': '-6.0', 'dewpti': '21.2', 'hum': '93', 'wspdm': '1.9', 'wspdi': '1.2', 'wgustm': '-9999.0', 'wgusti': '-9999.0', 'wdird': '0', 'wdire': 'Variable', 'vism': '0.6', 'visi': '0.4', 'pressurem': '1020', 'pressurei': '30.12', 'windchillm': '-999', 'windchilli': '-999', 'heatindexm': '-9999', 'heatindexi': '-9999', 'precipm': '-9999.00', 'precipi': '-9999.00', 'conds': 'Light Freezing Fog', 'icon': 'fog', 'fog': '1', 'rain': '0', 'snow': '0', 'hail': '0', 'thunder': '0', 'tornado': '0', 'metar': 'METAR ENGM 200620Z VRB01KT 0600 R19R/2000U R01R/1000U FZFG VV002 M05/M06 Q1020 TEMPO 0900 FZFG'}, {'date': {'pretty': '7:50 AM CET on December 20, 2017', 'year': '2017', 'mon': '12', 'mday': '20', 'hour': '07', 'min': '50', 'tzname': 'Europe/Oslo'}, 'utcdate': {'pretty': '6:50 AM GMT on December 20, 2017', 'year': '2017', 'mon': '12', 'mday': '20', 'hour': '06', 'min': '50', 'tzname': 'UTC'}, 'tempm': '-5.0', 'tempi': '23.0', 'dewptm': '-6.0', 'dewpti': '21.2', 'hum': '93', 'wspdm': '1.9', 'wspdi': '1.2', 'wgustm': '-9999.0', 'wgusti': '-9999.0', 'wdird': '0', 'wdire': 'Variable', 'vism': '1.2', 'visi': '0.7', 'pressurem': '1020', 'pressurei': '30.12', 'windchillm': '-999', 'windchilli': '-999', 'heatindexm': '-9999', 'heatindexi': '-9999', 'precipm': '-9999.00', 'precipi': '-9999.00', 'conds': 'Light Freezing Fog', 'icon': 'fog', 'fog': '1', 'rain': '0', 'snow': '0', 'hail': '0', 'thunder': '0', 'tornado': '0', 'metar': 'METAR ENGM 200650Z VRB01KT 1200 0600NE R19R/1500U R01R/1900U FZFG VV002 M05/M06 Q1020 TEMPO 0600 FZFG'}, {'date': {'pretty': '8:00 AM CET on December 20, 2017', 'year': '2017', 'mon': '12', 'mday': '20', 'hour': '08', 'min': '00', 'tzname': 'Europe/Oslo'}, 'utcdate': {'pretty': '7:00 AM GMT on December 20, 2017', 'year': '2017', 'mon': '12', 'mday': '20', 'hour': '07', 'min': '00', 'tzname': 'UTC'}, 'tempm': '-4', 'tempi': '24', 'dewptm': '-5', 'dewpti': '23', 'hum': '96', 'wspdm': '3.6', 'wspdi': '2.2', 'wgustm': '', 'wgusti': '', 'wdird': '10', 'wdire': 'North', 'vism': '0.4', 'visi': '0', 'pressurem': '', 'pressurei': '', 'windchillm': '-999', 'windchilli': '-999', 'heatindexm': '-9999', 'heatindexi': '-9999', 'precipm': '', 'precipi': '', 'conds': '', 'icon': '', 'fog': '0', 'rain': '0', 'snow': '0', 'hail': '0', 'thunder': '0', 'tornado': '0', 'metar': 'AAXX 20071 01384 46/04 /0101 11044 21048 57016'}, {'date': {'pretty': '8:20 AM CET on December 20, 2017', 'year': '2017', 'mon': '12', 'mday': '20', 'hour': '08', 'min': '20', 'tzname': 'Europe/Oslo'}, 'utcdate': {'pretty': '7:20 AM GMT on December 20, 2017', 'year': '2017', 'mon': '12', 'mday': '20', 'hour': '07', 'min': '20', 'tzname': 'UTC'}, 'tempm': '-5.0', 'tempi': '23.0', 'dewptm': '-6.0', 'dewpti': '21.2', 'hum': '93', 'wspdm': '1.9', 'wspdi': '1.2', 'wgustm': '-9999.0', 'wgusti': '-9999.0', 'wdird': '0', 'wdire': 'Variable', 'vism': '1.3', 'visi': '0.8', 'pressurem': '1020', 'pressurei': '30.12', 'windchillm': '-999', 'windchilli': '-999', 'heatindexm': '-9999', 'heatindexi': '-9999', 'precipm': '-9999.00', 'precipi': '-9999.00', 'conds': 'Light Freezing Fog', 'icon': 'fog', 'fog': '1', 'rain': '0', 'snow': '0', 'hail': '0', 'thunder': '0', 'tornado': '0', 'metar': 'METAR ENGM 200720Z VRB01KT 1300 0600E R19R/P2000N R01R/0700D FZFG VV002 M05/M06 Q1020 TEMPO 0600 FZFG'}, {'date': {'pretty': '8:50 AM CET on December 20, 2017', 'year': '2017', 'mon': '12', 'mday': '20', 'hour': '08', 'min': '50', 'tzname': 'Europe/Oslo'}, 'utcdate': {'pretty': '7:50 AM GMT on December 20, 2017', 'year': '2017', 'mon': '12', 'mday': '20', 'hour': '07', 'min': '50', 'tzname': 'UTC'}, 'tempm': '-4.0', 'tempi': '24.8', 'dewptm': '-5.0', 'dewpti': '23.0', 'hum': '93', 'wspdm': '0.0', 'wspdi': '0.0', 'wgustm': '-9999.0', 'wgusti': '-9999.0', 'wdird': '0', 'wdire': 'North', 'vism': '0.7', 'visi': '0.4', 'pressurem': '1020', 'pressurei': '30.12', 'windchillm': '-999', 'windchilli': '-999', 'heatindexm': '-9999', 'heatindexi': '-9999', 'precipm': '-9999.00', 'precipi': '-9999.00', 'conds': 'Light Freezing Fog', 'icon': 'fog', 'fog': '1', 'rain': '0', 'snow': '0', 'hail': '0', 'thunder': '0', 'tornado': '0', 'metar': 'METAR ENGM 200750Z 00000KT 0700 R19R/1400U R01R/0600N FZFG VV001 M04/M05 Q1020 TEMPO 0900 FZFG VV002'}, {'date': {'pretty': '9:00 AM CET on December 20, 2017', 'year': '2017', 'mon': '12', 'mday': '20', 'hour': '09', 'min': '00', 'tzname': 'Europe/Oslo'}, 'utcdate': {'pretty': '8:00 AM GMT on December 20, 2017', 'year': '2017', 'mon': '12', 'mday': '20', 'hour': '08', 'min': '00', 'tzname': 'UTC'}, 'tempm': '-4', 'tempi': '26', 'dewptm': '-4', 'dewpti': '25', 'hum': '95', 'wspdm': '0.0', 'wspdi': '0.0', 'wgustm': '', 'wgusti': '', 'wdird': '', 'wdire': '', 'vism': '0.1', 'visi': '0', 'pressurem': '', 'pressurei': '', 'windchillm': '-999', 'windchilli': '-999', 'heatindexm': '-9999', 'heatindexi': '-9999', 'precipm': '', 'precipi': '', 'conds': '', 'icon': '', 'fog': '0', 'rain': '0', 'snow': '0', 'hail': '0', 'thunder': '0', 'tornado': '0', 'metar': 'AAXX 20081 01384 46/01 /0000 11036 21038 56014'}, {'date': {'pretty': '9:20 AM CET on December 20, 2017', 'year': '2017', 'mon': '12', 'mday': '20', 'hour': '09', 'min': '20', 'tzname': 'Europe/Oslo'}, 'utcdate': {'pretty': '8:20 AM GMT on December 20, 2017', 'year': '2017', 'mon': '12', 'mday': '20', 'hour': '08', 'min': '20', 'tzname': 'UTC'}, 'tempm': '-4.0', 'tempi': '24.8', 'dewptm': '-5.0', 'dewpti': '23.0', 'hum': '93', 'wspdm': '0.0', 'wspdi': '0.0', 'wgustm': '-9999.0', 'wgusti': '-9999.0', 'wdird': '0', 'wdire': 'North', 'vism': '1.2', 'visi': '0.7', 'pressurem': '1020', 'pressurei': '30.12', 'windchillm': '-999', 'windchilli': '-999', 'heatindexm': '-9999', 'heatindexi': '-9999', 'precipm': '-9999.00', 'precipi': '-9999.00', 'conds': 'Light Freezing Fog', 'icon': 'fog', 'fog': '1', 'rain': '0', 'snow': '0', 'hail': '0', 'thunder': '0', 'tornado': '0', 'metar': 'METAR ENGM 200820Z 00000KT 1200 0350E R19R/1700U R01R/0400N FZFG VV002 M04/M05 Q1020 TEMPO 0600 FZFG VV001'}, {'date': {'pretty': '9:50 AM CET on December 20, 2017', 'year': '2017', 'mon': '12', 'mday': '20', 'hour': '09', 'min': '50', 'tzname': 'Europe/Oslo'}, 'utcdate': {'pretty': '8:50 AM GMT on December 20, 2017', 'year': '2017', 'mon': '12', 'mday': '20', 'hour': '08', 'min': '50', 'tzname': 'UTC'}, 'tempm': '-4.0', 'tempi': '24.8', 'dewptm': '-5.0', 'dewpti': '23.0', 'hum': '93', 'wspdm': '0.0', 'wspdi': '0.0', 'wgustm': '-9999.0', 'wgusti': '-9999.0', 'wdird': '0', 'wdire': 'North', 'vism': '0.3', 'visi': '0.2', 'pressurem': '1019', 'pressurei': '30.09', 'windchillm': '-999', 'windchilli': '-999', 'heatindexm': '-9999', 'heatindexi': '-9999', 'precipm': '-9999.00', 'precipi': '-9999.00', 'conds': 'Light Freezing Fog', 'icon': 'fog', 'fog': '1', 'rain': '0', 'snow': '0', 'hail': '0', 'thunder': '0', 'tornado': '0', 'metar': 'METAR ENGM 200850Z 00000KT 0300 R19R/P2000N R01R/0300N FZFG VV001 M04/M05 Q1019 TEMPO 0600 FZFG VV002'}, {'date': {'pretty': '10:00 AM CET on December 20, 2017', 'year': '2017', 'mon': '12', 'mday': '20', 'hour': '10', 'min': '00', 'tzname': 'Europe/Oslo'}, 'utcdate': {'pretty': '9:00 AM GMT on December 20, 2017', 'year': '2017', 'mon': '12', 'mday': '20', 'hour': '09', 'min': '00', 'tzname': 'UTC'}, 'tempm': '-3', 'tempi': '26', 'dewptm': '-4', 'dewpti': '26', 'hum': '97', 'wspdm': '0.0', 'wspdi': '0.0', 'wgustm': '', 'wgusti': '', 'wdird': '', 'wdire': '', 'vism': '0.3', 'visi': '0', 'pressurem': '', 'pressurei': '', 'windchillm': '-999', 'windchilli': '-999', 'heatindexm': '-9999', 'heatindexi': '-9999', 'precipm': '', 'precipi': '', 'conds': 'Heavy Fog', 'icon': 'fog', 'fog': '1', 'rain': '0', 'snow': '0', 'hail': '0', 'thunder': '0', 'tornado': '0', 'metar': 'AAXX 20091 01384 41/03 90000 11034 21036 57010 74544'}, {'date': {'pretty': '10:20 AM CET on December 20, 2017', 'year': '2017', 'mon': '12', 'mday': '20', 'hour': '10', 'min': '20', 'tzname': 'Europe/Oslo'}, 'utcdate': {'pretty': '9:20 AM GMT on December 20, 2017', 'year': '2017', 'mon': '12', 'mday': '20', 'hour': '09', 'min': '20', 'tzname': 'UTC'}, 'tempm': '-4.0', 'tempi': '24.8', 'dewptm': '-5.0', 'dewpti': '23.0', 'hum': '93', 'wspdm': '0.0', 'wspdi': '0.0', 'wgustm': '-9999.0', 'wgusti': '-9999.0', 'wdird': '0', 'wdire': 'North', 'vism': '0.4', 'visi': '0.3', 'pressurem': '1019', 'pressurei': '30.09', 'windchillm': '-999', 'windchilli': '-999', 'heatindexm': '-9999', 'heatindexi': '-9999', 'precipm': '-9999.00', 'precipi': '-9999.00', 'conds': 'Light Freezing Drizzle', 'icon': 'rain', 'fog': '0', 'rain': '0', 'snow': '0', 'hail': '0', 'thunder': '0', 'tornado': '0', 'metar': 'METAR ENGM 200920Z 00000KT 0450 R19R/1100D R01R/0300N -FZDZ VV001 M04/M05 Q1019 TEMPO 1200 -FZDZ BCFG VV002'}, {'date': {'pretty': '10:50 AM CET on December 20, 2017', 'year': '2017', 'mon': '12', 'mday': '20', 'hour': '10', 'min': '50', 'tzname': 'Europe/Oslo'}, 'utcdate': {'pretty': '9:50 AM GMT on December 20, 2017', 'year': '2017', 'mon': '12', 'mday': '20', 'hour': '09', 'min': '50', 'tzname': 'UTC'}, 'tempm': '-4.0', 'tempi': '24.8', 'dewptm': '-5.0', 'dewpti': '23.0', 'hum': '93', 'wspdm': '0.0', 'wspdi': '0.0', 'wgustm': '-9999.0', 'wgusti': '-9999.0', 'wdird': '0', 'wdire': 'North', 'vism': '0.3', 'visi': '0.2', 'pressurem': '1019', 'pressurei': '30.09', 'windchillm': '-999', 'windchilli': '-999', 'heatindexm': '-9999', 'heatindexi': '-9999', 'precipm': '-9999.00', 'precipi': '-9999.00', 'conds': 'Light Freezing Rain', 'icon': 'sleet', 'fog': '1', 'rain': '1', 'snow': '0', 'hail': '0', 'thunder': '0', 'tornado': '0', 'metar': 'METAR ENGM 200950Z 00000KT 0300 R19R/0650U R01R/0275N -FZRA FZFG VV001 M04/M05 Q1019 TEMPO 0500 -FZRA FZFG VV002'}, {'date': {'pretty': '11:00 AM CET on December 20, 2017', 'year': '2017', 'mon': '12', 'mday': '20', 'hour': '11', 'min': '00', 'tzname': 'Europe/Oslo'}, 'utcdate': {'pretty': '10:00 AM GMT on December 20, 2017', 'year': '2017', 'mon': '12', 'mday': '20', 'hour': '10', 'min': '00', 'tzname': 'UTC'}, 'tempm': '-3', 'tempi': '26', 'dewptm': '-3', 'dewpti': '26', 'hum': '100', 'wspdm': '0.0', 'wspdi': '0.0', 'wgustm': '', 'wgusti': '', 'wdird': '', 'wdire': '', 'vism': '0.1', 'visi': '0', 'pressurem': '', 'pressurei': '', 'windchillm': '-999', 'windchilli': '-999', 'heatindexm': '-9999', 'heatindexi': '-9999', 'precipm': '', 'precipi': '', 'conds': '', 'icon': '', 'fog': '0', 'rain': '0', 'snow': '0', 'hail': '0', 'thunder': '0', 'tornado': '0', 'metar': 'AAXX 20101 01384 46/01 /0000 11031 21033 57009'}, {'date': {'pretty': '11:20 AM CET on December 20, 2017', 'year': '2017', 'mon': '12', 'mday': '20', 'hour': '11', 'min': '20', 'tzname': 'Europe/Oslo'}, 'utcdate': {'pretty': '10:20 AM GMT on December 20, 2017', 'year': '2017', 'mon': '12', 'mday': '20', 'hour': '10', 'min': '20', 'tzname': 'UTC'}, 'tempm': '-3.0', 'tempi': '26.6', 'dewptm': '-4.0', 'dewpti': '24.8', 'hum': '93', 'wspdm': '0.0', 'wspdi': '0.0', 'wgustm': '-9999.0', 'wgusti': '-9999.0', 'wdird': '0', 'wdire': 'North', 'vism': '0.3', 'visi': '0.2', 'pressurem': '1019', 'pressurei': '30.09', 'windchillm': '-999', 'windchilli': '-999', 'heatindexm': '-9999', 'heatindexi': '-9999', 'precipm': '-9999.00', 'precipi': '-9999.00', 'conds': 'Light Freezing Rain', 'icon': 'sleet', 'fog': '1', 'rain': '1', 'snow': '0', 'hail': '0', 'thunder': '0', 'tornado': '0', 'metar': 'METAR ENGM 201020Z 00000KT 0350 R19R/0700U R01R/0350N -FZRA FZFG VV001 M03/M04 Q1019 TEMPO 0600 -FZRA FZFG VV002'}, {'date': {'pretty': '11:50 AM CET on December 20, 2017', 'year': '2017', 'mon': '12', 'mday': '20', 'hour': '11', 'min': '50', 'tzname': 'Europe/Oslo'}, 'utcdate': {'pretty': '10:50 AM GMT on December 20, 2017', 'year': '2017', 'mon': '12', 'mday': '20', 'hour': '10', 'min': '50', 'tzname': 'UTC'}, 'tempm': '-3.0', 'tempi': '26.6', 'dewptm': '-4.0', 'dewpti': '24.8', 'hum': '93', 'wspdm': '0.0', 'wspdi': '0.0', 'wgustm': '-9999.0', 'wgusti': '-9999.0', 'wdird': '0', 'wdire': 'North', 'vism': '0.5', 'visi': '0.3', 'pressurem': '1018', 'pressurei': '30.06', 'windchillm': '-999', 'windchilli': '-999', 'heatindexm': '-9999', 'heatindexi': '-9999', 'precipm': '-9999.00', 'precipi': '-9999.00', 'conds': 'Light Freezing Rain', 'icon': 'sleet', 'fog': '1', 'rain': '1', 'snow': '0', 'hail': '0', 'thunder': '0', 'tornado': '0', 'metar': 'METAR ENGM 201050Z 00000KT 0500 R19R/P2000N R01R/0750N -FZRA FZFG VV002 M03/M04 Q1018 TEMPO 0900 -FZRA FZFG'}, {'date': {'pretty': '12:00 PM CET on December 20, 2017', 'year': '2017', 'mon': '12', 'mday': '20', 'hour': '12', 'min': '00', 'tzname': 'Europe/Oslo'}, 'utcdate': {'pretty': '11:00 AM GMT on December 20, 2017', 'year': '2017', 'mon': '12', 'mday': '20', 'hour': '11', 'min': '00', 'tzname': 'UTC'}, 'tempm': '-2', 'tempi': '28', 'dewptm': '-2', 'dewpti': '28', 'hum': '100', 'wspdm': '0.0', 'wspdi': '0.0', 'wgustm': '', 'wgusti': '', 'wdird': '', 'wdire': '', 'vism': '0.6', 'visi': '0', 'pressurem': '', 'pressurei': '', 'windchillm': '-999', 'windchilli': '-999', 'heatindexm': '-9999', 'heatindexi': '-9999', 'precipm': '', 'precipi': '', 'conds': '', 'icon': '', 'fog': '0', 'rain': '0', 'snow': '0', 'hail': '0', 'thunder': '0', 'tornado': '0', 'metar': 'AAXX 20111 01384 46206 /0000 11021 21022 58013'}, {'date': {'pretty': '12:20 PM CET on December 20, 2017', 'year': '2017', 'mon': '12', 'mday': '20', 'hour': '12', 'min': '20', 'tzname': 'Europe/Oslo'}, 'utcdate': {'pretty': '11:20 AM GMT on December 20, 2017', 'year': '2017', 'mon': '12', 'mday': '20', 'hour': '11', 'min': '20', 'tzname': 'UTC'}, 'tempm': '-3.0', 'tempi': '26.6', 'dewptm': '-4.0', 'dewpti': '24.8', 'hum': '93', 'wspdm': '0.0', 'wspdi': '0.0', 'wgustm': '-9999.0', 'wgusti': '-9999.0', 'wdird': '0', 'wdire': 'North', 'vism': '1.1', 'visi': '0.7', 'pressurem': '1018', 'pressurei': '30.06', 'windchillm': '-999', 'windchilli': '-999', 'heatindexm': '-9999', 'heatindexi': '-9999', 'precipm': '-9999.00', 'precipi': '-9999.00', 'conds': 'Light Freezing Fog', 'icon': 'fog', 'fog': '1', 'rain': '0', 'snow': '0', 'hail': '0', 'thunder': '0', 'tornado': '0', 'metar': 'METAR ENGM 201120Z 00000KT 1100 0450NE R19R/1900D R01R/0900N FZFG FEW002 OVC006 M03/M04 Q1018 TEMPO 0600 -FZRA FZFG VV002'}, {'date': {'pretty': '12:50 PM CET on December 20, 2017', 'year': '2017', 'mon': '12', 'mday': '20', 'hour': '12', 'min': '50', 'tzname': 'Europe/Oslo'}, 'utcdate': {'pretty': '11:50 AM GMT on December 20, 2017', 'year': '2017', 'mon': '12', 'mday': '20', 'hour': '11', 'min': '50', 'tzname': 'UTC'}, 'tempm': '-3.0', 'tempi': '26.6', 'dewptm': '-3.0', 'dewpti': '26.6', 'hum': '100', 'wspdm': '1.9', 'wspdi': '1.2', 'wgustm': '-9999.0', 'wgusti': '-9999.0', 'wdird': '0', 'wdire': 'Variable', 'vism': '2.3', 'visi': '1.4', 'pressurem': '1018', 'pressurei': '30.06', 'windchillm': '-999', 'windchilli': '-999', 'heatindexm': '-9999', 'heatindexi': '-9999', 'precipm': '-9999.00', 'precipi': '-9999.00', 'conds': 'Patches of Fog', 'icon': 'fog', 'fog': '1', 'rain': '0', 'snow': '0', 'hail': '0', 'thunder': '0', 'tornado': '0', 'metar': 'METAR ENGM 201150Z VRB01KT 2300 0450NE R19R/P2000N R01R/1100U BCFG BR SCT002 OVC004 M03/M03 Q1018 TEMPO 1200 -FZRA BCFG'}, {'date': {'pretty': '1:00 PM CET on December 20, 2017', 'year': '2017', 'mon': '12', 'mday': '20', 'hour': '13', 'min': '00', 'tzname': 'Europe/Oslo'}, 'utcdate': {'pretty': '12:00 PM GMT on December 20, 2017', 'year': '2017', 'mon': '12', 'mday': '20', 'hour': '12', 'min': '00', 'tzname': 'UTC'}, 'tempm': '-2', 'tempi': '29', 'dewptm': '-2', 'dewpti': '29', 'hum': '99', 'wspdm': '0.0', 'wspdi': '0.0', 'wgustm': '', 'wgusti': '', 'wdird': '', 'wdire': '', 'vism': '2.3', 'visi': '1', 'pressurem': '', 'pressurei': '', 'windchillm': '-999', 'windchilli': '-999', 'heatindexm': '-9999', 'heatindexi': '-9999', 'precipm': '', 'precipi': '', 'conds': 'Light Freezing Drizzle', 'icon': 'rain', 'fog': '0', 'rain': '1', 'snow': '0', 'hail': '0', 'thunder': '0', 'tornado': '0', 'metar': 'AAXX 20121 01384 11X23 90000 11017 21018 56010 69931 72464'}, {'date': {'pretty': '1:20 PM CET on December 20, 2017', 'year': '2017', 'mon': '12', 'mday': '20', 'hour': '13', 'min': '20', 'tzname': 'Europe/Oslo'}, 'utcdate': {'pretty': '12:20 PM GMT on December 20, 2017', 'year': '2017', 'mon': '12', 'mday': '20', 'hour': '12', 'min': '20', 'tzname': 'UTC'}, 'tempm': '-2.0', 'tempi': '28.4', 'dewptm': '-3.0', 'dewpti': '26.6', 'hum': '93', 'wspdm': '0.0', 'wspdi': '0.0', 'wgustm': '-9999.0', 'wgusti': '-9999.0', 'wdird': '0', 'wdire': 'North', 'vism': '2.0', 'visi': '1.2', 'pressurem': '1018', 'pressurei': '30.06', 'windchillm': '-999', 'windchilli': '-999', 'heatindexm': '-9999', 'heatindexi': '-9999', 'precipm': '-9999.00', 'precipi': '-9999.00', 'conds': 'Mostly Cloudy', 'icon': 'mostlycloudy', 'fog': '0', 'rain': '0', 'snow': '0', 'hail': '0', 'thunder': '0', 'tornado': '0', 'metar': 'METAR ENGM 201220Z 00000KT 2000 0500E R19R/P2000N R01R/1100D -FZRA PRFG BR BKN002 M02/M03 Q1018 TEMPO 1200 -FZRA BCFG'}, {'date': {'pretty': '1:50 PM CET on December 20, 2017', 'year': '2017', 'mon': '12', 'mday': '20', 'hour': '13', 'min': '50', 'tzname': 'Europe/Oslo'}, 'utcdate': {'pretty': '12:50 PM GMT on December 20, 2017', 'year': '2017', 'mon': '12', 'mday': '20', 'hour': '12', 'min': '50', 'tzname': 'UTC'}, 'tempm': '-2.0', 'tempi': '28.4', 'dewptm': '-3.0', 'dewpti': '26.6', 'hum': '93', 'wspdm': '0.0', 'wspdi': '0.0', 'wgustm': '-9999.0', 'wgusti': '-9999.0', 'wdird': '0', 'wdire': 'North', 'vism': '4.0', 'visi': '2.5', 'pressurem': '1018', 'pressurei': '30.06', 'windchillm': '-999', 'windchilli': '-999', 'heatindexm': '-9999', 'heatindexi': '-9999', 'precipm': '-9999.00', 'precipi': '-9999.00', 'conds': 'Mostly Cloudy', 'icon': 'mostlycloudy', 'fog': '0', 'rain': '0', 'snow': '0', 'hail': '0', 'thunder': '0', 'tornado': '0', 'metar': 'METAR ENGM 201250Z 00000KT 4000 R19R/P2000N R01R/1200U BR SCT002 BKN096 M02/M03 Q1018 TEMPO 2000 -FZRA BR BKN002'}, {'date': {'pretty': '2:00 PM CET on December 20, 2017', 'year': '2017', 'mon': '12', 'mday': '20', 'hour': '14', 'min': '00', 'tzname': 'Europe/Oslo'}, 'utcdate': {'pretty': '1:00 PM GMT on December 20, 2017', 'year': '2017', 'mon': '12', 'mday': '20', 'hour': '13', 'min': '00', 'tzname': 'UTC'}, 'tempm': '-1', 'tempi': '30', 'dewptm': '-1', 'dewpti': '29', 'hum': '97', 'wspdm': '3.6', 'wspdi': '2.2', 'wgustm': '', 'wgusti': '', 'wdird': '240', 'wdire': 'WSW', 'vism': '0.7', 'visi': '0', 'pressurem': '', 'pressurei': '', 'windchillm': '-999', 'windchilli': '-999', 'heatindexm': '-9999', 'heatindexi': '-9999', 'precipm': '', 'precipi': '', 'conds': '', 'icon': '', 'fog': '0', 'rain': '0', 'snow': '0', 'hail': '0', 'thunder': '0', 'tornado': '0', 'metar': 'AAXX 20131 01384 46907 /2401 11013 21014 56010'}, {'date': {'pretty': '2:20 PM CET on December 20, 2017', 'year': '2017', 'mon': '12', 'mday': '20', 'hour': '14', 'min': '20', 'tzname': 'Europe/Oslo'}, 'utcdate': {'pretty': '1:20 PM GMT on December 20, 2017', 'year': '2017', 'mon': '12', 'mday': '20', 'hour': '13', 'min': '20', 'tzname': 'UTC'}, 'tempm': '-2.0', 'tempi': '28.4', 'dewptm': '-3.0', 'dewpti': '26.6', 'hum': '93', 'wspdm': '0.0', 'wspdi': '0.0', 'wgustm': '-9999.0', 'wgusti': '-9999.0', 'wdird': '0', 'wdire': 'North', 'vism': '5.0', 'visi': '3.1', 'pressurem': '1018', 'pressurei': '30.06', 'windchillm': '-999', 'windchilli': '-999', 'heatindexm': '-9999', 'heatindexi': '-9999', 'precipm': '-9999.00', 'precipi': '-9999.00', 'conds': 'Mostly Cloudy', 'icon': 'mostlycloudy', 'fog': '0', 'rain': '0', 'snow': '0', 'hail': '0', 'thunder': '0', 'tornado': '0', 'metar': 'METAR ENGM 201320Z 00000KT 5000 R19R/P2000N R01R/1200N BR SCT002 BKN096 M02/M03 Q1018 TEMPO 2000 BR BKN002'}, {'date': {'pretty': '2:50 PM CET on December 20, 2017', 'year': '2017', 'mon': '12', 'mday': '20', 'hour': '14', 'min': '50', 'tzname': 'Europe/Oslo'}, 'utcdate': {'pretty': '1:50 PM GMT on December 20, 2017', 'year': '2017', 'mon': '12', 'mday': '20', 'hour': '13', 'min': '50', 'tzname': 'UTC'}, 'tempm': '-2.0', 'tempi': '28.4', 'dewptm': '-3.0', 'dewpti': '26.6', 'hum': '93', 'wspdm': '0.0', 'wspdi': '0.0', 'wgustm': '-9999.0', 'wgusti': '-9999.0', 'wdird': '0', 'wdire': 'North', 'vism': '5.0', 'visi': '3.1', 'pressurem': '1018', 'pressurei': '30.06', 'windchillm': '-999', 'windchilli': '-999', 'heatindexm': '-9999', 'heatindexi': '-9999', 'precipm': '-9999.00', 'precipi': '-9999.00', 'conds': 'Mostly Cloudy', 'icon': 'mostlycloudy', 'fog': '0', 'rain': '0', 'snow': '0', 'hail': '0', 'thunder': '0', 'tornado': '0', 'metar': 'METAR ENGM 201350Z 00000KT 5000 BR BKN003 M02/M03 Q1018 TEMPO 3000 BR'}, {'date': {'pretty': '3:00 PM CET on December 20, 2017', 'year': '2017', 'mon': '12', 'mday': '20', 'hour': '15', 'min': '00', 'tzname': 'Europe/Oslo'}, 'utcdate': {'pretty': '2:00 PM GMT on December 20, 2017', 'year': '2017', 'mon': '12', 'mday': '20', 'hour': '14', 'min': '00', 'tzname': 'UTC'}, 'tempm': '-2', 'tempi': '29', 'dewptm': '-2', 'dewpti': '29', 'hum': '99', 'wspdm': '0.0', 'wspdi': '0.0', 'wgustm': '', 'wgusti': '', 'wdird': '', 'wdire': '', 'vism': '6', 'visi': '4', 'pressurem': '', 'pressurei': '', 'windchillm': '-999', 'windchilli': '-999', 'heatindexm': '-9999', 'heatindexi': '-9999', 'precipm': '', 'precipi': '', 'conds': '', 'icon': '', 'fog': '0', 'rain': '0', 'snow': '0', 'hail': '0', 'thunder': '0', 'tornado': '0', 'metar': 'AAXX 20141 01384 46156 /0000 11017 21018 58007'}, {'date': {'pretty': '3:20 PM CET on December 20, 2017', 'year': '2017', 'mon': '12', 'mday': '20', 'hour': '15', 'min': '20', 'tzname': 'Europe/Oslo'}, 'utcdate': {'pretty': '2:20 PM GMT on December 20, 2017', 'year': '2017', 'mon': '12', 'mday': '20', 'hour': '14', 'min': '20', 'tzname': 'UTC'}, 'tempm': '-2.0', 'tempi': '28.4', 'dewptm': '-3.0', 'dewpti': '26.6', 'hum': '93', 'wspdm': '0.0', 'wspdi': '0.0', 'wgustm': '-9999.0', 'wgusti': '-9999.0', 'wdird': '0', 'wdire': 'North', 'vism': '5.0', 'visi': '3.1', 'pressurem': '1018', 'pressurei': '30.06', 'windchillm': '-999', 'windchilli': '-999', 'heatindexm': '-9999', 'heatindexi': '-9999', 'precipm': '-9999.00', 'precipi': '-9999.00', 'conds': 'Overcast', 'icon': 'cloudy', 'fog': '0', 'rain': '0', 'snow': '0', 'hail': '0', 'thunder': '0', 'tornado': '0', 'metar': 'METAR ENGM 201420Z 00000KT 5000 BR OVC002 M02/M03 Q1018 TEMPO 3000 BR'}, {'date': {'pretty': '3:50 PM CET on December 20, 2017', 'year': '2017', 'mon': '12', 'mday': '20', 'hour': '15', 'min': '50', 'tzname': 'Europe/Oslo'}, 'utcdate': {'pretty': '2:50 PM GMT on December 20, 2017', 'year': '2017', 'mon': '12', 'mday': '20', 'hour': '14', 'min': '50', 'tzname': 'UTC'}, 'tempm': '-2.0', 'tempi': '28.4', 'dewptm': '-3.0', 'dewpti': '26.6', 'hum': '93', 'wspdm': '1.9', 'wspdi': '1.2', 'wgustm': '-9999.0', 'wgusti': '-9999.0', 'wdird': '0', 'wdire': 'Variable', 'vism': '5.0', 'visi': '3.1', 'pressurem': '1018', 'pressurei': '30.06', 'windchillm': '-999', 'windchilli': '-999', 'heatindexm': '-9999', 'heatindexi': '-9999', 'precipm': '-9999.00', 'precipi': '-9999.00', 'conds': 'Overcast', 'icon': 'cloudy', 'fog': '0', 'rain': '0', 'snow': '0', 'hail': '0', 'thunder': '0', 'tornado': '0', 'metar': 'METAR ENGM 201450Z VRB01KT 5000 BR OVC001 M02/M03 Q1018 TEMPO 3000 BR'}, {'date': {'pretty': '4:00 PM CET on December 20, 2017', 'year': '2017', 'mon': '12', 'mday': '20', 'hour': '16', 'min': '00', 'tzname': 'Europe/Oslo'}, 'utcdate': {'pretty': '3:00 PM GMT on December 20, 2017', 'year': '2017', 'mon': '12', 'mday': '20', 'hour': '15', 'min': '00', 'tzname': 'UTC'}, 'tempm': '-2', 'tempi': '29', 'dewptm': '-2', 'dewpti': '28', 'hum': '97', 'wspdm': '0.0', 'wspdi': '0.0', 'wgustm': '', 'wgusti': '', 'wdird': '', 'wdire': '', 'vism': '4.0', 'visi': '2', 'pressurem': '', 'pressurei': '', 'windchillm': '-999', 'windchilli': '-999', 'heatindexm': '-9999', 'heatindexi': '-9999', 'precipm': '', 'precipi': '', 'conds': 'Mist', 'icon': 'hazy', 'fog': '0', 'rain': '0', 'snow': '0', 'hail': '0', 'thunder': '0', 'tornado': '0', 'metar': 'AAXX 20151 01384 41140 80000 11019 21020 55002 71042 886//'}, {'date': {'pretty': '4:20 PM CET on December 20, 2017', 'year': '2017', 'mon': '12', 'mday': '20', 'hour': '16', 'min': '20', 'tzname': 'Europe/Oslo'}, 'utcdate': {'pretty': '3:20 PM GMT on December 20, 2017', 'year': '2017', 'mon': '12', 'mday': '20', 'hour': '15', 'min': '20', 'tzname': 'UTC'}, 'tempm': '-2.0', 'tempi': '28.4', 'dewptm': '-3.0', 'dewpti': '26.6', 'hum': '93', 'wspdm': '5.6', 'wspdi': '3.5', 'wgustm': '-9999.0', 'wgusti': '-9999.0', 'wdird': '40', 'wdire': 'NE', 'vism': '3.0', 'visi': '1.9', 'pressurem': '1018', 'pressurei': '30.06', 'windchillm': '-4.1', 'windchilli': '24.6', 'heatindexm': '-9999', 'heatindexi': '-9999', 'precipm': '-9999.00', 'precipi': '-9999.00', 'conds': 'Overcast', 'icon': 'cloudy', 'fog': '0', 'rain': '0', 'snow': '0', 'hail': '0', 'thunder': '0', 'tornado': '0', 'metar': 'METAR ENGM 201520Z 04003KT 010V080 3000 0400SE R19R/P2000N R01R/0500D PRFG BKN002 OVC004 M02/M03 Q1018 TEMPO 0400 FZFG VV001'}, {'date': {'pretty': '4:50 PM CET on December 20, 2017', 'year': '2017', 'mon': '12', 'mday': '20', 'hour': '16', 'min': '50', 'tzname': 'Europe/Oslo'}, 'utcdate': {'pretty': '3:50 PM GMT on December 20, 2017', 'year': '2017', 'mon': '12', 'mday': '20', 'hour': '15', 'min': '50', 'tzname': 'UTC'}, 'tempm': '-2.0', 'tempi': '28.4', 'dewptm': '-3.0', 'dewpti': '26.6', 'hum': '93', 'wspdm': '5.6', 'wspdi': '3.5', 'wgustm': '-9999.0', 'wgusti': '-9999.0', 'wdird': '40', 'wdire': 'NE', 'vism': '1.8', 'visi': '1.1', 'pressurem': '1018', 'pressurei': '30.06', 'windchillm': '-4.1', 'windchilli': '24.6', 'heatindexm': '-9999', 'heatindexi': '-9999', 'precipm': '-9999.00', 'precipi': '-9999.00', 'conds': 'Unknown', 'icon': 'unknown', 'fog': '0', 'rain': '0', 'snow': '0', 'hail': '0', 'thunder': '0', 'tornado': '0', 'metar': 'METAR ENGM 201550Z 04003KT 1800 0800SE R19R/1800D R01R/1000U PRFG VV001 M02/M03 Q1018 TEMPO 0500 FZFG'}, {'date': {'pretty': '5:00 PM CET on December 20, 2017', 'year': '2017', 'mon': '12', 'mday': '20', 'hour': '17', 'min': '00', 'tzname': 'Europe/Oslo'}, 'utcdate': {'pretty': '4:00 PM GMT on December 20, 2017', 'year': '2017', 'mon': '12', 'mday': '20', 'hour': '16', 'min': '00', 'tzname': 'UTC'}, 'tempm': '-2', 'tempi': '29', 'dewptm': '-2', 'dewpti': '28', 'hum': '97', 'wspdm': '3.6', 'wspdi': '2.2', 'wgustm': '', 'wgusti': '', 'wdird': '40', 'wdire': 'NE', 'vism': '0.2', 'visi': '0', 'pressurem': '', 'pressurei': '', 'windchillm': '-999', 'windchilli': '-999', 'heatindexm': '-9999', 'heatindexi': '-9999', 'precipm': '', 'precipi': '', 'conds': '', 'icon': '', 'fog': '0', 'rain': '0', 'snow': '0', 'hail': '0', 'thunder': '0', 'tornado': '0', 'metar': 'AAXX 20161 01384 46/02 /0401 11019 21020 53005'}, {'date': {'pretty': '5:20 PM CET on December 20, 2017', 'year': '2017', 'mon': '12', 'mday': '20', 'hour': '17', 'min': '20', 'tzname': 'Europe/Oslo'}, 'utcdate': {'pretty': '4:20 PM GMT on December 20, 2017', 'year': '2017', 'mon': '12', 'mday': '20', 'hour': '16', 'min': '20', 'tzname': 'UTC'}, 'tempm': '-2.0', 'tempi': '28.4', 'dewptm': '-3.0', 'dewpti': '26.6', 'hum': '93', 'wspdm': '3.7', 'wspdi': '2.3', 'wgustm': '-9999.0', 'wgusti': '-9999.0', 'wdird': '0', 'wdire': 'Variable', 'vism': '0.6', 'visi': '0.4', 'pressurem': '1019', 'pressurei': '30.09', 'windchillm': '-999', 'windchilli': '-999', 'heatindexm': '-9999', 'heatindexi': '-9999', 'precipm': '-9999.00', 'precipi': '-9999.00', 'conds': 'Light Freezing Fog', 'icon': 'fog', 'fog': '1', 'rain': '0', 'snow': '0', 'hail': '0', 'thunder': '0', 'tornado': '0', 'metar': 'METAR ENGM 201620Z VRB02KT 0600 R19R/1100D R01R/0750D FZFG VV001 M02/M03 Q1019 TEMPO 0300 FZFG'}, {'date': {'pretty': '5:50 PM CET on December 20, 2017', 'year': '2017', 'mon': '12', 'mday': '20', 'hour': '17', 'min': '50', 'tzname': 'Europe/Oslo'}, 'utcdate': {'pretty': '4:50 PM GMT on December 20, 2017', 'year': '2017', 'mon': '12', 'mday': '20', 'hour': '16', 'min': '50', 'tzname': 'UTC'}, 'tempm': '-2.0', 'tempi': '28.4', 'dewptm': '-3.0', 'dewpti': '26.6', 'hum': '93', 'wspdm': '5.6', 'wspdi': '3.5', 'wgustm': '-9999.0', 'wgusti': '-9999.0', 'wdird': '30', 'wdire': 'NNE', 'vism': '0.5', 'visi': '0.3', 'pressurem': '1019', 'pressurei': '30.09', 'windchillm': '-4.1', 'windchilli': '24.6', 'heatindexm': '-9999', 'heatindexi': '-9999', 'precipm': '-9999.00', 'precipi': '-9999.00', 'conds': 'Light Freezing Fog', 'icon': 'fog', 'fog': '1', 'rain': '0', 'snow': '0', 'hail': '0', 'thunder': '0', 'tornado': '0', 'metar': 'METAR ENGM 201650Z 03003KT 010V080 0500 R19R/0650U R01R/0550N FZFG VV001 M02/M03 Q1019 TEMPO 0300 FZFG'}, {'date': {'pretty': '6:00 PM CET on December 20, 2017', 'year': '2017', 'mon': '12', 'mday': '20', 'hour': '18', 'min': '00', 'tzname': 'Europe/Oslo'}, 'utcdate': {'pretty': '5:00 PM GMT on December 20, 2017', 'year': '2017', 'mon': '12', 'mday': '20', 'hour': '17', 'min': '00', 'tzname': 'UTC'}, 'tempm': '-2', 'tempi': '29', 'dewptm': '-2', 'dewpti': '29', 'hum': '99', 'wspdm': '3.6', 'wspdi': '2.2', 'wgustm': '', 'wgusti': '', 'wdird': '30', 'wdire': 'NNE', 'vism': '0.1', 'visi': '0', 'pressurem': '', 'pressurei': '', 'windchillm': '-999', 'windchilli': '-999', 'heatindexm': '-9999', 'heatindexi': '-9999', 'precipm': '', 'precipi': '', 'conds': '', 'icon': '', 'fog': '0', 'rain': '0', 'snow': '0', 'hail': '0', 'thunder': '0', 'tornado': '0', 'metar': 'AAXX 20171 01384 46/01 /0301 11017 21018 53013'}, {'date': {'pretty': '6:20 PM CET on December 20, 2017', 'year': '2017', 'mon': '12', 'mday': '20', 'hour': '18', 'min': '20', 'tzname': 'Europe/Oslo'}, 'utcdate': {'pretty': '5:20 PM GMT on December 20, 2017', 'year': '2017', 'mon': '12', 'mday': '20', 'hour': '17', 'min': '20', 'tzname': 'UTC'}, 'tempm': '-2.0', 'tempi': '28.4', 'dewptm': '-3.0', 'dewpti': '26.6', 'hum': '93', 'wspdm': '5.6', 'wspdi': '3.5', 'wgustm': '-9999.0', 'wgusti': '-9999.0', 'wdird': '40', 'wdire': 'NE', 'vism': '1.3', 'visi': '0.8', 'pressurem': '1019', 'pressurei': '30.09', 'windchillm': '-4.1', 'windchilli': '24.6', 'heatindexm': '-9999', 'heatindexi': '-9999', 'precipm': '-9999.00', 'precipi': '-9999.00', 'conds': 'Patches of Fog', 'icon': 'fog', 'fog': '1', 'rain': '0', 'snow': '0', 'hail': '0', 'thunder': '0', 'tornado': '0', 'metar': 'METAR ENGM 201720Z 04003KT 360V070 1300 R19R/P2000N R01R/1500U BCFG BKN002 OVC004 M02/M03 Q1019 TEMPO 0500 FZFG VV001'}, {'date': {'pretty': '6:50 PM CET on December 20, 2017', 'year': '2017', 'mon': '12', 'mday': '20', 'hour': '18', 'min': '50', 'tzname': 'Europe/Oslo'}, 'utcdate': {'pretty': '5:50 PM GMT on December 20, 2017', 'year': '2017', 'mon': '12', 'mday': '20', 'hour': '17', 'min': '50', 'tzname': 'UTC'}, 'tempm': '-2.0', 'tempi': '28.4', 'dewptm': '-3.0', 'dewpti': '26.6', 'hum': '93', 'wspdm': '3.7', 'wspdi': '2.3', 'wgustm': '-9999.0', 'wgusti': '-9999.0', 'wdird': '0', 'wdire': 'Variable', 'vism': '0.9', 'visi': '0.6', 'pressurem': '1020', 'pressurei': '30.12', 'windchillm': '-999', 'windchilli': '-999', 'heatindexm': '-9999', 'heatindexi': '-9999', 'precipm': '-9999.00', 'precipi': '-9999.00', 'conds': 'Overcast', 'icon': 'cloudy', 'fog': '0', 'rain': '0', 'snow': '0', 'hail': '0', 'thunder': '0', 'tornado': '0', 'metar': 'METAR ENGM 201750Z VRB02KT 0900 R19R/1400U R01R/1500D PRFG OVC002 M02/M03 Q1020 TEMPO 0500 FZFG VV001'}, {'date': {'pretty': '7:00 PM CET on December 20, 2017', 'year': '2017', 'mon': '12', 'mday': '20', 'hour': '19', 'min': '00', 'tzname': 'Europe/Oslo'}, 'utcdate': {'pretty': '6:00 PM GMT on December 20, 2017', 'year': '2017', 'mon': '12', 'mday': '20', 'hour': '18', 'min': '00', 'tzname': 'UTC'}, 'tempm': '-2', 'tempi': '28', 'dewptm': '-2', 'dewpti': '28', 'hum': '100', 'wspdm': '3.6', 'wspdi': '2.2', 'wgustm': '', 'wgusti': '', 'wdird': '10', 'wdire': 'North', 'vism': '0.9', 'visi': '1', 'pressurem': '', 'pressurei': '', 'windchillm': '-999', 'windchilli': '-999', 'heatindexm': '-9999', 'heatindexi': '-9999', 'precipm': '', 'precipi': '', 'conds': 'Heavy Fog', 'icon': 'fog', 'fog': '1', 'rain': '0', 'snow': '0', 'hail': '0', 'thunder': '0', 'tornado': '0', 'metar': 'AAXX 20181 01384 11X09 90101 11021 21022 53016 69942 74942'}, {'date': {'pretty': '7:20 PM CET on December 20, 2017', 'year': '2017', 'mon': '12', 'mday': '20', 'hour': '19', 'min': '20', 'tzname': 'Europe/Oslo'}, 'utcdate': {'pretty': '6:20 PM GMT on December 20, 2017', 'year': '2017', 'mon': '12', 'mday': '20', 'hour': '18', 'min': '20', 'tzname': 'UTC'}, 'tempm': '-2.0', 'tempi': '28.4', 'dewptm': '-3.0', 'dewpti': '26.6', 'hum': '93', 'wspdm': '5.6', 'wspdi': '3.5', 'wgustm': '-9999.0', 'wgusti': '-9999.0', 'wdird': '40', 'wdire': 'NE', 'vism': '1.0', 'visi': '0.6', 'pressurem': '1020', 'pressurei': '30.12', 'windchillm': '-4.1', 'windchilli': '24.6', 'heatindexm': '-9999', 'heatindexi': '-9999', 'precipm': '-9999.00', 'precipi': '-9999.00', 'conds': 'Overcast', 'icon': 'cloudy', 'fog': '0', 'rain': '0', 'snow': '0', 'hail': '0', 'thunder': '0', 'tornado': '0', 'metar': 'METAR ENGM 201820Z 04003KT 1000 R19R/1500U R01R/1200U PRFG OVC002 M02/M03 Q1020 TEMPO 0500 FZFG VV001'}, {'date': {'pretty': '7:50 PM CET on December 20, 2017', 'year': '2017', 'mon': '12', 'mday': '20', 'hour': '19', 'min': '50', 'tzname': 'Europe/Oslo'}, 'utcdate': {'pretty': '6:50 PM GMT on December 20, 2017', 'year': '2017', 'mon': '12', 'mday': '20', 'hour': '18', 'min': '50', 'tzname': 'UTC'}, 'tempm': '-2.0', 'tempi': '28.4', 'dewptm': '-3.0', 'dewpti': '26.6', 'hum': '93', 'wspdm': '3.7', 'wspdi': '2.3', 'wgustm': '-9999.0', 'wgusti': '-9999.0', 'wdird': '0', 'wdire': 'Variable', 'vism': '1.5', 'visi': '0.9', 'pressurem': '1020', 'pressurei': '30.12', 'windchillm': '-999', 'windchilli': '-999', 'heatindexm': '-9999', 'heatindexi': '-9999', 'precipm': '-9999.00', 'precipi': '-9999.00', 'conds': 'Overcast', 'icon': 'cloudy', 'fog': '0', 'rain': '0', 'snow': '0', 'hail': '0', 'thunder': '0', 'tornado': '0', 'metar': 'METAR ENGM 201850Z VRB02KT 1500 BR OVC002 M02/M03 Q1020 TEMPO 0500 FZFG VV001'}, {'date': {'pretty': '8:20 PM CET on December 20, 2017', 'year': '2017', 'mon': '12', 'mday': '20', 'hour': '20', 'min': '20', 'tzname': 'Europe/Oslo'}, 'utcdate': {'pretty': '7:20 PM GMT on December 20, 2017', 'year': '2017', 'mon': '12', 'mday': '20', 'hour': '19', 'min': '20', 'tzname': 'UTC'}, 'tempm': '-2.0', 'tempi': '28.4', 'dewptm': '-3.0', 'dewpti': '26.6', 'hum': '93', 'wspdm': '3.7', 'wspdi': '2.3', 'wgustm': '-9999.0', 'wgusti': '-9999.0', 'wdird': '20', 'wdire': 'NNE', 'vism': '2.4', 'visi': '1.5', 'pressurem': '1021', 'pressurei': '30.15', 'windchillm': '-999', 'windchilli': '-999', 'heatindexm': '-9999', 'heatindexi': '-9999', 'precipm': '-9999.00', 'precipi': '-9999.00', 'conds': 'Overcast', 'icon': 'cloudy', 'fog': '0', 'rain': '0', 'snow': '0', 'hail': '0', 'thunder': '0', 'tornado': '0', 'metar': 'METAR ENGM 201920Z 02002KT 2400 1100SW R19R/2000U R01R/P2000N BR OVC002 M02/M03 Q1021 TEMPO 0800 FZFG'}, {'date': {'pretty': '8:50 PM CET on December 20, 2017', 'year': '2017', 'mon': '12', 'mday': '20', 'hour': '20', 'min': '50', 'tzname': 'Europe/Oslo'}, 'utcdate': {'pretty': '7:50 PM GMT on December 20, 2017', 'year': '2017', 'mon': '12', 'mday': '20', 'hour': '19', 'min': '50', 'tzname': 'UTC'}, 'tempm': '-2.0', 'tempi': '28.4', 'dewptm': '-3.0', 'dewpti': '26.6', 'hum': '93', 'wspdm': '0.0', 'wspdi': '0.0', 'wgustm': '-9999.0', 'wgusti': '-9999.0', 'wdird': '0', 'wdire': 'North', 'vism': '2.0', 'visi': '1.2', 'pressurem': '1021', 'pressurei': '30.15', 'windchillm': '-999', 'windchilli': '-999', 'heatindexm': '-9999', 'heatindexi': '-9999', 'precipm': '-9999.00', 'precipi': '-9999.00', 'conds': 'Overcast', 'icon': 'cloudy', 'fog': '0', 'rain': '0', 'snow': '0', 'hail': '0', 'thunder': '0', 'tornado': '0', 'metar': 'METAR ENGM 201950Z 00000KT 2000 BR OVC002 M02/M03 Q1021 TEMPO 0800 FZFG'}, {'date': {'pretty': '9:00 PM CET on December 20, 2017', 'year': '2017', 'mon': '12', 'mday': '20', 'hour': '21', 'min': '00', 'tzname': 'Europe/Oslo'}, 'utcdate': {'pretty': '8:00 PM GMT on December 20, 2017', 'year': '2017', 'mon': '12', 'mday': '20', 'hour': '20', 'min': '00', 'tzname': 'UTC'}, 'tempm': '-2', 'tempi': '28', 'dewptm': '-2', 'dewpti': '28', 'hum': '98', 'wspdm': '3.6', 'wspdi': '2.2', 'wgustm': '', 'wgusti': '', 'wdird': '0', 'wdire': 'North', 'vism': '0.6', 'visi': '0', 'pressurem': '', 'pressurei': '', 'windchillm': '-999', 'windchilli': '-999', 'heatindexm': '-9999', 'heatindexi': '-9999', 'precipm': '', 'precipi': '', 'conds': '', 'icon': '', 'fog': '0', 'rain': '0', 'snow': '0', 'hail': '0', 'thunder': '0', 'tornado': '0', 'metar': 'AAXX 20201 01384 46/06 /3601 11023 21024 52021'}, {'date': {'pretty': '9:20 PM CET on December 20, 2017', 'year': '2017', 'mon': '12', 'mday': '20', 'hour': '21', 'min': '20', 'tzname': 'Europe/Oslo'}, 'utcdate': {'pretty': '8:20 PM GMT on December 20, 2017', 'year': '2017', 'mon': '12', 'mday': '20', 'hour': '20', 'min': '20', 'tzname': 'UTC'}, 'tempm': '-3.0', 'tempi': '26.6', 'dewptm': '-3.0', 'dewpti': '26.6', 'hum': '100', 'wspdm': '1.9', 'wspdi': '1.2', 'wgustm': '-9999.0', 'wgusti': '-9999.0', 'wdird': '0', 'wdire': 'Variable', 'vism': '2.3', 'visi': '1.4', 'pressurem': '1021', 'pressurei': '30.15', 'windchillm': '-999', 'windchilli': '-999', 'heatindexm': '-9999', 'heatindexi': '-9999', 'precipm': '-9999.00', 'precipi': '-9999.00', 'conds': 'Patches of Fog', 'icon': 'fog', 'fog': '1', 'rain': '0', 'snow': '0', 'hail': '0', 'thunder': '0', 'tornado': '0', 'metar': 'METAR ENGM 202020Z VRB01KT 2300 0900SW R19R/1900N R01R/P2000N BCFG BR BKN002 M03/M03 Q1021 TEMPO 1200 BR'}, {'date': {'pretty': '10:00 PM CET on December 20, 2017', 'year': '2017', 'mon': '12', 'mday': '20', 'hour': '22', 'min': '00', 'tzname': 'Europe/Oslo'}, 'utcdate': {'pretty': '9:00 PM GMT on December 20, 2017', 'year': '2017', 'mon': '12', 'mday': '20', 'hour': '21', 'min': '00', 'tzname': 'UTC'}, 'tempm': '-2', 'tempi': '28', 'dewptm': '-2', 'dewpti': '28', 'hum': '97', 'wspdm': '0.0', 'wspdi': '0.0', 'wgustm': '', 'wgusti': '', 'wdird': '', 'wdire': '', 'vism': '0.7', 'visi': '0', 'pressurem': '', 'pressurei': '', 'windchillm': '-999', 'windchilli': '-999', 'heatindexm': '-9999', 'heatindexi': '-9999', 'precipm': '', 'precipi': '', 'conds': 'Heavy Fog', 'icon': 'fog', 'fog': '1', 'rain': '0', 'snow': '0', 'hail': '0', 'thunder': '0', 'tornado': '0', 'metar': 'AAXX 20211 01384 41X07 90000 11024 21025 50012 74542'}, {'date': {'pretty': '10:20 PM CET on December 20, 2017', 'year': '2017', 'mon': '12', 'mday': '20', 'hour': '22', 'min': '20', 'tzname': 'Europe/Oslo'}, 'utcdate': {'pretty': '9:20 PM GMT on December 20, 2017', 'year': '2017', 'mon': '12', 'mday': '20', 'hour': '21', 'min': '20', 'tzname': 'UTC'}, 'tempm': '-3.0', 'tempi': '26.6', 'dewptm': '-4.0', 'dewpti': '24.8', 'hum': '93', 'wspdm': '0.0', 'wspdi': '0.0', 'wgustm': '-9999.0', 'wgusti': '-9999.0', 'wdird': '0', 'wdire': 'North', 'vism': '0.6', 'visi': '0.4', 'pressurem': '1021', 'pressurei': '30.15', 'windchillm': '-999', 'windchilli': '-999', 'heatindexm': '-9999', 'heatindexi': '-9999', 'precipm': '-9999.00', 'precipi': '-9999.00', 'conds': 'Light Freezing Fog', 'icon': 'fog', 'fog': '1', 'rain': '0', 'snow': '0', 'hail': '0', 'thunder': '0', 'tornado': '0', 'metar': 'METAR ENGM 202120Z 00000KT 0600 R19R/1200D R01R/1400U FZFG VV001 M03/M04 Q1021 TEMPO 0300 FZFG'}, {'date': {'pretty': '10:50 PM CET on December 20, 2017', 'year': '2017', 'mon': '12', 'mday': '20', 'hour': '22', 'min': '50', 'tzname': 'Europe/Oslo'}, 'utcdate': {'pretty': '9:50 PM GMT on December 20, 2017', 'year': '2017', 'mon': '12', 'mday': '20', 'hour': '21', 'min': '50', 'tzname': 'UTC'}, 'tempm': '-3.0', 'tempi': '26.6', 'dewptm': '-4.0', 'dewpti': '24.8', 'hum': '93', 'wspdm': '0.0', 'wspdi': '0.0', 'wgustm': '-9999.0', 'wgusti': '-9999.0', 'wdird': '0', 'wdire': 'North', 'vism': '-9999.0', 'visi': '-9999.0', 'pressurem': '1021', 'pressurei': '30.15', 'windchillm': '-999', 'windchilli': '-999', 'heatindexm': '-9999', 'heatindexi': '-9999', 'precipm': '-9999.00', 'precipi': '-9999.00', 'conds': 'Light Freezing Fog', 'icon': 'fog', 'fog': '1', 'rain': '0', 'snow': '0', 'hail': '0', 'thunder': '0', 'tornado': '0', 'metar': 'METAR ENGM 202150Z 00000KT 0550 R19R/0550D R01R/1200U FZFG VV001 M03/M04 Q1021 TEMPO 0300 FZFG'}, {'date': {'pretty': '11:00 PM CET on December 20, 2017', 'year': '2017', 'mon': '12', 'mday': '20', 'hour': '23', 'min': '00', 'tzname': 'Europe/Oslo'}, 'utcdate': {'pretty': '10:00 PM GMT on December 20, 2017', 'year': '2017', 'mon': '12', 'mday': '20', 'hour': '22', 'min': '00', 'tzname': 'UTC'}, 'tempm': '-3', 'tempi': '27', 'dewptm': '-3', 'dewpti': '27', 'hum': '100', 'wspdm': '0.0', 'wspdi': '0.0', 'wgustm': '', 'wgusti': '', 'wdird': '', 'wdire': '', 'vism': '0.8', 'visi': '0', 'pressurem': '', 'pressurei': '', 'windchillm': '-999', 'windchilli': '-999', 'heatindexm': '-9999', 'heatindexi': '-9999', 'precipm': '', 'precipi': '', 'conds': '', 'icon': '', 'fog': '0', 'rain': '0', 'snow': '0', 'hail': '0', 'thunder': '0', 'tornado': '0', 'metar': 'AAXX 20221 01384 46108 /0000 11027 21028 51009'}, {'date': {'pretty': '11:20 PM CET on December 20, 2017', 'year': '2017', 'mon': '12', 'mday': '20', 'hour': '23', 'min': '20', 'tzname': 'Europe/Oslo'}, 'utcdate': {'pretty': '10:20 PM GMT on December 20, 2017', 'year': '2017', 'mon': '12', 'mday': '20', 'hour': '22', 'min': '20', 'tzname': 'UTC'}, 'tempm': '-3.0', 'tempi': '26.6', 'dewptm': '-4.0', 'dewpti': '24.8', 'hum': '93', 'wspdm': '0.0', 'wspdi': '0.0', 'wgustm': '-9999.0', 'wgusti': '-9999.0', 'wdird': '0', 'wdire': 'North', 'vism': '0.4', 'visi': '0.3', 'pressurem': '1021', 'pressurei': '30.15', 'windchillm': '-999', 'windchilli': '-999', 'heatindexm': '-9999', 'heatindexi': '-9999', 'precipm': '-9999.00', 'precipi': '-9999.00', 'conds': 'Light Freezing Fog', 'icon': 'fog', 'fog': '1', 'rain': '0', 'snow': '0', 'hail': '0', 'thunder': '0', 'tornado': '0', 'metar': 'METAR ENGM 202220Z 00000KT 0450 R19R/0550U R01R/0550N FZFG VV001 M03/M04 Q1021'}, {'date': {'pretty': '11:50 PM CET on December 20, 2017', 'year': '2017', 'mon': '12', 'mday': '20', 'hour': '23', 'min': '50', 'tzname': 'Europe/Oslo'}, 'utcdate': {'pretty': '10:50 PM GMT on December 20, 2017', 'year': '2017', 'mon': '12', 'mday': '20', 'hour': '22', 'min': '50', 'tzname': 'UTC'}, 'tempm': '-4.0', 'tempi': '24.8', 'dewptm': '-4.0', 'dewpti': '24.8', 'hum': '100', 'wspdm': '0.0', 'wspdi': '0.0', 'wgustm': '-9999.0', 'wgusti': '-9999.0', 'wdird': '0', 'wdire': 'North', 'vism': '0.4', 'visi': '0.3', 'pressurem': '1021', 'pressurei': '30.15', 'windchillm': '-999', 'windchilli': '-999', 'heatindexm': '-9999', 'heatindexi': '-9999', 'precipm': '-9999.00', 'precipi': '-9999.00', 'conds': 'Light Freezing Fog', 'icon': 'fog', 'fog': '1', 'rain': '0', 'snow': '0', 'hail': '0', 'thunder': '0', 'tornado': '0', 'metar': 'METAR ENGM 202250Z 00000KT 0450 R19R/0650U R01R/0450N FZFG VV001 M04/M04 Q1021'}], 'dailysummary': [{'date': {'pretty': '12:00 AM CET on December 20, 2017', 'year': '2017', 'mon': '12', 'mday': '20', 'hour': '00', 'min': '00', 'tzname': 'Europe/Oslo'}, 'fog': '1', 'rain': '1', 'snow': '0', 'snowfallm': '', 'snowfalli': '', 'monthtodatesnowfallm': '', 'monthtodatesnowfalli': '', 'since1julsnowfallm': '', 'since1julsnowfalli': '', 'snowdepthm': '', 'snowdepthi': '', 'hail': '0', 'thunder': '0', 'tornado': '0', 'meantempm': '-3', 'meantempi': '26', 'meandewptm': '-4', 'meandewpti': '25', 'meanpressurem': '1020.15', 'meanpressurei': '30.12', 'meanwindspdm': '1', 'meanwindspdi': '1', 'meanwdire': 'NNE', 'meanwdird': '29', 'meanvism': '1.3', 'meanvisi': '0.7', 'humidity': '95', 'maxtempm': '-1', 'maxtempi': '30', 'mintempm': '-5', 'mintempi': '23', 'maxhumidity': '100', 'minhumidity': '93', 'maxdewptm': '-2', 'maxdewpti': '29', 'mindewptm': '-6', 'mindewpti': '21', 'maxpressurem': '1024', 'maxpressurei': '30.24', 'minpressurem': '1018', 'minpressurei': '30.06', 'maxwspdm': '6', 'maxwspdi': '4', 'minwspdm': '0', 'minwspdi': '0', 'maxvism': '6.0', 'maxvisi': '4.0', 'minvism': '0.8', 'minvisi': '0.0', 'gdegreedays': '0', 'heatingdegreedays': '38', 'coolingdegreedays': '0', 'precipm': '0.4', 'precipi': '0.02', 'precipsource': 'Precip6GroupSynop', 'heatingdegreedaysnormal': '', 'monthtodateheatingdegreedays': '', 'monthtodateheatingdegreedaysnormal': '', 'since1sepheatingdegreedays': '', 'since1sepheatingdegreedaysnormal': '', 'since1julheatingdegreedays': '', 'since1julheatingdegreedaysnormal': '', 'coolingdegreedaysnormal': '', 'monthtodatecoolingdegreedays': '', 'monthtodatecoolingdegreedaysnormal': '', 'since1sepcoolingdegreedays': '', 'since1sepcoolingdegreedaysnormal': '', 'since1jancoolingdegreedays': '', 'since1jancoolingdegreedaysnormal': ''}]}}\n"
     ]
    }
   ],
   "source": [
    "#http://api.wunderground.com/api/Your_Key/history_YYYYMMDD/q/CA/San_Francisco.json\n",
    "    \n",
    "import urllib\n",
    "import json\n",
    "f = urllib.request.urlopen('http://api.wunderground.com/api/1f725d0a99f78a63/history_20171220/q/NO/Oslo.json')\n",
    "json_string = f.read()\n",
    "parsed_json = json.loads(json_string)\n",
    "#location = parsed_json['NO']['Oslo']\n",
    "#temp_f = parsed_json['current_observation']['temp_f']\n",
    "#print( \"Current temperature in %s is: %s\" % (location, temp_f))\n",
    "print(parsed_json)\n",
    "f.close()"
   ]
  },
  {
   "cell_type": "code",
   "execution_count": 7,
   "metadata": {
    "extensions": {
     "jupyter_dashboards": {
      "version": 1,
      "views": {
       "grid_default": {
        "col": 8,
        "height": 12,
        "hidden": false,
        "row": 0,
        "width": 4
       },
       "report_default": {}
      }
     }
    }
   },
   "outputs": [
    {
     "name": "stdout",
     "output_type": "stream",
     "text": [
      "[{'date': {'pretty': '12:00 AM CET on December 20, 2017', 'year': '2017', 'mon': '12', 'mday': '20', 'hour': '00', 'min': '00', 'tzname': 'Europe/Oslo'}, 'utcdate': {'pretty': '11:00 PM GMT on December 19, 2017', 'year': '2017', 'mon': '12', 'mday': '19', 'hour': '23', 'min': '00', 'tzname': 'UTC'}, 'tempm': '-5', 'tempi': '23', 'dewptm': '-5', 'dewpti': '22', 'hum': '97', 'wspdm': '0.0', 'wspdi': '0.0', 'wgustm': '', 'wgusti': '', 'wdird': '', 'wdire': '', 'vism': '0.1', 'visi': '0', 'pressurem': '', 'pressurei': '', 'windchillm': '-999', 'windchilli': '-999', 'heatindexm': '-9999', 'heatindexi': '-9999', 'precipm': '', 'precipi': '', 'conds': '', 'icon': '', 'fog': '0', 'rain': '0', 'snow': '0', 'hail': '0', 'thunder': '0', 'tornado': '0', 'metar': 'AAXX 19231 01384 46/01 /0000 11049 21053 58005'}, {'date': {'pretty': '12:20 AM CET on December 20, 2017', 'year': '2017', 'mon': '12', 'mday': '20', 'hour': '00', 'min': '20', 'tzname': 'Europe/Oslo'}, 'utcdate': {'pretty': '11:20 PM GMT on December 19, 2017', 'year': '2017', 'mon': '12', 'mday': '19', 'hour': '23', 'min': '20', 'tzname': 'UTC'}, 'tempm': '-5.0', 'tempi': '23.0', 'dewptm': '-6.0', 'dewpti': '21.2', 'hum': '93', 'wspdm': '0.0', 'wspdi': '0.0', 'wgustm': '-9999.0', 'wgusti': '-9999.0', 'wdird': '0', 'wdire': 'North', 'vism': '0.5', 'visi': '0.3', 'pressurem': '1024', 'pressurei': '30.24', 'windchillm': '-999', 'windchilli': '-999', 'heatindexm': '-9999', 'heatindexi': '-9999', 'precipm': '-9999.00', 'precipi': '-9999.00', 'conds': 'Light Freezing Fog', 'icon': 'fog', 'fog': '1', 'rain': '0', 'snow': '0', 'hail': '0', 'thunder': '0', 'tornado': '0', 'metar': 'METAR ENGM 192320Z 00000KT 0500 R19R/1900U R01R/0600N FZFG VV001 M05/M06 Q1024'}, {'date': {'pretty': '12:50 AM CET on December 20, 2017', 'year': '2017', 'mon': '12', 'mday': '20', 'hour': '00', 'min': '50', 'tzname': 'Europe/Oslo'}, 'utcdate': {'pretty': '11:50 PM GMT on December 19, 2017', 'year': '2017', 'mon': '12', 'mday': '19', 'hour': '23', 'min': '50', 'tzname': 'UTC'}, 'tempm': '-5.0', 'tempi': '23.0', 'dewptm': '-6.0', 'dewpti': '21.2', 'hum': '93', 'wspdm': '0.0', 'wspdi': '0.0', 'wgustm': '-9999.0', 'wgusti': '-9999.0', 'wdird': '0', 'wdire': 'North', 'vism': '-9999.0', 'visi': '-9999.0', 'pressurem': '1024', 'pressurei': '30.24', 'windchillm': '-999', 'windchilli': '-999', 'heatindexm': '-9999', 'heatindexi': '-9999', 'precipm': '-9999.00', 'precipi': '-9999.00', 'conds': 'Light Freezing Fog', 'icon': 'fog', 'fog': '1', 'rain': '0', 'snow': '0', 'hail': '0', 'thunder': '0', 'tornado': '0', 'metar': 'METAR ENGM 192350Z 00000KT 0650 R19R/0750N R01R/0700N FZFG VV002 M05/M06 Q1024'}, {'date': {'pretty': '1:00 AM CET on December 20, 2017', 'year': '2017', 'mon': '12', 'mday': '20', 'hour': '01', 'min': '00', 'tzname': 'Europe/Oslo'}, 'utcdate': {'pretty': '12:00 AM GMT on December 20, 2017', 'year': '2017', 'mon': '12', 'mday': '20', 'hour': '00', 'min': '00', 'tzname': 'UTC'}, 'tempm': '-5', 'tempi': '23', 'dewptm': '-5', 'dewpti': '23', 'hum': '98', 'wspdm': '3.6', 'wspdi': '2.2', 'wgustm': '', 'wgusti': '', 'wdird': '10', 'wdire': 'North', 'vism': '0.5', 'visi': '0', 'pressurem': '', 'pressurei': '', 'windchillm': '-999', 'windchilli': '-999', 'heatindexm': '-9999', 'heatindexi': '-9999', 'precipm': '', 'precipi': '', 'conds': 'Heavy Fog', 'icon': 'fog', 'fog': '1', 'rain': '0', 'snow': '0', 'hail': '0', 'thunder': '0', 'tornado': '0', 'metar': 'AAXX 20001 01384 11X05 90101 11048 21052 58009 60001 74744'}, {'date': {'pretty': '1:20 AM CET on December 20, 2017', 'year': '2017', 'mon': '12', 'mday': '20', 'hour': '01', 'min': '20', 'tzname': 'Europe/Oslo'}, 'utcdate': {'pretty': '12:20 AM GMT on December 20, 2017', 'year': '2017', 'mon': '12', 'mday': '20', 'hour': '00', 'min': '20', 'tzname': 'UTC'}, 'tempm': '-5.0', 'tempi': '23.0', 'dewptm': '-6.0', 'dewpti': '21.2', 'hum': '93', 'wspdm': '1.9', 'wspdi': '1.2', 'wgustm': '-9999.0', 'wgusti': '-9999.0', 'wdird': '20', 'wdire': 'NNE', 'vism': '0.6', 'visi': '0.4', 'pressurem': '1023', 'pressurei': '30.21', 'windchillm': '-999', 'windchilli': '-999', 'heatindexm': '-9999', 'heatindexi': '-9999', 'precipm': '-9999.00', 'precipi': '-9999.00', 'conds': 'Light Freezing Fog', 'icon': 'fog', 'fog': '1', 'rain': '0', 'snow': '0', 'hail': '0', 'thunder': '0', 'tornado': '0', 'metar': 'METAR ENGM 200020Z 02001KT 0600 R19R/0800N R01R/0600N FZFG VV002 M05/M06 Q1023'}, {'date': {'pretty': '2:00 AM CET on December 20, 2017', 'year': '2017', 'mon': '12', 'mday': '20', 'hour': '02', 'min': '00', 'tzname': 'Europe/Oslo'}, 'utcdate': {'pretty': '1:00 AM GMT on December 20, 2017', 'year': '2017', 'mon': '12', 'mday': '20', 'hour': '01', 'min': '00', 'tzname': 'UTC'}, 'tempm': '-5', 'tempi': '24', 'dewptm': '-5', 'dewpti': '23', 'hum': '94', 'wspdm': '0.0', 'wspdi': '0.0', 'wgustm': '', 'wgusti': '', 'wdird': '', 'wdire': '', 'vism': '0.2', 'visi': '0', 'pressurem': '', 'pressurei': '', 'windchillm': '-999', 'windchilli': '-999', 'heatindexm': '-9999', 'heatindexi': '-9999', 'precipm': '', 'precipi': '', 'conds': '', 'icon': '', 'fog': '0', 'rain': '0', 'snow': '0', 'hail': '0', 'thunder': '0', 'tornado': '0', 'metar': 'AAXX 20011 01384 46/02 /0000 11046 21050 58014'}, {'date': {'pretty': '2:20 AM CET on December 20, 2017', 'year': '2017', 'mon': '12', 'mday': '20', 'hour': '02', 'min': '20', 'tzname': 'Europe/Oslo'}, 'utcdate': {'pretty': '1:20 AM GMT on December 20, 2017', 'year': '2017', 'mon': '12', 'mday': '20', 'hour': '01', 'min': '20', 'tzname': 'UTC'}, 'tempm': '-5.0', 'tempi': '23.0', 'dewptm': '-6.0', 'dewpti': '21.2', 'hum': '93', 'wspdm': '0.0', 'wspdi': '0.0', 'wgustm': '-9999.0', 'wgusti': '-9999.0', 'wdird': '0', 'wdire': 'North', 'vism': '-9999.0', 'visi': '-9999.0', 'pressurem': '1023', 'pressurei': '30.21', 'windchillm': '-999', 'windchilli': '-999', 'heatindexm': '-9999', 'heatindexi': '-9999', 'precipm': '-9999.00', 'precipi': '-9999.00', 'conds': 'Light Freezing Fog', 'icon': 'fog', 'fog': '1', 'rain': '0', 'snow': '0', 'hail': '0', 'thunder': '0', 'tornado': '0', 'metar': 'METAR ENGM 200120Z 00000KT 0650 R19R/0800N R01R/0750N FZFG VV001 M05/M06 Q1023'}, {'date': {'pretty': '2:50 AM CET on December 20, 2017', 'year': '2017', 'mon': '12', 'mday': '20', 'hour': '02', 'min': '50', 'tzname': 'Europe/Oslo'}, 'utcdate': {'pretty': '1:50 AM GMT on December 20, 2017', 'year': '2017', 'mon': '12', 'mday': '20', 'hour': '01', 'min': '50', 'tzname': 'UTC'}, 'tempm': '-5.0', 'tempi': '23.0', 'dewptm': '-6.0', 'dewpti': '21.2', 'hum': '93', 'wspdm': '0.0', 'wspdi': '0.0', 'wgustm': '-9999.0', 'wgusti': '-9999.0', 'wdird': '0', 'wdire': 'North', 'vism': '-9999.0', 'visi': '-9999.0', 'pressurem': '1023', 'pressurei': '30.21', 'windchillm': '-999', 'windchilli': '-999', 'heatindexm': '-9999', 'heatindexi': '-9999', 'precipm': '-9999.00', 'precipi': '-9999.00', 'conds': 'Light Freezing Fog', 'icon': 'fog', 'fog': '1', 'rain': '0', 'snow': '0', 'hail': '0', 'thunder': '0', 'tornado': '0', 'metar': 'METAR ENGM 200150Z 00000KT 0650 R19R/0900U R01R/0600N FZFG VV001 M05/M06 Q1023'}, {'date': {'pretty': '3:20 AM CET on December 20, 2017', 'year': '2017', 'mon': '12', 'mday': '20', 'hour': '03', 'min': '20', 'tzname': 'Europe/Oslo'}, 'utcdate': {'pretty': '2:20 AM GMT on December 20, 2017', 'year': '2017', 'mon': '12', 'mday': '20', 'hour': '02', 'min': '20', 'tzname': 'UTC'}, 'tempm': '-5.0', 'tempi': '23.0', 'dewptm': '-6.0', 'dewpti': '21.2', 'hum': '93', 'wspdm': '0.0', 'wspdi': '0.0', 'wgustm': '-9999.0', 'wgusti': '-9999.0', 'wdird': '0', 'wdire': 'North', 'vism': '0.5', 'visi': '0.3', 'pressurem': '1022', 'pressurei': '30.18', 'windchillm': '-999', 'windchilli': '-999', 'heatindexm': '-9999', 'heatindexi': '-9999', 'precipm': '-9999.00', 'precipi': '-9999.00', 'conds': 'Light Freezing Fog', 'icon': 'fog', 'fog': '1', 'rain': '0', 'snow': '0', 'hail': '0', 'thunder': '0', 'tornado': '0', 'metar': 'METAR ENGM 200220Z 00000KT 0500 R19R/0800N R01R/0700U FZFG VV001 M05/M06 Q1022'}, {'date': {'pretty': '3:50 AM CET on December 20, 2017', 'year': '2017', 'mon': '12', 'mday': '20', 'hour': '03', 'min': '50', 'tzname': 'Europe/Oslo'}, 'utcdate': {'pretty': '2:50 AM GMT on December 20, 2017', 'year': '2017', 'mon': '12', 'mday': '20', 'hour': '02', 'min': '50', 'tzname': 'UTC'}, 'tempm': '-5.0', 'tempi': '23.0', 'dewptm': '-6.0', 'dewpti': '21.2', 'hum': '93', 'wspdm': '0.0', 'wspdi': '0.0', 'wgustm': '-9999.0', 'wgusti': '-9999.0', 'wdird': '0', 'wdire': 'North', 'vism': '0.6', 'visi': '0.4', 'pressurem': '1022', 'pressurei': '30.18', 'windchillm': '-999', 'windchilli': '-999', 'heatindexm': '-9999', 'heatindexi': '-9999', 'precipm': '-9999.00', 'precipi': '-9999.00', 'conds': 'Light Freezing Fog', 'icon': 'fog', 'fog': '1', 'rain': '0', 'snow': '0', 'hail': '0', 'thunder': '0', 'tornado': '0', 'metar': 'METAR ENGM 200250Z 00000KT 0600 R19R/1100D R01R/0750N FZFG VV002 M05/M06 Q1022'}, {'date': {'pretty': '4:00 AM CET on December 20, 2017', 'year': '2017', 'mon': '12', 'mday': '20', 'hour': '04', 'min': '00', 'tzname': 'Europe/Oslo'}, 'utcdate': {'pretty': '3:00 AM GMT on December 20, 2017', 'year': '2017', 'mon': '12', 'mday': '20', 'hour': '03', 'min': '00', 'tzname': 'UTC'}, 'tempm': '-4', 'tempi': '24', 'dewptm': '-5', 'dewpti': '23', 'hum': '96', 'wspdm': '0.0', 'wspdi': '0.0', 'wgustm': '', 'wgusti': '', 'wdird': '', 'wdire': '', 'vism': '0.6', 'visi': '0', 'pressurem': '', 'pressurei': '', 'windchillm': '-999', 'windchilli': '-999', 'heatindexm': '-9999', 'heatindexi': '-9999', 'precipm': '', 'precipi': '', 'conds': 'Heavy Fog', 'icon': 'fog', 'fog': '1', 'rain': '0', 'snow': '0', 'hail': '0', 'thunder': '0', 'tornado': '0', 'metar': 'AAXX 20031 01384 41X06 90000 11044 21048 56012 74544'}, {'date': {'pretty': '4:20 AM CET on December 20, 2017', 'year': '2017', 'mon': '12', 'mday': '20', 'hour': '04', 'min': '20', 'tzname': 'Europe/Oslo'}, 'utcdate': {'pretty': '3:20 AM GMT on December 20, 2017', 'year': '2017', 'mon': '12', 'mday': '20', 'hour': '03', 'min': '20', 'tzname': 'UTC'}, 'tempm': '-5.0', 'tempi': '23.0', 'dewptm': '-6.0', 'dewpti': '21.2', 'hum': '93', 'wspdm': '0.0', 'wspdi': '0.0', 'wgustm': '-9999.0', 'wgusti': '-9999.0', 'wdird': '0', 'wdire': 'North', 'vism': '0.5', 'visi': '0.3', 'pressurem': '1022', 'pressurei': '30.18', 'windchillm': '-999', 'windchilli': '-999', 'heatindexm': '-9999', 'heatindexi': '-9999', 'precipm': '-9999.00', 'precipi': '-9999.00', 'conds': 'Light Freezing Fog', 'icon': 'fog', 'fog': '1', 'rain': '0', 'snow': '0', 'hail': '0', 'thunder': '0', 'tornado': '0', 'metar': 'METAR ENGM 200320Z 00000KT 0500 R19R/0900U R01R/0650N FZFG VV001 M05/M06 Q1022'}, {'date': {'pretty': '4:50 AM CET on December 20, 2017', 'year': '2017', 'mon': '12', 'mday': '20', 'hour': '04', 'min': '50', 'tzname': 'Europe/Oslo'}, 'utcdate': {'pretty': '3:50 AM GMT on December 20, 2017', 'year': '2017', 'mon': '12', 'mday': '20', 'hour': '03', 'min': '50', 'tzname': 'UTC'}, 'tempm': '-5.0', 'tempi': '23.0', 'dewptm': '-6.0', 'dewpti': '21.2', 'hum': '93', 'wspdm': '0.0', 'wspdi': '0.0', 'wgustm': '-9999.0', 'wgusti': '-9999.0', 'wdird': '0', 'wdire': 'North', 'vism': '0.5', 'visi': '0.3', 'pressurem': '1022', 'pressurei': '30.18', 'windchillm': '-999', 'windchilli': '-999', 'heatindexm': '-9999', 'heatindexi': '-9999', 'precipm': '-9999.00', 'precipi': '-9999.00', 'conds': 'Light Freezing Fog', 'icon': 'fog', 'fog': '1', 'rain': '0', 'snow': '0', 'hail': '0', 'thunder': '0', 'tornado': '0', 'metar': 'METAR ENGM 200350Z 00000KT 0500 R19R/0900N R01R/0650N FZFG VV001 M05/M06 Q1022'}, {'date': {'pretty': '5:00 AM CET on December 20, 2017', 'year': '2017', 'mon': '12', 'mday': '20', 'hour': '05', 'min': '00', 'tzname': 'Europe/Oslo'}, 'utcdate': {'pretty': '4:00 AM GMT on December 20, 2017', 'year': '2017', 'mon': '12', 'mday': '20', 'hour': '04', 'min': '00', 'tzname': 'UTC'}, 'tempm': '-4', 'tempi': '24', 'dewptm': '-5', 'dewpti': '23', 'hum': '96', 'wspdm': '0.0', 'wspdi': '0.0', 'wgustm': '', 'wgusti': '', 'wdird': '', 'wdire': '', 'vism': '0.1', 'visi': '0', 'pressurem': '', 'pressurei': '', 'windchillm': '-999', 'windchilli': '-999', 'heatindexm': '-9999', 'heatindexi': '-9999', 'precipm': '', 'precipi': '', 'conds': '', 'icon': '', 'fog': '0', 'rain': '0', 'snow': '0', 'hail': '0', 'thunder': '0', 'tornado': '0', 'metar': 'AAXX 20041 01384 46/01 /0000 11044 21048 58012'}, {'date': {'pretty': '5:20 AM CET on December 20, 2017', 'year': '2017', 'mon': '12', 'mday': '20', 'hour': '05', 'min': '20', 'tzname': 'Europe/Oslo'}, 'utcdate': {'pretty': '4:20 AM GMT on December 20, 2017', 'year': '2017', 'mon': '12', 'mday': '20', 'hour': '04', 'min': '20', 'tzname': 'UTC'}, 'tempm': '-5.0', 'tempi': '23.0', 'dewptm': '-6.0', 'dewpti': '21.2', 'hum': '93', 'wspdm': '0.0', 'wspdi': '0.0', 'wgustm': '-9999.0', 'wgusti': '-9999.0', 'wdird': '0', 'wdire': 'North', 'vism': '0.5', 'visi': '0.3', 'pressurem': '1021', 'pressurei': '30.15', 'windchillm': '-999', 'windchilli': '-999', 'heatindexm': '-9999', 'heatindexi': '-9999', 'precipm': '-9999.00', 'precipi': '-9999.00', 'conds': 'Light Freezing Fog', 'icon': 'fog', 'fog': '1', 'rain': '0', 'snow': '0', 'hail': '0', 'thunder': '0', 'tornado': '0', 'metar': 'METAR ENGM 200420Z 00000KT 0500 R19R/0900U R01R/0700N FZFG VV002 M05/M06 Q1021'}, {'date': {'pretty': '5:50 AM CET on December 20, 2017', 'year': '2017', 'mon': '12', 'mday': '20', 'hour': '05', 'min': '50', 'tzname': 'Europe/Oslo'}, 'utcdate': {'pretty': '4:50 AM GMT on December 20, 2017', 'year': '2017', 'mon': '12', 'mday': '20', 'hour': '04', 'min': '50', 'tzname': 'UTC'}, 'tempm': '-5.0', 'tempi': '23.0', 'dewptm': '-6.0', 'dewpti': '21.2', 'hum': '93', 'wspdm': '0.0', 'wspdi': '0.0', 'wgustm': '-9999.0', 'wgusti': '-9999.0', 'wdird': '0', 'wdire': 'North', 'vism': '-9999.0', 'visi': '-9999.0', 'pressurem': '1021', 'pressurei': '30.15', 'windchillm': '-999', 'windchilli': '-999', 'heatindexm': '-9999', 'heatindexi': '-9999', 'precipm': '-9999.00', 'precipi': '-9999.00', 'conds': 'Light Freezing Fog', 'icon': 'fog', 'fog': '1', 'rain': '0', 'snow': '0', 'hail': '0', 'thunder': '0', 'tornado': '0', 'metar': 'METAR ENGM 200450Z 00000KT 0550 R19R/0700N R01R/0800N FZFG VV002 M05/M06 Q1021 NOSIG'}, {'date': {'pretty': '6:00 AM CET on December 20, 2017', 'year': '2017', 'mon': '12', 'mday': '20', 'hour': '06', 'min': '00', 'tzname': 'Europe/Oslo'}, 'utcdate': {'pretty': '5:00 AM GMT on December 20, 2017', 'year': '2017', 'mon': '12', 'mday': '20', 'hour': '05', 'min': '00', 'tzname': 'UTC'}, 'tempm': '-4', 'tempi': '24', 'dewptm': '-5', 'dewpti': '24', 'hum': '97', 'wspdm': '0.0', 'wspdi': '0.0', 'wgustm': '', 'wgusti': '', 'wdird': '', 'wdire': '', 'vism': '0.2', 'visi': '0', 'pressurem': '', 'pressurei': '', 'windchillm': '-999', 'windchilli': '-999', 'heatindexm': '-9999', 'heatindexi': '-9999', 'precipm': '', 'precipi': '', 'conds': '', 'icon': '', 'fog': '0', 'rain': '0', 'snow': '0', 'hail': '0', 'thunder': '0', 'tornado': '0', 'metar': 'AAXX 20051 01384 46102 /0000 11043 21047 57013'}, {'date': {'pretty': '6:20 AM CET on December 20, 2017', 'year': '2017', 'mon': '12', 'mday': '20', 'hour': '06', 'min': '20', 'tzname': 'Europe/Oslo'}, 'utcdate': {'pretty': '5:20 AM GMT on December 20, 2017', 'year': '2017', 'mon': '12', 'mday': '20', 'hour': '05', 'min': '20', 'tzname': 'UTC'}, 'tempm': '-5.0', 'tempi': '23.0', 'dewptm': '-6.0', 'dewpti': '21.2', 'hum': '93', 'wspdm': '1.9', 'wspdi': '1.2', 'wgustm': '-9999.0', 'wgusti': '-9999.0', 'wdird': '360', 'wdire': 'North', 'vism': '0.6', 'visi': '0.4', 'pressurem': '1021', 'pressurei': '30.15', 'windchillm': '-999', 'windchilli': '-999', 'heatindexm': '-9999', 'heatindexi': '-9999', 'precipm': '-9999.00', 'precipi': '-9999.00', 'conds': 'Light Freezing Fog', 'icon': 'fog', 'fog': '1', 'rain': '0', 'snow': '0', 'hail': '0', 'thunder': '0', 'tornado': '0', 'metar': 'METAR ENGM 200520Z 36001KT 0600 R19R/0800D R01R/0900N FZFG VV002 M05/M06 Q1021 NOSIG'}, {'date': {'pretty': '6:50 AM CET on December 20, 2017', 'year': '2017', 'mon': '12', 'mday': '20', 'hour': '06', 'min': '50', 'tzname': 'Europe/Oslo'}, 'utcdate': {'pretty': '5:50 AM GMT on December 20, 2017', 'year': '2017', 'mon': '12', 'mday': '20', 'hour': '05', 'min': '50', 'tzname': 'UTC'}, 'tempm': '-5.0', 'tempi': '23.0', 'dewptm': '-6.0', 'dewpti': '21.2', 'hum': '93', 'wspdm': '0.0', 'wspdi': '0.0', 'wgustm': '-9999.0', 'wgusti': '-9999.0', 'wdird': '0', 'wdire': 'North', 'vism': '0.6', 'visi': '0.4', 'pressurem': '1021', 'pressurei': '30.15', 'windchillm': '-999', 'windchilli': '-999', 'heatindexm': '-9999', 'heatindexi': '-9999', 'precipm': '-9999.00', 'precipi': '-9999.00', 'conds': 'Light Freezing Fog', 'icon': 'fog', 'fog': '1', 'rain': '0', 'snow': '0', 'hail': '0', 'thunder': '0', 'tornado': '0', 'metar': 'METAR ENGM 200550Z 00000KT 0600 R19R/0800D R01R/0800U FZFG VV001 M05/M06 Q1021 TEMPO 0400 FZFG VV002'}, {'date': {'pretty': '7:00 AM CET on December 20, 2017', 'year': '2017', 'mon': '12', 'mday': '20', 'hour': '07', 'min': '00', 'tzname': 'Europe/Oslo'}, 'utcdate': {'pretty': '6:00 AM GMT on December 20, 2017', 'year': '2017', 'mon': '12', 'mday': '20', 'hour': '06', 'min': '00', 'tzname': 'UTC'}, 'tempm': '-4', 'tempi': '24', 'dewptm': '-5', 'dewpti': '24', 'hum': '98', 'wspdm': '0.0', 'wspdi': '0.0', 'wgustm': '', 'wgusti': '', 'wdird': '', 'wdire': '', 'vism': '0.5', 'visi': '0', 'pressurem': '', 'pressurei': '', 'windchillm': '-999', 'windchilli': '-999', 'heatindexm': '-9999', 'heatindexi': '-9999', 'precipm': '', 'precipi': '', 'conds': 'Heavy Fog', 'icon': 'fog', 'fog': '1', 'rain': '0', 'snow': '0', 'hail': '0', 'thunder': '0', 'tornado': '0', 'metar': 'AAXX 20061 01384 11X05 90000 11042 21046 58018 69922 74544 333 70002'}, {'date': {'pretty': '7:20 AM CET on December 20, 2017', 'year': '2017', 'mon': '12', 'mday': '20', 'hour': '07', 'min': '20', 'tzname': 'Europe/Oslo'}, 'utcdate': {'pretty': '6:20 AM GMT on December 20, 2017', 'year': '2017', 'mon': '12', 'mday': '20', 'hour': '06', 'min': '20', 'tzname': 'UTC'}, 'tempm': '-5.0', 'tempi': '23.0', 'dewptm': '-6.0', 'dewpti': '21.2', 'hum': '93', 'wspdm': '1.9', 'wspdi': '1.2', 'wgustm': '-9999.0', 'wgusti': '-9999.0', 'wdird': '0', 'wdire': 'Variable', 'vism': '0.6', 'visi': '0.4', 'pressurem': '1020', 'pressurei': '30.12', 'windchillm': '-999', 'windchilli': '-999', 'heatindexm': '-9999', 'heatindexi': '-9999', 'precipm': '-9999.00', 'precipi': '-9999.00', 'conds': 'Light Freezing Fog', 'icon': 'fog', 'fog': '1', 'rain': '0', 'snow': '0', 'hail': '0', 'thunder': '0', 'tornado': '0', 'metar': 'METAR ENGM 200620Z VRB01KT 0600 R19R/2000U R01R/1000U FZFG VV002 M05/M06 Q1020 TEMPO 0900 FZFG'}, {'date': {'pretty': '7:50 AM CET on December 20, 2017', 'year': '2017', 'mon': '12', 'mday': '20', 'hour': '07', 'min': '50', 'tzname': 'Europe/Oslo'}, 'utcdate': {'pretty': '6:50 AM GMT on December 20, 2017', 'year': '2017', 'mon': '12', 'mday': '20', 'hour': '06', 'min': '50', 'tzname': 'UTC'}, 'tempm': '-5.0', 'tempi': '23.0', 'dewptm': '-6.0', 'dewpti': '21.2', 'hum': '93', 'wspdm': '1.9', 'wspdi': '1.2', 'wgustm': '-9999.0', 'wgusti': '-9999.0', 'wdird': '0', 'wdire': 'Variable', 'vism': '1.2', 'visi': '0.7', 'pressurem': '1020', 'pressurei': '30.12', 'windchillm': '-999', 'windchilli': '-999', 'heatindexm': '-9999', 'heatindexi': '-9999', 'precipm': '-9999.00', 'precipi': '-9999.00', 'conds': 'Light Freezing Fog', 'icon': 'fog', 'fog': '1', 'rain': '0', 'snow': '0', 'hail': '0', 'thunder': '0', 'tornado': '0', 'metar': 'METAR ENGM 200650Z VRB01KT 1200 0600NE R19R/1500U R01R/1900U FZFG VV002 M05/M06 Q1020 TEMPO 0600 FZFG'}, {'date': {'pretty': '8:00 AM CET on December 20, 2017', 'year': '2017', 'mon': '12', 'mday': '20', 'hour': '08', 'min': '00', 'tzname': 'Europe/Oslo'}, 'utcdate': {'pretty': '7:00 AM GMT on December 20, 2017', 'year': '2017', 'mon': '12', 'mday': '20', 'hour': '07', 'min': '00', 'tzname': 'UTC'}, 'tempm': '-4', 'tempi': '24', 'dewptm': '-5', 'dewpti': '23', 'hum': '96', 'wspdm': '3.6', 'wspdi': '2.2', 'wgustm': '', 'wgusti': '', 'wdird': '10', 'wdire': 'North', 'vism': '0.4', 'visi': '0', 'pressurem': '', 'pressurei': '', 'windchillm': '-999', 'windchilli': '-999', 'heatindexm': '-9999', 'heatindexi': '-9999', 'precipm': '', 'precipi': '', 'conds': '', 'icon': '', 'fog': '0', 'rain': '0', 'snow': '0', 'hail': '0', 'thunder': '0', 'tornado': '0', 'metar': 'AAXX 20071 01384 46/04 /0101 11044 21048 57016'}, {'date': {'pretty': '8:20 AM CET on December 20, 2017', 'year': '2017', 'mon': '12', 'mday': '20', 'hour': '08', 'min': '20', 'tzname': 'Europe/Oslo'}, 'utcdate': {'pretty': '7:20 AM GMT on December 20, 2017', 'year': '2017', 'mon': '12', 'mday': '20', 'hour': '07', 'min': '20', 'tzname': 'UTC'}, 'tempm': '-5.0', 'tempi': '23.0', 'dewptm': '-6.0', 'dewpti': '21.2', 'hum': '93', 'wspdm': '1.9', 'wspdi': '1.2', 'wgustm': '-9999.0', 'wgusti': '-9999.0', 'wdird': '0', 'wdire': 'Variable', 'vism': '1.3', 'visi': '0.8', 'pressurem': '1020', 'pressurei': '30.12', 'windchillm': '-999', 'windchilli': '-999', 'heatindexm': '-9999', 'heatindexi': '-9999', 'precipm': '-9999.00', 'precipi': '-9999.00', 'conds': 'Light Freezing Fog', 'icon': 'fog', 'fog': '1', 'rain': '0', 'snow': '0', 'hail': '0', 'thunder': '0', 'tornado': '0', 'metar': 'METAR ENGM 200720Z VRB01KT 1300 0600E R19R/P2000N R01R/0700D FZFG VV002 M05/M06 Q1020 TEMPO 0600 FZFG'}, {'date': {'pretty': '8:50 AM CET on December 20, 2017', 'year': '2017', 'mon': '12', 'mday': '20', 'hour': '08', 'min': '50', 'tzname': 'Europe/Oslo'}, 'utcdate': {'pretty': '7:50 AM GMT on December 20, 2017', 'year': '2017', 'mon': '12', 'mday': '20', 'hour': '07', 'min': '50', 'tzname': 'UTC'}, 'tempm': '-4.0', 'tempi': '24.8', 'dewptm': '-5.0', 'dewpti': '23.0', 'hum': '93', 'wspdm': '0.0', 'wspdi': '0.0', 'wgustm': '-9999.0', 'wgusti': '-9999.0', 'wdird': '0', 'wdire': 'North', 'vism': '0.7', 'visi': '0.4', 'pressurem': '1020', 'pressurei': '30.12', 'windchillm': '-999', 'windchilli': '-999', 'heatindexm': '-9999', 'heatindexi': '-9999', 'precipm': '-9999.00', 'precipi': '-9999.00', 'conds': 'Light Freezing Fog', 'icon': 'fog', 'fog': '1', 'rain': '0', 'snow': '0', 'hail': '0', 'thunder': '0', 'tornado': '0', 'metar': 'METAR ENGM 200750Z 00000KT 0700 R19R/1400U R01R/0600N FZFG VV001 M04/M05 Q1020 TEMPO 0900 FZFG VV002'}, {'date': {'pretty': '9:00 AM CET on December 20, 2017', 'year': '2017', 'mon': '12', 'mday': '20', 'hour': '09', 'min': '00', 'tzname': 'Europe/Oslo'}, 'utcdate': {'pretty': '8:00 AM GMT on December 20, 2017', 'year': '2017', 'mon': '12', 'mday': '20', 'hour': '08', 'min': '00', 'tzname': 'UTC'}, 'tempm': '-4', 'tempi': '26', 'dewptm': '-4', 'dewpti': '25', 'hum': '95', 'wspdm': '0.0', 'wspdi': '0.0', 'wgustm': '', 'wgusti': '', 'wdird': '', 'wdire': '', 'vism': '0.1', 'visi': '0', 'pressurem': '', 'pressurei': '', 'windchillm': '-999', 'windchilli': '-999', 'heatindexm': '-9999', 'heatindexi': '-9999', 'precipm': '', 'precipi': '', 'conds': '', 'icon': '', 'fog': '0', 'rain': '0', 'snow': '0', 'hail': '0', 'thunder': '0', 'tornado': '0', 'metar': 'AAXX 20081 01384 46/01 /0000 11036 21038 56014'}, {'date': {'pretty': '9:20 AM CET on December 20, 2017', 'year': '2017', 'mon': '12', 'mday': '20', 'hour': '09', 'min': '20', 'tzname': 'Europe/Oslo'}, 'utcdate': {'pretty': '8:20 AM GMT on December 20, 2017', 'year': '2017', 'mon': '12', 'mday': '20', 'hour': '08', 'min': '20', 'tzname': 'UTC'}, 'tempm': '-4.0', 'tempi': '24.8', 'dewptm': '-5.0', 'dewpti': '23.0', 'hum': '93', 'wspdm': '0.0', 'wspdi': '0.0', 'wgustm': '-9999.0', 'wgusti': '-9999.0', 'wdird': '0', 'wdire': 'North', 'vism': '1.2', 'visi': '0.7', 'pressurem': '1020', 'pressurei': '30.12', 'windchillm': '-999', 'windchilli': '-999', 'heatindexm': '-9999', 'heatindexi': '-9999', 'precipm': '-9999.00', 'precipi': '-9999.00', 'conds': 'Light Freezing Fog', 'icon': 'fog', 'fog': '1', 'rain': '0', 'snow': '0', 'hail': '0', 'thunder': '0', 'tornado': '0', 'metar': 'METAR ENGM 200820Z 00000KT 1200 0350E R19R/1700U R01R/0400N FZFG VV002 M04/M05 Q1020 TEMPO 0600 FZFG VV001'}, {'date': {'pretty': '9:50 AM CET on December 20, 2017', 'year': '2017', 'mon': '12', 'mday': '20', 'hour': '09', 'min': '50', 'tzname': 'Europe/Oslo'}, 'utcdate': {'pretty': '8:50 AM GMT on December 20, 2017', 'year': '2017', 'mon': '12', 'mday': '20', 'hour': '08', 'min': '50', 'tzname': 'UTC'}, 'tempm': '-4.0', 'tempi': '24.8', 'dewptm': '-5.0', 'dewpti': '23.0', 'hum': '93', 'wspdm': '0.0', 'wspdi': '0.0', 'wgustm': '-9999.0', 'wgusti': '-9999.0', 'wdird': '0', 'wdire': 'North', 'vism': '0.3', 'visi': '0.2', 'pressurem': '1019', 'pressurei': '30.09', 'windchillm': '-999', 'windchilli': '-999', 'heatindexm': '-9999', 'heatindexi': '-9999', 'precipm': '-9999.00', 'precipi': '-9999.00', 'conds': 'Light Freezing Fog', 'icon': 'fog', 'fog': '1', 'rain': '0', 'snow': '0', 'hail': '0', 'thunder': '0', 'tornado': '0', 'metar': 'METAR ENGM 200850Z 00000KT 0300 R19R/P2000N R01R/0300N FZFG VV001 M04/M05 Q1019 TEMPO 0600 FZFG VV002'}, {'date': {'pretty': '10:00 AM CET on December 20, 2017', 'year': '2017', 'mon': '12', 'mday': '20', 'hour': '10', 'min': '00', 'tzname': 'Europe/Oslo'}, 'utcdate': {'pretty': '9:00 AM GMT on December 20, 2017', 'year': '2017', 'mon': '12', 'mday': '20', 'hour': '09', 'min': '00', 'tzname': 'UTC'}, 'tempm': '-3', 'tempi': '26', 'dewptm': '-4', 'dewpti': '26', 'hum': '97', 'wspdm': '0.0', 'wspdi': '0.0', 'wgustm': '', 'wgusti': '', 'wdird': '', 'wdire': '', 'vism': '0.3', 'visi': '0', 'pressurem': '', 'pressurei': '', 'windchillm': '-999', 'windchilli': '-999', 'heatindexm': '-9999', 'heatindexi': '-9999', 'precipm': '', 'precipi': '', 'conds': 'Heavy Fog', 'icon': 'fog', 'fog': '1', 'rain': '0', 'snow': '0', 'hail': '0', 'thunder': '0', 'tornado': '0', 'metar': 'AAXX 20091 01384 41/03 90000 11034 21036 57010 74544'}, {'date': {'pretty': '10:20 AM CET on December 20, 2017', 'year': '2017', 'mon': '12', 'mday': '20', 'hour': '10', 'min': '20', 'tzname': 'Europe/Oslo'}, 'utcdate': {'pretty': '9:20 AM GMT on December 20, 2017', 'year': '2017', 'mon': '12', 'mday': '20', 'hour': '09', 'min': '20', 'tzname': 'UTC'}, 'tempm': '-4.0', 'tempi': '24.8', 'dewptm': '-5.0', 'dewpti': '23.0', 'hum': '93', 'wspdm': '0.0', 'wspdi': '0.0', 'wgustm': '-9999.0', 'wgusti': '-9999.0', 'wdird': '0', 'wdire': 'North', 'vism': '0.4', 'visi': '0.3', 'pressurem': '1019', 'pressurei': '30.09', 'windchillm': '-999', 'windchilli': '-999', 'heatindexm': '-9999', 'heatindexi': '-9999', 'precipm': '-9999.00', 'precipi': '-9999.00', 'conds': 'Light Freezing Drizzle', 'icon': 'rain', 'fog': '0', 'rain': '0', 'snow': '0', 'hail': '0', 'thunder': '0', 'tornado': '0', 'metar': 'METAR ENGM 200920Z 00000KT 0450 R19R/1100D R01R/0300N -FZDZ VV001 M04/M05 Q1019 TEMPO 1200 -FZDZ BCFG VV002'}, {'date': {'pretty': '10:50 AM CET on December 20, 2017', 'year': '2017', 'mon': '12', 'mday': '20', 'hour': '10', 'min': '50', 'tzname': 'Europe/Oslo'}, 'utcdate': {'pretty': '9:50 AM GMT on December 20, 2017', 'year': '2017', 'mon': '12', 'mday': '20', 'hour': '09', 'min': '50', 'tzname': 'UTC'}, 'tempm': '-4.0', 'tempi': '24.8', 'dewptm': '-5.0', 'dewpti': '23.0', 'hum': '93', 'wspdm': '0.0', 'wspdi': '0.0', 'wgustm': '-9999.0', 'wgusti': '-9999.0', 'wdird': '0', 'wdire': 'North', 'vism': '0.3', 'visi': '0.2', 'pressurem': '1019', 'pressurei': '30.09', 'windchillm': '-999', 'windchilli': '-999', 'heatindexm': '-9999', 'heatindexi': '-9999', 'precipm': '-9999.00', 'precipi': '-9999.00', 'conds': 'Light Freezing Rain', 'icon': 'sleet', 'fog': '1', 'rain': '1', 'snow': '0', 'hail': '0', 'thunder': '0', 'tornado': '0', 'metar': 'METAR ENGM 200950Z 00000KT 0300 R19R/0650U R01R/0275N -FZRA FZFG VV001 M04/M05 Q1019 TEMPO 0500 -FZRA FZFG VV002'}, {'date': {'pretty': '11:00 AM CET on December 20, 2017', 'year': '2017', 'mon': '12', 'mday': '20', 'hour': '11', 'min': '00', 'tzname': 'Europe/Oslo'}, 'utcdate': {'pretty': '10:00 AM GMT on December 20, 2017', 'year': '2017', 'mon': '12', 'mday': '20', 'hour': '10', 'min': '00', 'tzname': 'UTC'}, 'tempm': '-3', 'tempi': '26', 'dewptm': '-3', 'dewpti': '26', 'hum': '100', 'wspdm': '0.0', 'wspdi': '0.0', 'wgustm': '', 'wgusti': '', 'wdird': '', 'wdire': '', 'vism': '0.1', 'visi': '0', 'pressurem': '', 'pressurei': '', 'windchillm': '-999', 'windchilli': '-999', 'heatindexm': '-9999', 'heatindexi': '-9999', 'precipm': '', 'precipi': '', 'conds': '', 'icon': '', 'fog': '0', 'rain': '0', 'snow': '0', 'hail': '0', 'thunder': '0', 'tornado': '0', 'metar': 'AAXX 20101 01384 46/01 /0000 11031 21033 57009'}, {'date': {'pretty': '11:20 AM CET on December 20, 2017', 'year': '2017', 'mon': '12', 'mday': '20', 'hour': '11', 'min': '20', 'tzname': 'Europe/Oslo'}, 'utcdate': {'pretty': '10:20 AM GMT on December 20, 2017', 'year': '2017', 'mon': '12', 'mday': '20', 'hour': '10', 'min': '20', 'tzname': 'UTC'}, 'tempm': '-3.0', 'tempi': '26.6', 'dewptm': '-4.0', 'dewpti': '24.8', 'hum': '93', 'wspdm': '0.0', 'wspdi': '0.0', 'wgustm': '-9999.0', 'wgusti': '-9999.0', 'wdird': '0', 'wdire': 'North', 'vism': '0.3', 'visi': '0.2', 'pressurem': '1019', 'pressurei': '30.09', 'windchillm': '-999', 'windchilli': '-999', 'heatindexm': '-9999', 'heatindexi': '-9999', 'precipm': '-9999.00', 'precipi': '-9999.00', 'conds': 'Light Freezing Rain', 'icon': 'sleet', 'fog': '1', 'rain': '1', 'snow': '0', 'hail': '0', 'thunder': '0', 'tornado': '0', 'metar': 'METAR ENGM 201020Z 00000KT 0350 R19R/0700U R01R/0350N -FZRA FZFG VV001 M03/M04 Q1019 TEMPO 0600 -FZRA FZFG VV002'}, {'date': {'pretty': '11:50 AM CET on December 20, 2017', 'year': '2017', 'mon': '12', 'mday': '20', 'hour': '11', 'min': '50', 'tzname': 'Europe/Oslo'}, 'utcdate': {'pretty': '10:50 AM GMT on December 20, 2017', 'year': '2017', 'mon': '12', 'mday': '20', 'hour': '10', 'min': '50', 'tzname': 'UTC'}, 'tempm': '-3.0', 'tempi': '26.6', 'dewptm': '-4.0', 'dewpti': '24.8', 'hum': '93', 'wspdm': '0.0', 'wspdi': '0.0', 'wgustm': '-9999.0', 'wgusti': '-9999.0', 'wdird': '0', 'wdire': 'North', 'vism': '0.5', 'visi': '0.3', 'pressurem': '1018', 'pressurei': '30.06', 'windchillm': '-999', 'windchilli': '-999', 'heatindexm': '-9999', 'heatindexi': '-9999', 'precipm': '-9999.00', 'precipi': '-9999.00', 'conds': 'Light Freezing Rain', 'icon': 'sleet', 'fog': '1', 'rain': '1', 'snow': '0', 'hail': '0', 'thunder': '0', 'tornado': '0', 'metar': 'METAR ENGM 201050Z 00000KT 0500 R19R/P2000N R01R/0750N -FZRA FZFG VV002 M03/M04 Q1018 TEMPO 0900 -FZRA FZFG'}, {'date': {'pretty': '12:00 PM CET on December 20, 2017', 'year': '2017', 'mon': '12', 'mday': '20', 'hour': '12', 'min': '00', 'tzname': 'Europe/Oslo'}, 'utcdate': {'pretty': '11:00 AM GMT on December 20, 2017', 'year': '2017', 'mon': '12', 'mday': '20', 'hour': '11', 'min': '00', 'tzname': 'UTC'}, 'tempm': '-2', 'tempi': '28', 'dewptm': '-2', 'dewpti': '28', 'hum': '100', 'wspdm': '0.0', 'wspdi': '0.0', 'wgustm': '', 'wgusti': '', 'wdird': '', 'wdire': '', 'vism': '0.6', 'visi': '0', 'pressurem': '', 'pressurei': '', 'windchillm': '-999', 'windchilli': '-999', 'heatindexm': '-9999', 'heatindexi': '-9999', 'precipm': '', 'precipi': '', 'conds': '', 'icon': '', 'fog': '0', 'rain': '0', 'snow': '0', 'hail': '0', 'thunder': '0', 'tornado': '0', 'metar': 'AAXX 20111 01384 46206 /0000 11021 21022 58013'}, {'date': {'pretty': '12:20 PM CET on December 20, 2017', 'year': '2017', 'mon': '12', 'mday': '20', 'hour': '12', 'min': '20', 'tzname': 'Europe/Oslo'}, 'utcdate': {'pretty': '11:20 AM GMT on December 20, 2017', 'year': '2017', 'mon': '12', 'mday': '20', 'hour': '11', 'min': '20', 'tzname': 'UTC'}, 'tempm': '-3.0', 'tempi': '26.6', 'dewptm': '-4.0', 'dewpti': '24.8', 'hum': '93', 'wspdm': '0.0', 'wspdi': '0.0', 'wgustm': '-9999.0', 'wgusti': '-9999.0', 'wdird': '0', 'wdire': 'North', 'vism': '1.1', 'visi': '0.7', 'pressurem': '1018', 'pressurei': '30.06', 'windchillm': '-999', 'windchilli': '-999', 'heatindexm': '-9999', 'heatindexi': '-9999', 'precipm': '-9999.00', 'precipi': '-9999.00', 'conds': 'Light Freezing Fog', 'icon': 'fog', 'fog': '1', 'rain': '0', 'snow': '0', 'hail': '0', 'thunder': '0', 'tornado': '0', 'metar': 'METAR ENGM 201120Z 00000KT 1100 0450NE R19R/1900D R01R/0900N FZFG FEW002 OVC006 M03/M04 Q1018 TEMPO 0600 -FZRA FZFG VV002'}, {'date': {'pretty': '12:50 PM CET on December 20, 2017', 'year': '2017', 'mon': '12', 'mday': '20', 'hour': '12', 'min': '50', 'tzname': 'Europe/Oslo'}, 'utcdate': {'pretty': '11:50 AM GMT on December 20, 2017', 'year': '2017', 'mon': '12', 'mday': '20', 'hour': '11', 'min': '50', 'tzname': 'UTC'}, 'tempm': '-3.0', 'tempi': '26.6', 'dewptm': '-3.0', 'dewpti': '26.6', 'hum': '100', 'wspdm': '1.9', 'wspdi': '1.2', 'wgustm': '-9999.0', 'wgusti': '-9999.0', 'wdird': '0', 'wdire': 'Variable', 'vism': '2.3', 'visi': '1.4', 'pressurem': '1018', 'pressurei': '30.06', 'windchillm': '-999', 'windchilli': '-999', 'heatindexm': '-9999', 'heatindexi': '-9999', 'precipm': '-9999.00', 'precipi': '-9999.00', 'conds': 'Patches of Fog', 'icon': 'fog', 'fog': '1', 'rain': '0', 'snow': '0', 'hail': '0', 'thunder': '0', 'tornado': '0', 'metar': 'METAR ENGM 201150Z VRB01KT 2300 0450NE R19R/P2000N R01R/1100U BCFG BR SCT002 OVC004 M03/M03 Q1018 TEMPO 1200 -FZRA BCFG'}, {'date': {'pretty': '1:00 PM CET on December 20, 2017', 'year': '2017', 'mon': '12', 'mday': '20', 'hour': '13', 'min': '00', 'tzname': 'Europe/Oslo'}, 'utcdate': {'pretty': '12:00 PM GMT on December 20, 2017', 'year': '2017', 'mon': '12', 'mday': '20', 'hour': '12', 'min': '00', 'tzname': 'UTC'}, 'tempm': '-2', 'tempi': '29', 'dewptm': '-2', 'dewpti': '29', 'hum': '99', 'wspdm': '0.0', 'wspdi': '0.0', 'wgustm': '', 'wgusti': '', 'wdird': '', 'wdire': '', 'vism': '2.3', 'visi': '1', 'pressurem': '', 'pressurei': '', 'windchillm': '-999', 'windchilli': '-999', 'heatindexm': '-9999', 'heatindexi': '-9999', 'precipm': '', 'precipi': '', 'conds': 'Light Freezing Drizzle', 'icon': 'rain', 'fog': '0', 'rain': '1', 'snow': '0', 'hail': '0', 'thunder': '0', 'tornado': '0', 'metar': 'AAXX 20121 01384 11X23 90000 11017 21018 56010 69931 72464'}, {'date': {'pretty': '1:20 PM CET on December 20, 2017', 'year': '2017', 'mon': '12', 'mday': '20', 'hour': '13', 'min': '20', 'tzname': 'Europe/Oslo'}, 'utcdate': {'pretty': '12:20 PM GMT on December 20, 2017', 'year': '2017', 'mon': '12', 'mday': '20', 'hour': '12', 'min': '20', 'tzname': 'UTC'}, 'tempm': '-2.0', 'tempi': '28.4', 'dewptm': '-3.0', 'dewpti': '26.6', 'hum': '93', 'wspdm': '0.0', 'wspdi': '0.0', 'wgustm': '-9999.0', 'wgusti': '-9999.0', 'wdird': '0', 'wdire': 'North', 'vism': '2.0', 'visi': '1.2', 'pressurem': '1018', 'pressurei': '30.06', 'windchillm': '-999', 'windchilli': '-999', 'heatindexm': '-9999', 'heatindexi': '-9999', 'precipm': '-9999.00', 'precipi': '-9999.00', 'conds': 'Mostly Cloudy', 'icon': 'mostlycloudy', 'fog': '0', 'rain': '0', 'snow': '0', 'hail': '0', 'thunder': '0', 'tornado': '0', 'metar': 'METAR ENGM 201220Z 00000KT 2000 0500E R19R/P2000N R01R/1100D -FZRA PRFG BR BKN002 M02/M03 Q1018 TEMPO 1200 -FZRA BCFG'}, {'date': {'pretty': '1:50 PM CET on December 20, 2017', 'year': '2017', 'mon': '12', 'mday': '20', 'hour': '13', 'min': '50', 'tzname': 'Europe/Oslo'}, 'utcdate': {'pretty': '12:50 PM GMT on December 20, 2017', 'year': '2017', 'mon': '12', 'mday': '20', 'hour': '12', 'min': '50', 'tzname': 'UTC'}, 'tempm': '-2.0', 'tempi': '28.4', 'dewptm': '-3.0', 'dewpti': '26.6', 'hum': '93', 'wspdm': '0.0', 'wspdi': '0.0', 'wgustm': '-9999.0', 'wgusti': '-9999.0', 'wdird': '0', 'wdire': 'North', 'vism': '4.0', 'visi': '2.5', 'pressurem': '1018', 'pressurei': '30.06', 'windchillm': '-999', 'windchilli': '-999', 'heatindexm': '-9999', 'heatindexi': '-9999', 'precipm': '-9999.00', 'precipi': '-9999.00', 'conds': 'Mostly Cloudy', 'icon': 'mostlycloudy', 'fog': '0', 'rain': '0', 'snow': '0', 'hail': '0', 'thunder': '0', 'tornado': '0', 'metar': 'METAR ENGM 201250Z 00000KT 4000 R19R/P2000N R01R/1200U BR SCT002 BKN096 M02/M03 Q1018 TEMPO 2000 -FZRA BR BKN002'}, {'date': {'pretty': '2:00 PM CET on December 20, 2017', 'year': '2017', 'mon': '12', 'mday': '20', 'hour': '14', 'min': '00', 'tzname': 'Europe/Oslo'}, 'utcdate': {'pretty': '1:00 PM GMT on December 20, 2017', 'year': '2017', 'mon': '12', 'mday': '20', 'hour': '13', 'min': '00', 'tzname': 'UTC'}, 'tempm': '-1', 'tempi': '30', 'dewptm': '-1', 'dewpti': '29', 'hum': '97', 'wspdm': '3.6', 'wspdi': '2.2', 'wgustm': '', 'wgusti': '', 'wdird': '240', 'wdire': 'WSW', 'vism': '0.7', 'visi': '0', 'pressurem': '', 'pressurei': '', 'windchillm': '-999', 'windchilli': '-999', 'heatindexm': '-9999', 'heatindexi': '-9999', 'precipm': '', 'precipi': '', 'conds': '', 'icon': '', 'fog': '0', 'rain': '0', 'snow': '0', 'hail': '0', 'thunder': '0', 'tornado': '0', 'metar': 'AAXX 20131 01384 46907 /2401 11013 21014 56010'}, {'date': {'pretty': '2:20 PM CET on December 20, 2017', 'year': '2017', 'mon': '12', 'mday': '20', 'hour': '14', 'min': '20', 'tzname': 'Europe/Oslo'}, 'utcdate': {'pretty': '1:20 PM GMT on December 20, 2017', 'year': '2017', 'mon': '12', 'mday': '20', 'hour': '13', 'min': '20', 'tzname': 'UTC'}, 'tempm': '-2.0', 'tempi': '28.4', 'dewptm': '-3.0', 'dewpti': '26.6', 'hum': '93', 'wspdm': '0.0', 'wspdi': '0.0', 'wgustm': '-9999.0', 'wgusti': '-9999.0', 'wdird': '0', 'wdire': 'North', 'vism': '5.0', 'visi': '3.1', 'pressurem': '1018', 'pressurei': '30.06', 'windchillm': '-999', 'windchilli': '-999', 'heatindexm': '-9999', 'heatindexi': '-9999', 'precipm': '-9999.00', 'precipi': '-9999.00', 'conds': 'Mostly Cloudy', 'icon': 'mostlycloudy', 'fog': '0', 'rain': '0', 'snow': '0', 'hail': '0', 'thunder': '0', 'tornado': '0', 'metar': 'METAR ENGM 201320Z 00000KT 5000 R19R/P2000N R01R/1200N BR SCT002 BKN096 M02/M03 Q1018 TEMPO 2000 BR BKN002'}, {'date': {'pretty': '2:50 PM CET on December 20, 2017', 'year': '2017', 'mon': '12', 'mday': '20', 'hour': '14', 'min': '50', 'tzname': 'Europe/Oslo'}, 'utcdate': {'pretty': '1:50 PM GMT on December 20, 2017', 'year': '2017', 'mon': '12', 'mday': '20', 'hour': '13', 'min': '50', 'tzname': 'UTC'}, 'tempm': '-2.0', 'tempi': '28.4', 'dewptm': '-3.0', 'dewpti': '26.6', 'hum': '93', 'wspdm': '0.0', 'wspdi': '0.0', 'wgustm': '-9999.0', 'wgusti': '-9999.0', 'wdird': '0', 'wdire': 'North', 'vism': '5.0', 'visi': '3.1', 'pressurem': '1018', 'pressurei': '30.06', 'windchillm': '-999', 'windchilli': '-999', 'heatindexm': '-9999', 'heatindexi': '-9999', 'precipm': '-9999.00', 'precipi': '-9999.00', 'conds': 'Mostly Cloudy', 'icon': 'mostlycloudy', 'fog': '0', 'rain': '0', 'snow': '0', 'hail': '0', 'thunder': '0', 'tornado': '0', 'metar': 'METAR ENGM 201350Z 00000KT 5000 BR BKN003 M02/M03 Q1018 TEMPO 3000 BR'}, {'date': {'pretty': '3:00 PM CET on December 20, 2017', 'year': '2017', 'mon': '12', 'mday': '20', 'hour': '15', 'min': '00', 'tzname': 'Europe/Oslo'}, 'utcdate': {'pretty': '2:00 PM GMT on December 20, 2017', 'year': '2017', 'mon': '12', 'mday': '20', 'hour': '14', 'min': '00', 'tzname': 'UTC'}, 'tempm': '-2', 'tempi': '29', 'dewptm': '-2', 'dewpti': '29', 'hum': '99', 'wspdm': '0.0', 'wspdi': '0.0', 'wgustm': '', 'wgusti': '', 'wdird': '', 'wdire': '', 'vism': '6', 'visi': '4', 'pressurem': '', 'pressurei': '', 'windchillm': '-999', 'windchilli': '-999', 'heatindexm': '-9999', 'heatindexi': '-9999', 'precipm': '', 'precipi': '', 'conds': '', 'icon': '', 'fog': '0', 'rain': '0', 'snow': '0', 'hail': '0', 'thunder': '0', 'tornado': '0', 'metar': 'AAXX 20141 01384 46156 /0000 11017 21018 58007'}, {'date': {'pretty': '3:20 PM CET on December 20, 2017', 'year': '2017', 'mon': '12', 'mday': '20', 'hour': '15', 'min': '20', 'tzname': 'Europe/Oslo'}, 'utcdate': {'pretty': '2:20 PM GMT on December 20, 2017', 'year': '2017', 'mon': '12', 'mday': '20', 'hour': '14', 'min': '20', 'tzname': 'UTC'}, 'tempm': '-2.0', 'tempi': '28.4', 'dewptm': '-3.0', 'dewpti': '26.6', 'hum': '93', 'wspdm': '0.0', 'wspdi': '0.0', 'wgustm': '-9999.0', 'wgusti': '-9999.0', 'wdird': '0', 'wdire': 'North', 'vism': '5.0', 'visi': '3.1', 'pressurem': '1018', 'pressurei': '30.06', 'windchillm': '-999', 'windchilli': '-999', 'heatindexm': '-9999', 'heatindexi': '-9999', 'precipm': '-9999.00', 'precipi': '-9999.00', 'conds': 'Overcast', 'icon': 'cloudy', 'fog': '0', 'rain': '0', 'snow': '0', 'hail': '0', 'thunder': '0', 'tornado': '0', 'metar': 'METAR ENGM 201420Z 00000KT 5000 BR OVC002 M02/M03 Q1018 TEMPO 3000 BR'}, {'date': {'pretty': '3:50 PM CET on December 20, 2017', 'year': '2017', 'mon': '12', 'mday': '20', 'hour': '15', 'min': '50', 'tzname': 'Europe/Oslo'}, 'utcdate': {'pretty': '2:50 PM GMT on December 20, 2017', 'year': '2017', 'mon': '12', 'mday': '20', 'hour': '14', 'min': '50', 'tzname': 'UTC'}, 'tempm': '-2.0', 'tempi': '28.4', 'dewptm': '-3.0', 'dewpti': '26.6', 'hum': '93', 'wspdm': '1.9', 'wspdi': '1.2', 'wgustm': '-9999.0', 'wgusti': '-9999.0', 'wdird': '0', 'wdire': 'Variable', 'vism': '5.0', 'visi': '3.1', 'pressurem': '1018', 'pressurei': '30.06', 'windchillm': '-999', 'windchilli': '-999', 'heatindexm': '-9999', 'heatindexi': '-9999', 'precipm': '-9999.00', 'precipi': '-9999.00', 'conds': 'Overcast', 'icon': 'cloudy', 'fog': '0', 'rain': '0', 'snow': '0', 'hail': '0', 'thunder': '0', 'tornado': '0', 'metar': 'METAR ENGM 201450Z VRB01KT 5000 BR OVC001 M02/M03 Q1018 TEMPO 3000 BR'}, {'date': {'pretty': '4:00 PM CET on December 20, 2017', 'year': '2017', 'mon': '12', 'mday': '20', 'hour': '16', 'min': '00', 'tzname': 'Europe/Oslo'}, 'utcdate': {'pretty': '3:00 PM GMT on December 20, 2017', 'year': '2017', 'mon': '12', 'mday': '20', 'hour': '15', 'min': '00', 'tzname': 'UTC'}, 'tempm': '-2', 'tempi': '29', 'dewptm': '-2', 'dewpti': '28', 'hum': '97', 'wspdm': '0.0', 'wspdi': '0.0', 'wgustm': '', 'wgusti': '', 'wdird': '', 'wdire': '', 'vism': '4.0', 'visi': '2', 'pressurem': '', 'pressurei': '', 'windchillm': '-999', 'windchilli': '-999', 'heatindexm': '-9999', 'heatindexi': '-9999', 'precipm': '', 'precipi': '', 'conds': 'Mist', 'icon': 'hazy', 'fog': '0', 'rain': '0', 'snow': '0', 'hail': '0', 'thunder': '0', 'tornado': '0', 'metar': 'AAXX 20151 01384 41140 80000 11019 21020 55002 71042 886//'}, {'date': {'pretty': '4:20 PM CET on December 20, 2017', 'year': '2017', 'mon': '12', 'mday': '20', 'hour': '16', 'min': '20', 'tzname': 'Europe/Oslo'}, 'utcdate': {'pretty': '3:20 PM GMT on December 20, 2017', 'year': '2017', 'mon': '12', 'mday': '20', 'hour': '15', 'min': '20', 'tzname': 'UTC'}, 'tempm': '-2.0', 'tempi': '28.4', 'dewptm': '-3.0', 'dewpti': '26.6', 'hum': '93', 'wspdm': '5.6', 'wspdi': '3.5', 'wgustm': '-9999.0', 'wgusti': '-9999.0', 'wdird': '40', 'wdire': 'NE', 'vism': '3.0', 'visi': '1.9', 'pressurem': '1018', 'pressurei': '30.06', 'windchillm': '-4.1', 'windchilli': '24.6', 'heatindexm': '-9999', 'heatindexi': '-9999', 'precipm': '-9999.00', 'precipi': '-9999.00', 'conds': 'Overcast', 'icon': 'cloudy', 'fog': '0', 'rain': '0', 'snow': '0', 'hail': '0', 'thunder': '0', 'tornado': '0', 'metar': 'METAR ENGM 201520Z 04003KT 010V080 3000 0400SE R19R/P2000N R01R/0500D PRFG BKN002 OVC004 M02/M03 Q1018 TEMPO 0400 FZFG VV001'}, {'date': {'pretty': '4:50 PM CET on December 20, 2017', 'year': '2017', 'mon': '12', 'mday': '20', 'hour': '16', 'min': '50', 'tzname': 'Europe/Oslo'}, 'utcdate': {'pretty': '3:50 PM GMT on December 20, 2017', 'year': '2017', 'mon': '12', 'mday': '20', 'hour': '15', 'min': '50', 'tzname': 'UTC'}, 'tempm': '-2.0', 'tempi': '28.4', 'dewptm': '-3.0', 'dewpti': '26.6', 'hum': '93', 'wspdm': '5.6', 'wspdi': '3.5', 'wgustm': '-9999.0', 'wgusti': '-9999.0', 'wdird': '40', 'wdire': 'NE', 'vism': '1.8', 'visi': '1.1', 'pressurem': '1018', 'pressurei': '30.06', 'windchillm': '-4.1', 'windchilli': '24.6', 'heatindexm': '-9999', 'heatindexi': '-9999', 'precipm': '-9999.00', 'precipi': '-9999.00', 'conds': 'Unknown', 'icon': 'unknown', 'fog': '0', 'rain': '0', 'snow': '0', 'hail': '0', 'thunder': '0', 'tornado': '0', 'metar': 'METAR ENGM 201550Z 04003KT 1800 0800SE R19R/1800D R01R/1000U PRFG VV001 M02/M03 Q1018 TEMPO 0500 FZFG'}, {'date': {'pretty': '5:00 PM CET on December 20, 2017', 'year': '2017', 'mon': '12', 'mday': '20', 'hour': '17', 'min': '00', 'tzname': 'Europe/Oslo'}, 'utcdate': {'pretty': '4:00 PM GMT on December 20, 2017', 'year': '2017', 'mon': '12', 'mday': '20', 'hour': '16', 'min': '00', 'tzname': 'UTC'}, 'tempm': '-2', 'tempi': '29', 'dewptm': '-2', 'dewpti': '28', 'hum': '97', 'wspdm': '3.6', 'wspdi': '2.2', 'wgustm': '', 'wgusti': '', 'wdird': '40', 'wdire': 'NE', 'vism': '0.2', 'visi': '0', 'pressurem': '', 'pressurei': '', 'windchillm': '-999', 'windchilli': '-999', 'heatindexm': '-9999', 'heatindexi': '-9999', 'precipm': '', 'precipi': '', 'conds': '', 'icon': '', 'fog': '0', 'rain': '0', 'snow': '0', 'hail': '0', 'thunder': '0', 'tornado': '0', 'metar': 'AAXX 20161 01384 46/02 /0401 11019 21020 53005'}, {'date': {'pretty': '5:20 PM CET on December 20, 2017', 'year': '2017', 'mon': '12', 'mday': '20', 'hour': '17', 'min': '20', 'tzname': 'Europe/Oslo'}, 'utcdate': {'pretty': '4:20 PM GMT on December 20, 2017', 'year': '2017', 'mon': '12', 'mday': '20', 'hour': '16', 'min': '20', 'tzname': 'UTC'}, 'tempm': '-2.0', 'tempi': '28.4', 'dewptm': '-3.0', 'dewpti': '26.6', 'hum': '93', 'wspdm': '3.7', 'wspdi': '2.3', 'wgustm': '-9999.0', 'wgusti': '-9999.0', 'wdird': '0', 'wdire': 'Variable', 'vism': '0.6', 'visi': '0.4', 'pressurem': '1019', 'pressurei': '30.09', 'windchillm': '-999', 'windchilli': '-999', 'heatindexm': '-9999', 'heatindexi': '-9999', 'precipm': '-9999.00', 'precipi': '-9999.00', 'conds': 'Light Freezing Fog', 'icon': 'fog', 'fog': '1', 'rain': '0', 'snow': '0', 'hail': '0', 'thunder': '0', 'tornado': '0', 'metar': 'METAR ENGM 201620Z VRB02KT 0600 R19R/1100D R01R/0750D FZFG VV001 M02/M03 Q1019 TEMPO 0300 FZFG'}, {'date': {'pretty': '5:50 PM CET on December 20, 2017', 'year': '2017', 'mon': '12', 'mday': '20', 'hour': '17', 'min': '50', 'tzname': 'Europe/Oslo'}, 'utcdate': {'pretty': '4:50 PM GMT on December 20, 2017', 'year': '2017', 'mon': '12', 'mday': '20', 'hour': '16', 'min': '50', 'tzname': 'UTC'}, 'tempm': '-2.0', 'tempi': '28.4', 'dewptm': '-3.0', 'dewpti': '26.6', 'hum': '93', 'wspdm': '5.6', 'wspdi': '3.5', 'wgustm': '-9999.0', 'wgusti': '-9999.0', 'wdird': '30', 'wdire': 'NNE', 'vism': '0.5', 'visi': '0.3', 'pressurem': '1019', 'pressurei': '30.09', 'windchillm': '-4.1', 'windchilli': '24.6', 'heatindexm': '-9999', 'heatindexi': '-9999', 'precipm': '-9999.00', 'precipi': '-9999.00', 'conds': 'Light Freezing Fog', 'icon': 'fog', 'fog': '1', 'rain': '0', 'snow': '0', 'hail': '0', 'thunder': '0', 'tornado': '0', 'metar': 'METAR ENGM 201650Z 03003KT 010V080 0500 R19R/0650U R01R/0550N FZFG VV001 M02/M03 Q1019 TEMPO 0300 FZFG'}, {'date': {'pretty': '6:00 PM CET on December 20, 2017', 'year': '2017', 'mon': '12', 'mday': '20', 'hour': '18', 'min': '00', 'tzname': 'Europe/Oslo'}, 'utcdate': {'pretty': '5:00 PM GMT on December 20, 2017', 'year': '2017', 'mon': '12', 'mday': '20', 'hour': '17', 'min': '00', 'tzname': 'UTC'}, 'tempm': '-2', 'tempi': '29', 'dewptm': '-2', 'dewpti': '29', 'hum': '99', 'wspdm': '3.6', 'wspdi': '2.2', 'wgustm': '', 'wgusti': '', 'wdird': '30', 'wdire': 'NNE', 'vism': '0.1', 'visi': '0', 'pressurem': '', 'pressurei': '', 'windchillm': '-999', 'windchilli': '-999', 'heatindexm': '-9999', 'heatindexi': '-9999', 'precipm': '', 'precipi': '', 'conds': '', 'icon': '', 'fog': '0', 'rain': '0', 'snow': '0', 'hail': '0', 'thunder': '0', 'tornado': '0', 'metar': 'AAXX 20171 01384 46/01 /0301 11017 21018 53013'}, {'date': {'pretty': '6:20 PM CET on December 20, 2017', 'year': '2017', 'mon': '12', 'mday': '20', 'hour': '18', 'min': '20', 'tzname': 'Europe/Oslo'}, 'utcdate': {'pretty': '5:20 PM GMT on December 20, 2017', 'year': '2017', 'mon': '12', 'mday': '20', 'hour': '17', 'min': '20', 'tzname': 'UTC'}, 'tempm': '-2.0', 'tempi': '28.4', 'dewptm': '-3.0', 'dewpti': '26.6', 'hum': '93', 'wspdm': '5.6', 'wspdi': '3.5', 'wgustm': '-9999.0', 'wgusti': '-9999.0', 'wdird': '40', 'wdire': 'NE', 'vism': '1.3', 'visi': '0.8', 'pressurem': '1019', 'pressurei': '30.09', 'windchillm': '-4.1', 'windchilli': '24.6', 'heatindexm': '-9999', 'heatindexi': '-9999', 'precipm': '-9999.00', 'precipi': '-9999.00', 'conds': 'Patches of Fog', 'icon': 'fog', 'fog': '1', 'rain': '0', 'snow': '0', 'hail': '0', 'thunder': '0', 'tornado': '0', 'metar': 'METAR ENGM 201720Z 04003KT 360V070 1300 R19R/P2000N R01R/1500U BCFG BKN002 OVC004 M02/M03 Q1019 TEMPO 0500 FZFG VV001'}, {'date': {'pretty': '6:50 PM CET on December 20, 2017', 'year': '2017', 'mon': '12', 'mday': '20', 'hour': '18', 'min': '50', 'tzname': 'Europe/Oslo'}, 'utcdate': {'pretty': '5:50 PM GMT on December 20, 2017', 'year': '2017', 'mon': '12', 'mday': '20', 'hour': '17', 'min': '50', 'tzname': 'UTC'}, 'tempm': '-2.0', 'tempi': '28.4', 'dewptm': '-3.0', 'dewpti': '26.6', 'hum': '93', 'wspdm': '3.7', 'wspdi': '2.3', 'wgustm': '-9999.0', 'wgusti': '-9999.0', 'wdird': '0', 'wdire': 'Variable', 'vism': '0.9', 'visi': '0.6', 'pressurem': '1020', 'pressurei': '30.12', 'windchillm': '-999', 'windchilli': '-999', 'heatindexm': '-9999', 'heatindexi': '-9999', 'precipm': '-9999.00', 'precipi': '-9999.00', 'conds': 'Overcast', 'icon': 'cloudy', 'fog': '0', 'rain': '0', 'snow': '0', 'hail': '0', 'thunder': '0', 'tornado': '0', 'metar': 'METAR ENGM 201750Z VRB02KT 0900 R19R/1400U R01R/1500D PRFG OVC002 M02/M03 Q1020 TEMPO 0500 FZFG VV001'}, {'date': {'pretty': '7:00 PM CET on December 20, 2017', 'year': '2017', 'mon': '12', 'mday': '20', 'hour': '19', 'min': '00', 'tzname': 'Europe/Oslo'}, 'utcdate': {'pretty': '6:00 PM GMT on December 20, 2017', 'year': '2017', 'mon': '12', 'mday': '20', 'hour': '18', 'min': '00', 'tzname': 'UTC'}, 'tempm': '-2', 'tempi': '28', 'dewptm': '-2', 'dewpti': '28', 'hum': '100', 'wspdm': '3.6', 'wspdi': '2.2', 'wgustm': '', 'wgusti': '', 'wdird': '10', 'wdire': 'North', 'vism': '0.9', 'visi': '1', 'pressurem': '', 'pressurei': '', 'windchillm': '-999', 'windchilli': '-999', 'heatindexm': '-9999', 'heatindexi': '-9999', 'precipm': '', 'precipi': '', 'conds': 'Heavy Fog', 'icon': 'fog', 'fog': '1', 'rain': '0', 'snow': '0', 'hail': '0', 'thunder': '0', 'tornado': '0', 'metar': 'AAXX 20181 01384 11X09 90101 11021 21022 53016 69942 74942'}, {'date': {'pretty': '7:20 PM CET on December 20, 2017', 'year': '2017', 'mon': '12', 'mday': '20', 'hour': '19', 'min': '20', 'tzname': 'Europe/Oslo'}, 'utcdate': {'pretty': '6:20 PM GMT on December 20, 2017', 'year': '2017', 'mon': '12', 'mday': '20', 'hour': '18', 'min': '20', 'tzname': 'UTC'}, 'tempm': '-2.0', 'tempi': '28.4', 'dewptm': '-3.0', 'dewpti': '26.6', 'hum': '93', 'wspdm': '5.6', 'wspdi': '3.5', 'wgustm': '-9999.0', 'wgusti': '-9999.0', 'wdird': '40', 'wdire': 'NE', 'vism': '1.0', 'visi': '0.6', 'pressurem': '1020', 'pressurei': '30.12', 'windchillm': '-4.1', 'windchilli': '24.6', 'heatindexm': '-9999', 'heatindexi': '-9999', 'precipm': '-9999.00', 'precipi': '-9999.00', 'conds': 'Overcast', 'icon': 'cloudy', 'fog': '0', 'rain': '0', 'snow': '0', 'hail': '0', 'thunder': '0', 'tornado': '0', 'metar': 'METAR ENGM 201820Z 04003KT 1000 R19R/1500U R01R/1200U PRFG OVC002 M02/M03 Q1020 TEMPO 0500 FZFG VV001'}, {'date': {'pretty': '7:50 PM CET on December 20, 2017', 'year': '2017', 'mon': '12', 'mday': '20', 'hour': '19', 'min': '50', 'tzname': 'Europe/Oslo'}, 'utcdate': {'pretty': '6:50 PM GMT on December 20, 2017', 'year': '2017', 'mon': '12', 'mday': '20', 'hour': '18', 'min': '50', 'tzname': 'UTC'}, 'tempm': '-2.0', 'tempi': '28.4', 'dewptm': '-3.0', 'dewpti': '26.6', 'hum': '93', 'wspdm': '3.7', 'wspdi': '2.3', 'wgustm': '-9999.0', 'wgusti': '-9999.0', 'wdird': '0', 'wdire': 'Variable', 'vism': '1.5', 'visi': '0.9', 'pressurem': '1020', 'pressurei': '30.12', 'windchillm': '-999', 'windchilli': '-999', 'heatindexm': '-9999', 'heatindexi': '-9999', 'precipm': '-9999.00', 'precipi': '-9999.00', 'conds': 'Overcast', 'icon': 'cloudy', 'fog': '0', 'rain': '0', 'snow': '0', 'hail': '0', 'thunder': '0', 'tornado': '0', 'metar': 'METAR ENGM 201850Z VRB02KT 1500 BR OVC002 M02/M03 Q1020 TEMPO 0500 FZFG VV001'}, {'date': {'pretty': '8:20 PM CET on December 20, 2017', 'year': '2017', 'mon': '12', 'mday': '20', 'hour': '20', 'min': '20', 'tzname': 'Europe/Oslo'}, 'utcdate': {'pretty': '7:20 PM GMT on December 20, 2017', 'year': '2017', 'mon': '12', 'mday': '20', 'hour': '19', 'min': '20', 'tzname': 'UTC'}, 'tempm': '-2.0', 'tempi': '28.4', 'dewptm': '-3.0', 'dewpti': '26.6', 'hum': '93', 'wspdm': '3.7', 'wspdi': '2.3', 'wgustm': '-9999.0', 'wgusti': '-9999.0', 'wdird': '20', 'wdire': 'NNE', 'vism': '2.4', 'visi': '1.5', 'pressurem': '1021', 'pressurei': '30.15', 'windchillm': '-999', 'windchilli': '-999', 'heatindexm': '-9999', 'heatindexi': '-9999', 'precipm': '-9999.00', 'precipi': '-9999.00', 'conds': 'Overcast', 'icon': 'cloudy', 'fog': '0', 'rain': '0', 'snow': '0', 'hail': '0', 'thunder': '0', 'tornado': '0', 'metar': 'METAR ENGM 201920Z 02002KT 2400 1100SW R19R/2000U R01R/P2000N BR OVC002 M02/M03 Q1021 TEMPO 0800 FZFG'}, {'date': {'pretty': '8:50 PM CET on December 20, 2017', 'year': '2017', 'mon': '12', 'mday': '20', 'hour': '20', 'min': '50', 'tzname': 'Europe/Oslo'}, 'utcdate': {'pretty': '7:50 PM GMT on December 20, 2017', 'year': '2017', 'mon': '12', 'mday': '20', 'hour': '19', 'min': '50', 'tzname': 'UTC'}, 'tempm': '-2.0', 'tempi': '28.4', 'dewptm': '-3.0', 'dewpti': '26.6', 'hum': '93', 'wspdm': '0.0', 'wspdi': '0.0', 'wgustm': '-9999.0', 'wgusti': '-9999.0', 'wdird': '0', 'wdire': 'North', 'vism': '2.0', 'visi': '1.2', 'pressurem': '1021', 'pressurei': '30.15', 'windchillm': '-999', 'windchilli': '-999', 'heatindexm': '-9999', 'heatindexi': '-9999', 'precipm': '-9999.00', 'precipi': '-9999.00', 'conds': 'Overcast', 'icon': 'cloudy', 'fog': '0', 'rain': '0', 'snow': '0', 'hail': '0', 'thunder': '0', 'tornado': '0', 'metar': 'METAR ENGM 201950Z 00000KT 2000 BR OVC002 M02/M03 Q1021 TEMPO 0800 FZFG'}, {'date': {'pretty': '9:00 PM CET on December 20, 2017', 'year': '2017', 'mon': '12', 'mday': '20', 'hour': '21', 'min': '00', 'tzname': 'Europe/Oslo'}, 'utcdate': {'pretty': '8:00 PM GMT on December 20, 2017', 'year': '2017', 'mon': '12', 'mday': '20', 'hour': '20', 'min': '00', 'tzname': 'UTC'}, 'tempm': '-2', 'tempi': '28', 'dewptm': '-2', 'dewpti': '28', 'hum': '98', 'wspdm': '3.6', 'wspdi': '2.2', 'wgustm': '', 'wgusti': '', 'wdird': '0', 'wdire': 'North', 'vism': '0.6', 'visi': '0', 'pressurem': '', 'pressurei': '', 'windchillm': '-999', 'windchilli': '-999', 'heatindexm': '-9999', 'heatindexi': '-9999', 'precipm': '', 'precipi': '', 'conds': '', 'icon': '', 'fog': '0', 'rain': '0', 'snow': '0', 'hail': '0', 'thunder': '0', 'tornado': '0', 'metar': 'AAXX 20201 01384 46/06 /3601 11023 21024 52021'}, {'date': {'pretty': '9:20 PM CET on December 20, 2017', 'year': '2017', 'mon': '12', 'mday': '20', 'hour': '21', 'min': '20', 'tzname': 'Europe/Oslo'}, 'utcdate': {'pretty': '8:20 PM GMT on December 20, 2017', 'year': '2017', 'mon': '12', 'mday': '20', 'hour': '20', 'min': '20', 'tzname': 'UTC'}, 'tempm': '-3.0', 'tempi': '26.6', 'dewptm': '-3.0', 'dewpti': '26.6', 'hum': '100', 'wspdm': '1.9', 'wspdi': '1.2', 'wgustm': '-9999.0', 'wgusti': '-9999.0', 'wdird': '0', 'wdire': 'Variable', 'vism': '2.3', 'visi': '1.4', 'pressurem': '1021', 'pressurei': '30.15', 'windchillm': '-999', 'windchilli': '-999', 'heatindexm': '-9999', 'heatindexi': '-9999', 'precipm': '-9999.00', 'precipi': '-9999.00', 'conds': 'Patches of Fog', 'icon': 'fog', 'fog': '1', 'rain': '0', 'snow': '0', 'hail': '0', 'thunder': '0', 'tornado': '0', 'metar': 'METAR ENGM 202020Z VRB01KT 2300 0900SW R19R/1900N R01R/P2000N BCFG BR BKN002 M03/M03 Q1021 TEMPO 1200 BR'}, {'date': {'pretty': '10:00 PM CET on December 20, 2017', 'year': '2017', 'mon': '12', 'mday': '20', 'hour': '22', 'min': '00', 'tzname': 'Europe/Oslo'}, 'utcdate': {'pretty': '9:00 PM GMT on December 20, 2017', 'year': '2017', 'mon': '12', 'mday': '20', 'hour': '21', 'min': '00', 'tzname': 'UTC'}, 'tempm': '-2', 'tempi': '28', 'dewptm': '-2', 'dewpti': '28', 'hum': '97', 'wspdm': '0.0', 'wspdi': '0.0', 'wgustm': '', 'wgusti': '', 'wdird': '', 'wdire': '', 'vism': '0.7', 'visi': '0', 'pressurem': '', 'pressurei': '', 'windchillm': '-999', 'windchilli': '-999', 'heatindexm': '-9999', 'heatindexi': '-9999', 'precipm': '', 'precipi': '', 'conds': 'Heavy Fog', 'icon': 'fog', 'fog': '1', 'rain': '0', 'snow': '0', 'hail': '0', 'thunder': '0', 'tornado': '0', 'metar': 'AAXX 20211 01384 41X07 90000 11024 21025 50012 74542'}, {'date': {'pretty': '10:20 PM CET on December 20, 2017', 'year': '2017', 'mon': '12', 'mday': '20', 'hour': '22', 'min': '20', 'tzname': 'Europe/Oslo'}, 'utcdate': {'pretty': '9:20 PM GMT on December 20, 2017', 'year': '2017', 'mon': '12', 'mday': '20', 'hour': '21', 'min': '20', 'tzname': 'UTC'}, 'tempm': '-3.0', 'tempi': '26.6', 'dewptm': '-4.0', 'dewpti': '24.8', 'hum': '93', 'wspdm': '0.0', 'wspdi': '0.0', 'wgustm': '-9999.0', 'wgusti': '-9999.0', 'wdird': '0', 'wdire': 'North', 'vism': '0.6', 'visi': '0.4', 'pressurem': '1021', 'pressurei': '30.15', 'windchillm': '-999', 'windchilli': '-999', 'heatindexm': '-9999', 'heatindexi': '-9999', 'precipm': '-9999.00', 'precipi': '-9999.00', 'conds': 'Light Freezing Fog', 'icon': 'fog', 'fog': '1', 'rain': '0', 'snow': '0', 'hail': '0', 'thunder': '0', 'tornado': '0', 'metar': 'METAR ENGM 202120Z 00000KT 0600 R19R/1200D R01R/1400U FZFG VV001 M03/M04 Q1021 TEMPO 0300 FZFG'}, {'date': {'pretty': '10:50 PM CET on December 20, 2017', 'year': '2017', 'mon': '12', 'mday': '20', 'hour': '22', 'min': '50', 'tzname': 'Europe/Oslo'}, 'utcdate': {'pretty': '9:50 PM GMT on December 20, 2017', 'year': '2017', 'mon': '12', 'mday': '20', 'hour': '21', 'min': '50', 'tzname': 'UTC'}, 'tempm': '-3.0', 'tempi': '26.6', 'dewptm': '-4.0', 'dewpti': '24.8', 'hum': '93', 'wspdm': '0.0', 'wspdi': '0.0', 'wgustm': '-9999.0', 'wgusti': '-9999.0', 'wdird': '0', 'wdire': 'North', 'vism': '-9999.0', 'visi': '-9999.0', 'pressurem': '1021', 'pressurei': '30.15', 'windchillm': '-999', 'windchilli': '-999', 'heatindexm': '-9999', 'heatindexi': '-9999', 'precipm': '-9999.00', 'precipi': '-9999.00', 'conds': 'Light Freezing Fog', 'icon': 'fog', 'fog': '1', 'rain': '0', 'snow': '0', 'hail': '0', 'thunder': '0', 'tornado': '0', 'metar': 'METAR ENGM 202150Z 00000KT 0550 R19R/0550D R01R/1200U FZFG VV001 M03/M04 Q1021 TEMPO 0300 FZFG'}, {'date': {'pretty': '11:00 PM CET on December 20, 2017', 'year': '2017', 'mon': '12', 'mday': '20', 'hour': '23', 'min': '00', 'tzname': 'Europe/Oslo'}, 'utcdate': {'pretty': '10:00 PM GMT on December 20, 2017', 'year': '2017', 'mon': '12', 'mday': '20', 'hour': '22', 'min': '00', 'tzname': 'UTC'}, 'tempm': '-3', 'tempi': '27', 'dewptm': '-3', 'dewpti': '27', 'hum': '100', 'wspdm': '0.0', 'wspdi': '0.0', 'wgustm': '', 'wgusti': '', 'wdird': '', 'wdire': '', 'vism': '0.8', 'visi': '0', 'pressurem': '', 'pressurei': '', 'windchillm': '-999', 'windchilli': '-999', 'heatindexm': '-9999', 'heatindexi': '-9999', 'precipm': '', 'precipi': '', 'conds': '', 'icon': '', 'fog': '0', 'rain': '0', 'snow': '0', 'hail': '0', 'thunder': '0', 'tornado': '0', 'metar': 'AAXX 20221 01384 46108 /0000 11027 21028 51009'}, {'date': {'pretty': '11:20 PM CET on December 20, 2017', 'year': '2017', 'mon': '12', 'mday': '20', 'hour': '23', 'min': '20', 'tzname': 'Europe/Oslo'}, 'utcdate': {'pretty': '10:20 PM GMT on December 20, 2017', 'year': '2017', 'mon': '12', 'mday': '20', 'hour': '22', 'min': '20', 'tzname': 'UTC'}, 'tempm': '-3.0', 'tempi': '26.6', 'dewptm': '-4.0', 'dewpti': '24.8', 'hum': '93', 'wspdm': '0.0', 'wspdi': '0.0', 'wgustm': '-9999.0', 'wgusti': '-9999.0', 'wdird': '0', 'wdire': 'North', 'vism': '0.4', 'visi': '0.3', 'pressurem': '1021', 'pressurei': '30.15', 'windchillm': '-999', 'windchilli': '-999', 'heatindexm': '-9999', 'heatindexi': '-9999', 'precipm': '-9999.00', 'precipi': '-9999.00', 'conds': 'Light Freezing Fog', 'icon': 'fog', 'fog': '1', 'rain': '0', 'snow': '0', 'hail': '0', 'thunder': '0', 'tornado': '0', 'metar': 'METAR ENGM 202220Z 00000KT 0450 R19R/0550U R01R/0550N FZFG VV001 M03/M04 Q1021'}, {'date': {'pretty': '11:50 PM CET on December 20, 2017', 'year': '2017', 'mon': '12', 'mday': '20', 'hour': '23', 'min': '50', 'tzname': 'Europe/Oslo'}, 'utcdate': {'pretty': '10:50 PM GMT on December 20, 2017', 'year': '2017', 'mon': '12', 'mday': '20', 'hour': '22', 'min': '50', 'tzname': 'UTC'}, 'tempm': '-4.0', 'tempi': '24.8', 'dewptm': '-4.0', 'dewpti': '24.8', 'hum': '100', 'wspdm': '0.0', 'wspdi': '0.0', 'wgustm': '-9999.0', 'wgusti': '-9999.0', 'wdird': '0', 'wdire': 'North', 'vism': '0.4', 'visi': '0.3', 'pressurem': '1021', 'pressurei': '30.15', 'windchillm': '-999', 'windchilli': '-999', 'heatindexm': '-9999', 'heatindexi': '-9999', 'precipm': '-9999.00', 'precipi': '-9999.00', 'conds': 'Light Freezing Fog', 'icon': 'fog', 'fog': '1', 'rain': '0', 'snow': '0', 'hail': '0', 'thunder': '0', 'tornado': '0', 'metar': 'METAR ENGM 202250Z 00000KT 0450 R19R/0650U R01R/0450N FZFG VV001 M04/M04 Q1021'}]\n"
     ]
    },
    {
     "data": {
      "text/plain": [
       "{'conds': 'Light Freezing Fog',\n",
       " 'date': {'hour': '23',\n",
       "  'mday': '20',\n",
       "  'min': '50',\n",
       "  'mon': '12',\n",
       "  'pretty': '11:50 PM CET on December 20, 2017',\n",
       "  'tzname': 'Europe/Oslo',\n",
       "  'year': '2017'},\n",
       " 'dewpti': '24.8',\n",
       " 'dewptm': '-4.0',\n",
       " 'fog': '1',\n",
       " 'hail': '0',\n",
       " 'heatindexi': '-9999',\n",
       " 'heatindexm': '-9999',\n",
       " 'hum': '100',\n",
       " 'icon': 'fog',\n",
       " 'metar': 'METAR ENGM 202250Z 00000KT 0450 R19R/0650U R01R/0450N FZFG VV001 M04/M04 Q1021',\n",
       " 'precipi': '-9999.00',\n",
       " 'precipm': '-9999.00',\n",
       " 'pressurei': '30.15',\n",
       " 'pressurem': '1021',\n",
       " 'rain': '0',\n",
       " 'snow': '0',\n",
       " 'tempi': '24.8',\n",
       " 'tempm': '-4.0',\n",
       " 'thunder': '0',\n",
       " 'tornado': '0',\n",
       " 'utcdate': {'hour': '22',\n",
       "  'mday': '20',\n",
       "  'min': '50',\n",
       "  'mon': '12',\n",
       "  'pretty': '10:50 PM GMT on December 20, 2017',\n",
       "  'tzname': 'UTC',\n",
       "  'year': '2017'},\n",
       " 'visi': '0.3',\n",
       " 'vism': '0.4',\n",
       " 'wdird': '0',\n",
       " 'wdire': 'North',\n",
       " 'wgusti': '-9999.0',\n",
       " 'wgustm': '-9999.0',\n",
       " 'windchilli': '-999',\n",
       " 'windchillm': '-999',\n",
       " 'wspdi': '0.0',\n",
       " 'wspdm': '0.0'}"
      ]
     },
     "execution_count": 7,
     "metadata": {},
     "output_type": "execute_result"
    }
   ],
   "source": [
    "type(parsed_json)\n",
    "#print(parsed_json['response']['features']['history'])\n",
    "print(parsed_json['history']['observations'])\n",
    "type(parsed_json['history']['observations']) #list\n",
    "parsed_json['history']['observations'][-1]"
   ]
  },
  {
   "cell_type": "code",
   "execution_count": 8,
   "metadata": {
    "extensions": {
     "jupyter_dashboards": {
      "version": 1,
      "views": {
       "grid_default": {
        "hidden": true
       },
       "report_default": {}
      }
     }
    }
   },
   "outputs": [
    {
     "ename": "FileNotFoundError",
     "evalue": "[Errno 2] No such file or directory: 'netatmo.credentials'",
     "output_type": "error",
     "traceback": [
      "\u001b[0;31m---------------------------------------------------------------------------\u001b[0m",
      "\u001b[0;31mFileNotFoundError\u001b[0m                         Traceback (most recent call last)",
      "\u001b[0;32m<ipython-input-8-2a388279ed83>\u001b[0m in \u001b[0;36m<module>\u001b[0;34m()\u001b[0m\n\u001b[1;32m      2\u001b[0m \u001b[0;32mimport\u001b[0m \u001b[0mjson\u001b[0m\u001b[0;34m\u001b[0m\u001b[0m\n\u001b[1;32m      3\u001b[0m \u001b[0;31m# your patatmo connect developer credentials\u001b[0m\u001b[0;34m\u001b[0m\u001b[0;34m\u001b[0m\u001b[0m\n\u001b[0;32m----> 4\u001b[0;31m \u001b[0mcredentials\u001b[0m \u001b[0;34m=\u001b[0m \u001b[0mjson\u001b[0m\u001b[0;34m.\u001b[0m\u001b[0mload\u001b[0m\u001b[0;34m(\u001b[0m\u001b[0mopen\u001b[0m\u001b[0;34m(\u001b[0m\u001b[0;34m\"netatmo.credentials\"\u001b[0m\u001b[0;34m)\u001b[0m\u001b[0;34m)\u001b[0m\u001b[0;34m\u001b[0m\u001b[0m\n\u001b[0m\u001b[1;32m      5\u001b[0m \u001b[0;34m\u001b[0m\u001b[0m\n\u001b[1;32m      6\u001b[0m \u001b[0;31m# create an api client\u001b[0m\u001b[0;34m\u001b[0m\u001b[0;34m\u001b[0m\u001b[0m\n",
      "\u001b[0;31mFileNotFoundError\u001b[0m: [Errno 2] No such file or directory: 'netatmo.credentials'"
     ]
    }
   ],
   "source": [
    "import patatmo\n",
    "import json\n",
    "# your patatmo connect developer credentials\n",
    "credentials = json.load(open(\"netatmo.credentials\"))\n",
    "\n",
    "# create an api client\n",
    "client = patatmo.api.client.NetatmoClient()\n",
    "# tell the client's authentication your credentials\n",
    "client.authentication.credentials = credentials\n",
    "# optionally give the authentication a temporary file.\n",
    "# The tokens are then stored there for later reuse,\n",
    "# e.g. next time you invoke this script.\n",
    "# This saves time because no new tokens have to be requested.\n",
    "# New tokens are then only requested if the old ones expire.\n",
    "client.authentication.tmpfile = \"temp_auth.json\""
   ]
  },
  {
   "cell_type": "code",
   "execution_count": 9,
   "metadata": {
    "extensions": {
     "jupyter_dashboards": {
      "version": 1,
      "views": {
       "grid_default": {
        "col": 0,
        "height": 12,
        "hidden": false,
        "row": 4,
        "width": 4
       },
       "report_default": {}
      }
     }
    }
   },
   "outputs": [
    {
     "ename": "NameError",
     "evalue": "name 'client' is not defined",
     "output_type": "error",
     "traceback": [
      "\u001b[0;31m---------------------------------------------------------------------------\u001b[0m",
      "\u001b[0;31mNameError\u001b[0m                                 Traceback (most recent call last)",
      "\u001b[0;32m<ipython-input-9-cd9da96379b5>\u001b[0m in \u001b[0;36m<module>\u001b[0;34m()\u001b[0m\n\u001b[1;32m      9\u001b[0m \u001b[0;34m\u001b[0m\u001b[0m\n\u001b[1;32m     10\u001b[0m \u001b[0;31m# issue the API request\u001b[0m\u001b[0;34m\u001b[0m\u001b[0;34m\u001b[0m\u001b[0m\n\u001b[0;32m---> 11\u001b[0;31m \u001b[0mplace\u001b[0m \u001b[0;34m=\u001b[0m \u001b[0mclient\u001b[0m\u001b[0;34m.\u001b[0m\u001b[0mGetpublicdata\u001b[0m\u001b[0;34m(\u001b[0m\u001b[0mregion\u001b[0m \u001b[0;34m=\u001b[0m \u001b[0moslo_region\u001b[0m\u001b[0;34m)\u001b[0m\u001b[0;34m\u001b[0m\u001b[0m\n\u001b[0m\u001b[1;32m     12\u001b[0m \u001b[0;31m# convert the response to a pandas.DataFrame\u001b[0m\u001b[0;34m\u001b[0m\u001b[0;34m\u001b[0m\u001b[0m\n\u001b[1;32m     13\u001b[0m \u001b[0mplace\u001b[0m\u001b[0;34m.\u001b[0m\u001b[0mdataframe\u001b[0m\u001b[0;34m(\u001b[0m\u001b[0;34m)\u001b[0m\u001b[0;34m\u001b[0m\u001b[0m\n",
      "\u001b[0;31mNameError\u001b[0m: name 'client' is not defined"
     ]
    }
   ],
   "source": [
    "#Removing outliers\n",
    "# lat/lon outline of Oslo\n",
    "oslo_region = {\n",
    "    \"lat_ne\" : 60.2499,\n",
    "    \"lat_sw\" : 59.6809,\n",
    "    \"lon_ne\" : 11.0471,\n",
    "    \"lon_sw\" : 10.4085,\n",
    "}\n",
    "\n",
    "# issue the API request\n",
    "place = client.Getpublicdata(region = oslo_region)\n",
    "# convert the response to a pandas.DataFrame\n",
    "place.dataframe()\n",
    "\n",
    "\n",
    "data2= place.dataframe().dropna(axis=0)\n",
    "print(\"dimensao da data2\", len(data2))\n",
    "    #data2\n",
    "    #data1= data1[['latitude','longitude','temperature']].as_matrix().tolist()\n",
    "    #zipado =zip(data2['latitude'].tolist(), data2['longitude'].tolist(),data2['pressure'].tolist())\n",
    "    #print(list(zipado))\n",
    "    \n",
    "#if data2.as_matrix().tolist() == []: \n",
    "#        print(\"No stations in this location.\")\n",
    "        \n",
    "#else:\n",
    "lats = data2['latitude'].tolist()\n",
    "lons = data2['longitude'].tolist()\n",
    "temper = data2['temperature'].tolist()\n",
    "press = data2['pressure'].tolist()\n",
    "humid = data2['humidity'].tolist()\n",
    "altit =data2[\"altitude\"].tolist()\n",
    "print(\"dimensao de lats\", len(lats))\n",
    "\n",
    "#print(temper)\n",
    "import statistics\n",
    "import numpy\n",
    "print(\"temperature: \",numpy.std(temper,ddof=1), numpy.mean(temper)) #statistics.stdev(temper) same as numpy.std(,ddof=1) for sample\n",
    "\n",
    "print(\"pressure: \", numpy.std(press,ddof=1), numpy.mean(press))\n",
    "print(\"humidity: \", numpy.std(humid,ddof=1), numpy.mean(humid))\n",
    "print(\"altitude: \", numpy.std(altit,ddof=1), numpy.mean(altit))\n",
    "#print(humid)\n",
    "\n",
    "mean = numpy.mean(temper)\n",
    "sd = numpy.std(temper,ddof=1)\n",
    "final_list = [x for x in temper if (x > mean - 2 * sd)]\n",
    "final_list = [x for x in final_list if (x < mean + 2 * sd)]\n",
    "print(statistics.stdev(final_list), numpy.mean(final_list))\n",
    "#print(final_list)\n",
    "#print(data2)\n",
    "%matplotlib inline\n",
    "from ipywidgets import interactive\n",
    "import matplotlib.pyplot as plt\n",
    "import numpy as np\n",
    "\n",
    "\n",
    "plt.figure(2)\n",
    "plt.plot(temper, altit,'ro')\n",
    "#plt.ylim(-70, 150)\n",
    "plt.show()\n",
    "\n",
    "import pandas #same as \"pairs\" in R\n",
    "\n",
    "pandas.plotting.scatter_matrix(data2[['temperature', 'altitude', 'pressure', \n",
    "                                      'humidity', 'latitude', 'longitude']],figsize=(12,12))\n",
    "\n",
    "import seaborn\n",
    "\n",
    "seaborn.pairplot(data=data2,vars=['temperature', 'altitude', 'pressure','humidity', \n",
    "                                  'latitude', 'longitude'], kind='reg')  \n",
    "\n",
    "import statsmodels.formula.api \n",
    "model = statsmodels.formula.api.ols(\"temperature ~ altitude\", data2).fit() #linear regression \n",
    "print(model.summary())  \n",
    "\n",
    "modelM= statsmodels.formula.api.ols(formula=\"temperature ~ altitude + humidity + pressure\",\n",
    "                                    data=data2).fit()\n",
    "print(modelM.summary())\n",
    "\n",
    "final_data=[x for x in (data2[['altitude','humidity','latitude','longitude','pressure','temperature']].as_matrix().tolist()) \n",
    "             if(x[-1] > mean-2*sd)]\n",
    "final_data=[x for x in (data2[['altitude','humidity','latitude','longitude','pressure','temperature']].as_matrix().tolist()) \n",
    "             if(x[-1] < mean+2*sd)]\n",
    "temper = [row[-1] for row in final_data]\n",
    "altit = [row[0] for row in final_data]\n",
    "humid = [row[1] for row in final_data]\n",
    "lats = [row[2] for row in final_data]\n",
    "lons = [row[3] for row in final_data]\n",
    "press = [row[4] for row in final_data]\n",
    "\n",
    "# ultima coluna da matrix A: [row[-1] for row in A] \n",
    "# ou da matrix a:  a2 = zip(*a)\n",
    "#a2[-1]\n",
    "\n",
    "print(\"temperature new: \", numpy.std(temper,ddof=1), numpy.mean(temper))\n",
    "print(\"pressure new: \", numpy.std(press,ddof=1), numpy.mean(press))\n",
    "print(\"altitude new: \", numpy.std(altit,ddof=1), numpy.mean(altit))\n",
    "\n",
    "plt.figure(3)\n",
    "plt.plot(temper, altit,'ro')\n",
    "#plt.ylim(-70, 150)\n",
    "plt.show()"
   ]
  },
  {
   "cell_type": "code",
   "execution_count": 6,
   "metadata": {
    "extensions": {
     "jupyter_dashboards": {
      "version": 1,
      "views": {
       "grid_default": {
        "col": 4,
        "height": 23,
        "hidden": false,
        "row": 12,
        "width": 4
       },
       "report_default": {}
      }
     }
    }
   },
   "outputs": [
    {
     "name": "stdout",
     "output_type": "stream",
     "text": [
      "[[    1.33396226    93.29290981  1008.83081761    92.40566038\n",
      "     59.87331865    10.62115068]\n",
      " [    1.21805556   228.44991888  1009.18819444    91.3125        60.05430982\n",
      "     10.79420662]]\n",
      "[1 0 1 1 1 1 1 1 1 1 0 1 1 1 1 1 1 1 1 1 1 1 1 1 1 1 1 1 1 1 1 1 1 1 1 1 1\n",
      " 1 1 1 1 1 1 1 1 1 1 1 1 1 1 1 1 1 1 1 0 1 0 1 1 1 1 1 1 1 1 1 1 0 0 0 1 1\n",
      " 0 1 0 0 1 0 0 0 0 0 1 1 1 1 1 1 1 1 0 0 0 0 0 1 1 1 1 1 1 1 1 1 1 1 1 0 0\n",
      " 1 0 0 0 1 1 0 1 1 0 0 1 1 1 0 1 1 1 1 1 1 0 1 1 1 1 1 1 0 1 1 1 1 1 1 1 1\n",
      " 0 0 0 0 0 0 0 1 1 1 1 1 0 0 0 0 0 0 0 0 0 0 0 0 0 0 0 0 1 0 0 0 0 0 0 0 0\n",
      " 0 0 0 0 0 0 0 0 0 0 0 0 0 1 0 1 0 0 0 1 0 1 0 0 0 0 1 0 1 0 0 0 0 0 0 1 1\n",
      " 1 0 0 0 0 0 0 1 0 1 0 0 1 1 0 1 0 0 0 0 0 0 1 0 1 0 1 1 1 0 1 1 1 0 0 1 1\n",
      " 1 1 1 1 1 1 1 0 0 1 1 1 1 0 0 0 0 1 1 1 1 0 1 1 1 1 1 1 1 1 0 0 1 0 0 1 1\n",
      " 1 0 0 1 1 1 1 0 0 0 1 1 0 1 1 1 1 1 1 1 0 1 1 1 1 1 1 1 1 1 1 1 1 1 1 1 1\n",
      " 1 1 1 1 1 1 1 1 1 1 1 1 1 1 1 1 1 1 1 0 0 0 0 0 1 0 0 0 0 0 0 0 0 0 0 0 0\n",
      " 0 0 0 0 0 0 1 1 0 0 1 0 0 0 0 1 1 1 1 1 1 1 1 1 1 0 0 1 1 0 0 1 1 1 1 1 1\n",
      " 1 1 1 1 1 1 0 0 0 0 0 0 0 0 0 0 1 0 0 0 1 0 1 0 0 0 0 0 0 0 0 1 1 1 1 1 1\n",
      " 0 0 0 0 1 0 0 0 0 0 0 0 0 0 0 0 0 1 1 1 1 1 0 0 0 0 0 0 0 0 0 1 1 1 1 0 0\n",
      " 0 0 0 1 0 0 1 0 1 1 1 1 1 1 1 1 0 0 1 1 1 0 0 0 0 0 1 0 0 0 0 0 0 0 0 0 0\n",
      " 0 0 0 0 0 0 0 0 0 0 0 0 0 0 1 1 1 0 0 0 0 0 0 0 0 0 0 0 0 0 0 1 0 0 0 0 0\n",
      " 0 0 0 0 0 0 0 0 0 0 0 0 0 0 0 0 0 1 0 0 0 0 0 0 0 0 0 0 0 0 0 0 0 0 0 0 0\n",
      " 0 0 0 0 0 0 0 0 0 0 0 0 0 0]\n"
     ]
    }
   ],
   "source": [
    "import sklearn.cluster\n",
    "kmeans = sklearn.cluster.KMeans(n_clusters=2).fit(data2[['temperature', 'altitude', 'pressure', \n",
    "                                      'humidity', 'latitude', 'longitude']])\n",
    "print(kmeans.cluster_centers_)\n",
    "print(kmeans.labels_)"
   ]
  },
  {
   "cell_type": "code",
   "execution_count": 164,
   "metadata": {
    "extensions": {
     "jupyter_dashboards": {
      "version": 1,
      "views": {
       "grid_default": {
        "col": 8,
        "height": 21,
        "hidden": false,
        "row": 12,
        "width": 4
       },
       "report_default": {}
      }
     }
    }
   },
   "outputs": [
    {
     "name": "stdout",
     "output_type": "stream",
     "text": [
      "[[ -2.81976351  93.84121622]\n",
      " [ 10.51666667  47.25      ]]\n",
      "[0 0 1 0 0 0 0 0 0 0 0 0 0 0 0 0 0 0 0 1 0 0 0 0 0 0 0 0 0 0 0 0 0 1 0 0 0\n",
      " 0 0 0 0 0 0 0 0 0 0 0 0 0 0 0 0 0 0 0 0 0 0 0 0 0 0 0 0 0 0 0 0 0 0 0 0 0\n",
      " 0 0 0 0 0 0 0 0 0 0 0 0 0 0 0 0 0 0 0 0 0 0 0 0 0 0 0 0 0 0 0 0 0 0 0 0 0\n",
      " 0 0 0 0 0 0 0 0 0 0 0 0 0 0 0 0 0 0 0 0 0 0 0 0 0 0 0 0 0 0 0 0 0 0 1 0 0\n",
      " 0 0 0 0 0 0 0 0 0 0 0 0 0 0 0 0 0 0 0 0 0 1 0 0 0 0 0 0 0 0 0 0 0 0 0 0 0\n",
      " 0 0 0 0 0 0 0 0 0 0 0 0 0 0 0 0 0 0 0 0 0 0 0 0 0 0 0 0 0 0 0 0 0 0 0 0 0\n",
      " 0 0 0 0 0 0 0 0 0 0 0 0 0 0 0 0 0 1 0 0 0 0 0 0 0 0 0 0 0 0 0 0 0 0 0 0 0\n",
      " 0 0 0 0 0 0 0 1 0 0 0 0 0 0 0 0 0 0 0 0 0 0 0 0 0 0 0 0 0 0 0 0 0 0 0 0 0\n",
      " 0 0 0 0 0 1 0 0 0 0 0 0 0 0 0 0 0 1 0 0 0 0 0 0 0 0 0 0 0 0 0 0 0 0 0 0 0\n",
      " 0 0 0 0 0 0 0 0 0 0 0 0 0 1 0 0 0 1 0 0 0 0 0 0 0 0 0 0 0 0 0 0 0 0 0 0 0\n",
      " 0 0 0 0 0 0 0 0 0 0 0 0 0 0 0 0 0 0 0 0 0 0 0 0 0 0 0 0 0 0 0 0 0 0 0 0 0\n",
      " 0 0 0 0 0 0 0 0 0 0 0 0 0 0 0 0 0 0 0 0 0 0 0 0 0 0 0 0 0 0 0 0 0 0 0 0 0\n",
      " 0 0 0 0 0 0 0 0 0 0 0 0 0 0 0 0 0 0 0 0 0 0 0 0 0 0 0 0 0 0 0 0 0 0 0 0 0\n",
      " 0 0 0 0 0 0 0 0 0 0 0 0 0 0 0 0 0 0 0 0 0 0 0 0 0 0 0 0 0 0 0 0 0 0 0 0 0\n",
      " 0 0 0 0 0 0 0 0 0 0 0 0 0 0 0 0 0 0 0 0 0 0 0 0 0 0 0 0 0 0 0 0 0 0 0 0 0\n",
      " 0 0 0 0 0 0 0 0 0 0 0 0 0 0 0 0 0 0 0 0 0 0 0 0 0 0 0 0 0 0 0 0 0 0 0 0 0\n",
      " 0 0 1 0 0 0 0 0 0 0 0 0]\n"
     ]
    }
   ],
   "source": [
    "#how to find points which are inside (high temperature and low humidity)-> label 1\n",
    "import sklearn.cluster\n",
    "kmeans = sklearn.cluster.KMeans(n_clusters=2).fit(data2[['temperature', 'humidity']])\n",
    "print(kmeans.cluster_centers_)\n",
    "print(kmeans.labels_) #labels_==1 to be removed, outside stations\n"
   ]
  },
  {
   "cell_type": "code",
   "execution_count": 157,
   "metadata": {
    "collapsed": true,
    "extensions": {
     "jupyter_dashboards": {
      "version": 1,
      "views": {
       "grid_default": {
        "hidden": true
       },
       "report_default": {}
      }
     }
    }
   },
   "outputs": [],
   "source": [
    "statsmodels.formula.api.ols?"
   ]
  },
  {
   "cell_type": "code",
   "execution_count": 30,
   "metadata": {
    "extensions": {
     "jupyter_dashboards": {
      "version": 1,
      "views": {
       "grid_default": {
        "col": 0,
        "height": 20,
        "hidden": false,
        "row": 16,
        "width": 4
       },
       "report_default": {}
      }
     }
    }
   },
   "outputs": [
    {
     "data": {
      "application/vnd.jupyter.widget-view+json": {
       "model_id": "7aac8f315a924a8a9926fa97db11ca81",
       "version_major": 2,
       "version_minor": 0
      },
      "text/plain": [
       "A Jupyter Widget"
      ]
     },
     "metadata": {},
     "output_type": "display_data"
    }
   ],
   "source": [
    "from IPython.display import display\n",
    "def f(latitude,longitude): \n",
    "    mapa2 = folium.Map(location=[latitude, longitude], \n",
    "                       tiles='stamentoner',zoom_start=5,control_scale=True)\n",
    "    folium.TileLayer('Mapbox Bright').add_to(mapa2)\n",
    "    folium.TileLayer('openstreetmap').add_to(mapa2)\n",
    "    folium.TileLayer('Mapbox Control Room').add_to(mapa2)\n",
    "    folium.TileLayer('stamen Watercolor').add_to(mapa2)\n",
    "    folium.TileLayer('CartoDB positron').add_to(mapa2)\n",
    "    folium.TileLayer('CartoDB dark_matter').add_to(mapa2)\n",
    "    folium.TileLayer('Stamen Terrain').add_to(mapa2)\n",
    "    folium.LayerControl().add_to(mapa2)\n",
    "#butoes para tipo  de mapa e zoom_start ou location!!\n",
    "    mapa2.add_child(folium.plugins.MeasureControl())\n",
    "    folium.plugins.Draw().add_to(mapa2)\n",
    "#folium.plugins.ScrollZoomToggler().add_to(mapa)\n",
    "    display(mapa2)\n",
    "\n",
    "\n",
    "interactive_plot = ipywidgets.interactive(f, latitude=(-90.0, 90.0, 0.5), \n",
    "                                          longitude=(-180.0,180.0, 0.5),continuous_update=False)\n",
    "output = interactive_plot.children[-1]\n",
    "output.layout.height = '500px'   #set the height of the interactive plot so it won't change size\n",
    "interactive_plot"
   ]
  },
  {
   "cell_type": "code",
   "execution_count": 31,
   "metadata": {
    "collapsed": true,
    "extensions": {
     "jupyter_dashboards": {
      "version": 1,
      "views": {
       "grid_default": {
        "hidden": true
       },
       "report_default": {}
      }
     }
    }
   },
   "outputs": [],
   "source": [
    "ipywidgets.interactive?"
   ]
  },
  {
   "cell_type": "code",
   "execution_count": 106,
   "metadata": {
    "extensions": {
     "jupyter_dashboards": {
      "version": 1,
      "views": {
       "grid_default": {
        "col": 8,
        "height": 12,
        "hidden": false,
        "row": 33,
        "width": 4
       },
       "report_default": {}
      }
     }
    }
   },
   "outputs": [
    {
     "ename": "gaierror",
     "evalue": "[Errno -3] Temporary failure in name resolution",
     "output_type": "error",
     "traceback": [
      "\u001b[0;31m---------------------------------------------------------------------------\u001b[0m",
      "\u001b[0;31mAttributeError\u001b[0m                            Traceback (most recent call last)",
      "\u001b[0;32m~/anaconda3/lib/python3.6/site-packages/patatmo/api/requests.py\u001b[0m in \u001b[0;36mresponse\u001b[0;34m(self)\u001b[0m\n\u001b[1;32m    126\u001b[0m         \u001b[0;32mtry\u001b[0m\u001b[0;34m:\u001b[0m\u001b[0;34m\u001b[0m\u001b[0m\n\u001b[0;32m--> 127\u001b[0;31m             \u001b[0;32mreturn\u001b[0m \u001b[0mself\u001b[0m\u001b[0;34m.\u001b[0m\u001b[0m_response\u001b[0m\u001b[0;34m\u001b[0m\u001b[0m\n\u001b[0m\u001b[1;32m    128\u001b[0m         \u001b[0;32mexcept\u001b[0m \u001b[0mAttributeError\u001b[0m\u001b[0;34m:\u001b[0m\u001b[0;34m\u001b[0m\u001b[0m\n",
      "\u001b[0;31mAttributeError\u001b[0m: 'TokenRequest' object has no attribute '_response'",
      "\nDuring handling of the above exception, another exception occurred:\n",
      "\u001b[0;31mgaierror\u001b[0m                                  Traceback (most recent call last)",
      "\u001b[0;32m<ipython-input-106-dd47c5f194ff>\u001b[0m in \u001b[0;36m<module>\u001b[0;34m()\u001b[0m\n\u001b[1;32m      8\u001b[0m \u001b[0;34m\u001b[0m\u001b[0m\n\u001b[1;32m      9\u001b[0m     \u001b[0;31m# issue the API request\u001b[0m\u001b[0;34m\u001b[0m\u001b[0;34m\u001b[0m\u001b[0m\n\u001b[0;32m---> 10\u001b[0;31m \u001b[0mplace\u001b[0m \u001b[0;34m=\u001b[0m \u001b[0mclient\u001b[0m\u001b[0;34m.\u001b[0m\u001b[0mGetpublicdata\u001b[0m\u001b[0;34m(\u001b[0m\u001b[0mregion\u001b[0m \u001b[0;34m=\u001b[0m \u001b[0mplace_region\u001b[0m\u001b[0;34m)\u001b[0m\u001b[0;34m\u001b[0m\u001b[0m\n\u001b[0m\u001b[1;32m     11\u001b[0m     \u001b[0;31m# convert the response to a pandas.DataFrame\u001b[0m\u001b[0;34m\u001b[0m\u001b[0;34m\u001b[0m\u001b[0m\n\u001b[1;32m     12\u001b[0m     \u001b[0;31m#place.dataframe()\u001b[0m\u001b[0;34m\u001b[0m\u001b[0;34m\u001b[0m\u001b[0m\n",
      "\u001b[0;32m~/anaconda3/lib/python3.6/site-packages/patatmo/api/client.py\u001b[0m in \u001b[0;36mGetpublicdata\u001b[0;34m(self, region, required_data, filter, full, resolution)\u001b[0m\n\u001b[1;32m    158\u001b[0m             \u001b[0mpayload\u001b[0m \u001b[0;34m=\u001b[0m \u001b[0;34m{\u001b[0m\u001b[0;34m}\u001b[0m \u001b[0;31m# start with empty dict\u001b[0m\u001b[0;34m\u001b[0m\u001b[0m\n\u001b[1;32m    159\u001b[0m             \u001b[0;31m# set the access token\u001b[0m\u001b[0;34m\u001b[0m\u001b[0;34m\u001b[0m\u001b[0m\n\u001b[0;32m--> 160\u001b[0;31m             \u001b[0mpayload\u001b[0m\u001b[0;34m[\u001b[0m\u001b[0;34m\"access_token\"\u001b[0m\u001b[0;34m]\u001b[0m \u001b[0;34m=\u001b[0m \u001b[0mself\u001b[0m\u001b[0;34m.\u001b[0m\u001b[0mauthentication\u001b[0m\u001b[0;34m.\u001b[0m\u001b[0mtokens\u001b[0m\u001b[0;34m.\u001b[0m\u001b[0mget\u001b[0m\u001b[0;34m(\u001b[0m\u001b[0;34m\"access_token\"\u001b[0m\u001b[0;34m)\u001b[0m\u001b[0;34m\u001b[0m\u001b[0m\n\u001b[0m\u001b[1;32m    161\u001b[0m             \u001b[0;31m# set the region\u001b[0m\u001b[0;34m\u001b[0m\u001b[0;34m\u001b[0m\u001b[0m\n\u001b[1;32m    162\u001b[0m             \u001b[0mpayload\u001b[0m\u001b[0;34m.\u001b[0m\u001b[0mupdate\u001b[0m\u001b[0;34m(\u001b[0m\u001b[0mregion\u001b[0m\u001b[0;34m)\u001b[0m\u001b[0;34m\u001b[0m\u001b[0m\n",
      "\u001b[0;32m~/anaconda3/lib/python3.6/site-packages/patatmo/api/authentication.py\u001b[0m in \u001b[0;36mtokens\u001b[0;34m(self)\u001b[0m\n\u001b[1;32m    141\u001b[0m                 \"tokens are up to date.\")\n\u001b[1;32m    142\u001b[0m             \u001b[0;32mwith\u001b[0m \u001b[0mself\u001b[0m\u001b[0;34m.\u001b[0m\u001b[0mno_token_getter_recursion\u001b[0m\u001b[0;34m(\u001b[0m\u001b[0;34m)\u001b[0m\u001b[0;34m:\u001b[0m\u001b[0;34m\u001b[0m\u001b[0m\n\u001b[0;32m--> 143\u001b[0;31m                 \u001b[0mself\u001b[0m\u001b[0;34m.\u001b[0m\u001b[0mmake_sure_tokens_are_up_to_date\u001b[0m\u001b[0;34m(\u001b[0m\u001b[0;34m)\u001b[0m\u001b[0;34m\u001b[0m\u001b[0m\n\u001b[0m\u001b[1;32m    144\u001b[0m \u001b[0;34m\u001b[0m\u001b[0m\n\u001b[1;32m    145\u001b[0m         \u001b[0;32mreturn\u001b[0m \u001b[0mself\u001b[0m\u001b[0;34m.\u001b[0m\u001b[0m_tokens\u001b[0m\u001b[0;34m\u001b[0m\u001b[0m\n",
      "\u001b[0;32m~/anaconda3/lib/python3.6/site-packages/patatmo/api/authentication.py\u001b[0m in \u001b[0;36mmake_sure_tokens_are_up_to_date\u001b[0;34m(self)\u001b[0m\n\u001b[1;32m    524\u001b[0m                     self.logger.debug(\"We already have tokens, let's \" \n\u001b[1;32m    525\u001b[0m                         \"refresh them.\")\n\u001b[0;32m--> 526\u001b[0;31m                     \u001b[0mself\u001b[0m\u001b[0;34m.\u001b[0m\u001b[0mrefresh_current_tokens\u001b[0m\u001b[0;34m(\u001b[0m\u001b[0;34m)\u001b[0m \u001b[0;31m# refresh them\u001b[0m\u001b[0;34m\u001b[0m\u001b[0m\n\u001b[0m\u001b[1;32m    527\u001b[0m                 \u001b[0;32melse\u001b[0m\u001b[0;34m:\u001b[0m \u001b[0;31m# no tokens yet\u001b[0m\u001b[0;34m\u001b[0m\u001b[0m\n\u001b[1;32m    528\u001b[0m                     self.logger.debug(\"We don't have any tokens yet, let's \" \n",
      "\u001b[0;32m~/anaconda3/lib/python3.6/site-packages/patatmo/api/authentication.py\u001b[0m in \u001b[0;36mrefresh_current_tokens\u001b[0;34m(self)\u001b[0m\n\u001b[1;32m    493\u001b[0m             \u001b[0mtokenrequest\u001b[0m \u001b[0;34m=\u001b[0m \u001b[0mrequests\u001b[0m\u001b[0;34m.\u001b[0m\u001b[0mTokenRequest\u001b[0m\u001b[0;34m(\u001b[0m\u001b[0mpayload\u001b[0m \u001b[0;34m=\u001b[0m \u001b[0mpayload\u001b[0m\u001b[0;34m)\u001b[0m\u001b[0;34m\u001b[0m\u001b[0m\n\u001b[1;32m    494\u001b[0m             \u001b[0;31m# the response\u001b[0m\u001b[0;34m\u001b[0m\u001b[0;34m\u001b[0m\u001b[0m\n\u001b[0;32m--> 495\u001b[0;31m             \u001b[0mtokenresponse\u001b[0m \u001b[0;34m=\u001b[0m \u001b[0mtokenrequest\u001b[0m\u001b[0;34m.\u001b[0m\u001b[0mresponse\u001b[0m\u001b[0;34m\u001b[0m\u001b[0m\n\u001b[0m\u001b[1;32m    496\u001b[0m \u001b[0;34m\u001b[0m\u001b[0m\n\u001b[1;32m    497\u001b[0m             \u001b[0;31m# check for errors\u001b[0m\u001b[0;34m\u001b[0m\u001b[0;34m\u001b[0m\u001b[0m\n",
      "\u001b[0;32m~/anaconda3/lib/python3.6/site-packages/patatmo/api/requests.py\u001b[0m in \u001b[0;36mresponse\u001b[0;34m(self)\u001b[0m\n\u001b[1;32m    127\u001b[0m             \u001b[0;32mreturn\u001b[0m \u001b[0mself\u001b[0m\u001b[0;34m.\u001b[0m\u001b[0m_response\u001b[0m\u001b[0;34m\u001b[0m\u001b[0m\n\u001b[1;32m    128\u001b[0m         \u001b[0;32mexcept\u001b[0m \u001b[0mAttributeError\u001b[0m\u001b[0;34m:\u001b[0m\u001b[0;34m\u001b[0m\u001b[0m\n\u001b[0;32m--> 129\u001b[0;31m             \u001b[0mself\u001b[0m\u001b[0;34m.\u001b[0m\u001b[0missue\u001b[0m\u001b[0;34m(\u001b[0m\u001b[0;34m)\u001b[0m \u001b[0;31m# issue the request\u001b[0m\u001b[0;34m\u001b[0m\u001b[0m\n\u001b[0m\u001b[1;32m    130\u001b[0m         \u001b[0;32mreturn\u001b[0m \u001b[0mself\u001b[0m\u001b[0;34m.\u001b[0m\u001b[0m_response\u001b[0m \u001b[0;31m# now return\u001b[0m\u001b[0;34m\u001b[0m\u001b[0m\n\u001b[1;32m    131\u001b[0m \u001b[0;34m\u001b[0m\u001b[0m\n",
      "\u001b[0;32m~/anaconda3/lib/python3.6/site-packages/patatmo/api/requests.py\u001b[0m in \u001b[0;36missue\u001b[0;34m(self)\u001b[0m\n\u001b[1;32m    246\u001b[0m         \"\"\"\n\u001b[1;32m    247\u001b[0m         \u001b[0;31m# post the request\u001b[0m\u001b[0;34m\u001b[0m\u001b[0;34m\u001b[0m\u001b[0m\n\u001b[0;32m--> 248\u001b[0;31m         \u001b[0mres_data\u001b[0m \u001b[0;34m=\u001b[0m \u001b[0mself\u001b[0m\u001b[0;34m.\u001b[0m\u001b[0mpost_request\u001b[0m\u001b[0;34m(\u001b[0m\u001b[0;34m)\u001b[0m\u001b[0;34m\u001b[0m\u001b[0m\n\u001b[0m\u001b[1;32m    249\u001b[0m         \u001b[0;31m# pack the response into an ApiResponse object\u001b[0m\u001b[0;34m\u001b[0m\u001b[0;34m\u001b[0m\u001b[0m\n\u001b[1;32m    250\u001b[0m         response = responsetypes.TokenResponse(response = res_data,\n",
      "\u001b[0;32m~/anaconda3/lib/python3.6/site-packages/patatmo/api/requests.py\u001b[0m in \u001b[0;36mpost_request\u001b[0;34m(self)\u001b[0m\n\u001b[1;32m    173\u001b[0m             \u001b[0mresponse\u001b[0m \u001b[0;34m(\u001b[0m\u001b[0mdict\u001b[0m\u001b[0;34m)\u001b[0m\u001b[0;34m:\u001b[0m \u001b[0mJSON\u001b[0m \u001b[0mdecoded\u001b[0m \u001b[0mresponse\u001b[0m \u001b[0mdata\u001b[0m\u001b[0;34m\u001b[0m\u001b[0m\n\u001b[1;32m    174\u001b[0m         \"\"\"\n\u001b[0;32m--> 175\u001b[0;31m         \u001b[0;32mwith\u001b[0m \u001b[0mself\u001b[0m\u001b[0;34m.\u001b[0m\u001b[0mconnection_to_api\u001b[0m\u001b[0;34m(\u001b[0m\u001b[0;34m)\u001b[0m\u001b[0;34m:\u001b[0m \u001b[0;31m# connect to api\u001b[0m\u001b[0;34m\u001b[0m\u001b[0m\n\u001b[0m\u001b[1;32m    176\u001b[0m             self.logger.debug(\"issuing post request to {u} on server {s} with \" \n\u001b[1;32m    177\u001b[0m                 \"payload {p}\".format(s=self.server,u=self.url,\n",
      "\u001b[0;32m~/anaconda3/lib/python3.6/contextlib.py\u001b[0m in \u001b[0;36m__enter__\u001b[0;34m(self)\u001b[0m\n\u001b[1;32m     79\u001b[0m     \u001b[0;32mdef\u001b[0m \u001b[0m__enter__\u001b[0m\u001b[0;34m(\u001b[0m\u001b[0mself\u001b[0m\u001b[0;34m)\u001b[0m\u001b[0;34m:\u001b[0m\u001b[0;34m\u001b[0m\u001b[0m\n\u001b[1;32m     80\u001b[0m         \u001b[0;32mtry\u001b[0m\u001b[0;34m:\u001b[0m\u001b[0;34m\u001b[0m\u001b[0m\n\u001b[0;32m---> 81\u001b[0;31m             \u001b[0;32mreturn\u001b[0m \u001b[0mnext\u001b[0m\u001b[0;34m(\u001b[0m\u001b[0mself\u001b[0m\u001b[0;34m.\u001b[0m\u001b[0mgen\u001b[0m\u001b[0;34m)\u001b[0m\u001b[0;34m\u001b[0m\u001b[0m\n\u001b[0m\u001b[1;32m     82\u001b[0m         \u001b[0;32mexcept\u001b[0m \u001b[0mStopIteration\u001b[0m\u001b[0;34m:\u001b[0m\u001b[0;34m\u001b[0m\u001b[0m\n\u001b[1;32m     83\u001b[0m             \u001b[0;32mraise\u001b[0m \u001b[0mRuntimeError\u001b[0m\u001b[0;34m(\u001b[0m\u001b[0;34m\"generator didn't yield\"\u001b[0m\u001b[0;34m)\u001b[0m \u001b[0;32mfrom\u001b[0m \u001b[0;32mNone\u001b[0m\u001b[0;34m\u001b[0m\u001b[0m\n",
      "\u001b[0;32m~/anaconda3/lib/python3.6/site-packages/patatmo/api/requests.py\u001b[0m in \u001b[0;36mconnection_to_api\u001b[0;34m(self)\u001b[0m\n\u001b[1;32m    144\u001b[0m     \u001b[0;34m@\u001b[0m\u001b[0mcontextlib\u001b[0m\u001b[0;34m.\u001b[0m\u001b[0mcontextmanager\u001b[0m\u001b[0;34m\u001b[0m\u001b[0m\n\u001b[1;32m    145\u001b[0m     \u001b[0;32mdef\u001b[0m \u001b[0mconnection_to_api\u001b[0m\u001b[0;34m(\u001b[0m\u001b[0mself\u001b[0m\u001b[0;34m)\u001b[0m\u001b[0;34m:\u001b[0m\u001b[0;34m\u001b[0m\u001b[0m\n\u001b[0;32m--> 146\u001b[0;31m         \u001b[0mself\u001b[0m\u001b[0;34m.\u001b[0m\u001b[0mconnect_to_api\u001b[0m\u001b[0;34m(\u001b[0m\u001b[0;34m)\u001b[0m\u001b[0;34m\u001b[0m\u001b[0m\n\u001b[0m\u001b[1;32m    147\u001b[0m         \u001b[0;32mtry\u001b[0m\u001b[0;34m:\u001b[0m\u001b[0;34m\u001b[0m\u001b[0m\n\u001b[1;32m    148\u001b[0m             \u001b[0;32myield\u001b[0m\u001b[0;34m\u001b[0m\u001b[0m\n",
      "\u001b[0;32m~/anaconda3/lib/python3.6/site-packages/patatmo/api/requests.py\u001b[0m in \u001b[0;36mconnect_to_api\u001b[0;34m(self)\u001b[0m\n\u001b[1;32m    157\u001b[0m         \"\"\"\n\u001b[1;32m    158\u001b[0m         \u001b[0mself\u001b[0m\u001b[0;34m.\u001b[0m\u001b[0mlogger\u001b[0m\u001b[0;34m.\u001b[0m\u001b[0mdebug\u001b[0m\u001b[0;34m(\u001b[0m\u001b[0;34m\"connecting to api server...\"\u001b[0m\u001b[0;34m)\u001b[0m\u001b[0;34m\u001b[0m\u001b[0m\n\u001b[0;32m--> 159\u001b[0;31m         \u001b[0mself\u001b[0m\u001b[0;34m.\u001b[0m\u001b[0mapi_connection\u001b[0m\u001b[0;34m.\u001b[0m\u001b[0mconnect\u001b[0m\u001b[0;34m(\u001b[0m\u001b[0;34m)\u001b[0m \u001b[0;31m# connect to server\u001b[0m\u001b[0;34m\u001b[0m\u001b[0m\n\u001b[0m\u001b[1;32m    160\u001b[0m         \u001b[0mself\u001b[0m\u001b[0;34m.\u001b[0m\u001b[0mlogger\u001b[0m\u001b[0;34m.\u001b[0m\u001b[0mdebug\u001b[0m\u001b[0;34m(\u001b[0m\u001b[0;34m\"connected to api server.\"\u001b[0m\u001b[0;34m)\u001b[0m\u001b[0;34m\u001b[0m\u001b[0m\n\u001b[1;32m    161\u001b[0m \u001b[0;34m\u001b[0m\u001b[0m\n",
      "\u001b[0;32m~/anaconda3/lib/python3.6/http/client.py\u001b[0m in \u001b[0;36mconnect\u001b[0;34m(self)\u001b[0m\n\u001b[1;32m   1390\u001b[0m             \u001b[0;34m\"Connect to a host on a given (SSL) port.\"\u001b[0m\u001b[0;34m\u001b[0m\u001b[0m\n\u001b[1;32m   1391\u001b[0m \u001b[0;34m\u001b[0m\u001b[0m\n\u001b[0;32m-> 1392\u001b[0;31m             \u001b[0msuper\u001b[0m\u001b[0;34m(\u001b[0m\u001b[0;34m)\u001b[0m\u001b[0;34m.\u001b[0m\u001b[0mconnect\u001b[0m\u001b[0;34m(\u001b[0m\u001b[0;34m)\u001b[0m\u001b[0;34m\u001b[0m\u001b[0m\n\u001b[0m\u001b[1;32m   1393\u001b[0m \u001b[0;34m\u001b[0m\u001b[0m\n\u001b[1;32m   1394\u001b[0m             \u001b[0;32mif\u001b[0m \u001b[0mself\u001b[0m\u001b[0;34m.\u001b[0m\u001b[0m_tunnel_host\u001b[0m\u001b[0;34m:\u001b[0m\u001b[0;34m\u001b[0m\u001b[0m\n",
      "\u001b[0;32m~/anaconda3/lib/python3.6/http/client.py\u001b[0m in \u001b[0;36mconnect\u001b[0;34m(self)\u001b[0m\n\u001b[1;32m    934\u001b[0m         \u001b[0;34m\"\"\"Connect to the host and port specified in __init__.\"\"\"\u001b[0m\u001b[0;34m\u001b[0m\u001b[0m\n\u001b[1;32m    935\u001b[0m         self.sock = self._create_connection(\n\u001b[0;32m--> 936\u001b[0;31m             (self.host,self.port), self.timeout, self.source_address)\n\u001b[0m\u001b[1;32m    937\u001b[0m         \u001b[0mself\u001b[0m\u001b[0;34m.\u001b[0m\u001b[0msock\u001b[0m\u001b[0;34m.\u001b[0m\u001b[0msetsockopt\u001b[0m\u001b[0;34m(\u001b[0m\u001b[0msocket\u001b[0m\u001b[0;34m.\u001b[0m\u001b[0mIPPROTO_TCP\u001b[0m\u001b[0;34m,\u001b[0m \u001b[0msocket\u001b[0m\u001b[0;34m.\u001b[0m\u001b[0mTCP_NODELAY\u001b[0m\u001b[0;34m,\u001b[0m \u001b[0;36m1\u001b[0m\u001b[0;34m)\u001b[0m\u001b[0;34m\u001b[0m\u001b[0m\n\u001b[1;32m    938\u001b[0m \u001b[0;34m\u001b[0m\u001b[0m\n",
      "\u001b[0;32m~/anaconda3/lib/python3.6/socket.py\u001b[0m in \u001b[0;36mcreate_connection\u001b[0;34m(address, timeout, source_address)\u001b[0m\n\u001b[1;32m    702\u001b[0m     \u001b[0mhost\u001b[0m\u001b[0;34m,\u001b[0m \u001b[0mport\u001b[0m \u001b[0;34m=\u001b[0m \u001b[0maddress\u001b[0m\u001b[0;34m\u001b[0m\u001b[0m\n\u001b[1;32m    703\u001b[0m     \u001b[0merr\u001b[0m \u001b[0;34m=\u001b[0m \u001b[0;32mNone\u001b[0m\u001b[0;34m\u001b[0m\u001b[0m\n\u001b[0;32m--> 704\u001b[0;31m     \u001b[0;32mfor\u001b[0m \u001b[0mres\u001b[0m \u001b[0;32min\u001b[0m \u001b[0mgetaddrinfo\u001b[0m\u001b[0;34m(\u001b[0m\u001b[0mhost\u001b[0m\u001b[0;34m,\u001b[0m \u001b[0mport\u001b[0m\u001b[0;34m,\u001b[0m \u001b[0;36m0\u001b[0m\u001b[0;34m,\u001b[0m \u001b[0mSOCK_STREAM\u001b[0m\u001b[0;34m)\u001b[0m\u001b[0;34m:\u001b[0m\u001b[0;34m\u001b[0m\u001b[0m\n\u001b[0m\u001b[1;32m    705\u001b[0m         \u001b[0maf\u001b[0m\u001b[0;34m,\u001b[0m \u001b[0msocktype\u001b[0m\u001b[0;34m,\u001b[0m \u001b[0mproto\u001b[0m\u001b[0;34m,\u001b[0m \u001b[0mcanonname\u001b[0m\u001b[0;34m,\u001b[0m \u001b[0msa\u001b[0m \u001b[0;34m=\u001b[0m \u001b[0mres\u001b[0m\u001b[0;34m\u001b[0m\u001b[0m\n\u001b[1;32m    706\u001b[0m         \u001b[0msock\u001b[0m \u001b[0;34m=\u001b[0m \u001b[0;32mNone\u001b[0m\u001b[0;34m\u001b[0m\u001b[0m\n",
      "\u001b[0;32m~/anaconda3/lib/python3.6/socket.py\u001b[0m in \u001b[0;36mgetaddrinfo\u001b[0;34m(host, port, family, type, proto, flags)\u001b[0m\n\u001b[1;32m    743\u001b[0m     \u001b[0;31m# and socket type values to enum constants.\u001b[0m\u001b[0;34m\u001b[0m\u001b[0;34m\u001b[0m\u001b[0m\n\u001b[1;32m    744\u001b[0m     \u001b[0maddrlist\u001b[0m \u001b[0;34m=\u001b[0m \u001b[0;34m[\u001b[0m\u001b[0;34m]\u001b[0m\u001b[0;34m\u001b[0m\u001b[0m\n\u001b[0;32m--> 745\u001b[0;31m     \u001b[0;32mfor\u001b[0m \u001b[0mres\u001b[0m \u001b[0;32min\u001b[0m \u001b[0m_socket\u001b[0m\u001b[0;34m.\u001b[0m\u001b[0mgetaddrinfo\u001b[0m\u001b[0;34m(\u001b[0m\u001b[0mhost\u001b[0m\u001b[0;34m,\u001b[0m \u001b[0mport\u001b[0m\u001b[0;34m,\u001b[0m \u001b[0mfamily\u001b[0m\u001b[0;34m,\u001b[0m \u001b[0mtype\u001b[0m\u001b[0;34m,\u001b[0m \u001b[0mproto\u001b[0m\u001b[0;34m,\u001b[0m \u001b[0mflags\u001b[0m\u001b[0;34m)\u001b[0m\u001b[0;34m:\u001b[0m\u001b[0;34m\u001b[0m\u001b[0m\n\u001b[0m\u001b[1;32m    746\u001b[0m         \u001b[0maf\u001b[0m\u001b[0;34m,\u001b[0m \u001b[0msocktype\u001b[0m\u001b[0;34m,\u001b[0m \u001b[0mproto\u001b[0m\u001b[0;34m,\u001b[0m \u001b[0mcanonname\u001b[0m\u001b[0;34m,\u001b[0m \u001b[0msa\u001b[0m \u001b[0;34m=\u001b[0m \u001b[0mres\u001b[0m\u001b[0;34m\u001b[0m\u001b[0m\n\u001b[1;32m    747\u001b[0m         addrlist.append((_intenum_converter(af, AddressFamily),\n",
      "\u001b[0;31mgaierror\u001b[0m: [Errno -3] Temporary failure in name resolution"
     ]
    }
   ],
   "source": [
    "latitude, longitude = 0.0, 0.0\n",
    "place_region = {\n",
    "    \"lat_ne\" : latitude + 0.3, #53.7499,\n",
    "    \"lat_sw\" : latitude - 0.3, #53.3809,\n",
    "    \"lon_ne\" : longitude + 0.3, #10.3471,\n",
    "    \"lon_sw\" : longitude - 0.3, #9.7085,\n",
    "        }\n",
    "\n",
    "    # issue the API request\n",
    "place = client.Getpublicdata(region = place_region)\n",
    "    # convert the response to a pandas.DataFrame\n",
    "    #place.dataframe()\n",
    "#print(place[\"body\"])\n",
    "data2= place.dataframe().dropna(axis=0)\n",
    "    #data2\n",
    "    #data1= data1[['latitude','longitude','temperature']].as_matrix().tolist()\n",
    "    #zipado =zip(data2['latitude'].tolist(), data2['longitude'].tolist(),data2['pressure'].tolist())\n",
    "    #print(list(zipado))\n",
    "print(\"data2:\",data2)\n",
    "print(\"data2matrix: \", data2.as_matrix())\n",
    "print(data2[\"altitude\"].tolist())#print(type(data2))\n",
    "if data2.as_matrix().tolist() == []: \n",
    "    print(\"vazio\")\n",
    "lats = data2['latitude'].tolist()\n",
    "lons = data2['longitude'].tolist()\n",
    "\n",
    "temper = data2['temperature'].tolist()\n",
    "press = data2['pressure'].tolist()\n",
    "humid = data2['humidity'].tolist()\n"
   ]
  },
  {
   "cell_type": "code",
   "execution_count": 107,
   "metadata": {
    "extensions": {
     "jupyter_dashboards": {
      "version": 1,
      "views": {
       "grid_default": {
        "col": 4,
        "height": 20,
        "hidden": false,
        "row": 35,
        "width": 4
       },
       "report_default": {}
      }
     }
    }
   },
   "outputs": [
    {
     "data": {
      "application/vnd.jupyter.widget-view+json": {
       "model_id": "a5802d7316c441a3aa130d373d342df3",
       "version_major": 2,
       "version_minor": 0
      },
      "text/plain": [
       "A Jupyter Widget"
      ]
     },
     "metadata": {},
     "output_type": "display_data"
    }
   ],
   "source": [
    "from IPython.display import display\n",
    "def f(latitude= 50.0,longitude= 10.0): \n",
    "    mapa2 = folium.Map(location=[latitude, longitude], \n",
    "                       tiles='stamentoner',zoom_start=5,control_scale=True)\n",
    "    folium.TileLayer('Mapbox Bright').add_to(mapa2)\n",
    "    folium.TileLayer('openstreetmap').add_to(mapa2)\n",
    "    folium.TileLayer('Mapbox Control Room').add_to(mapa2)\n",
    "    folium.TileLayer('stamen Watercolor').add_to(mapa2)\n",
    "    folium.TileLayer('CartoDB positron').add_to(mapa2)\n",
    "    folium.TileLayer('CartoDB dark_matter').add_to(mapa2)\n",
    "    folium.TileLayer('Stamen Terrain').add_to(mapa2)\n",
    "\n",
    "    mapa2.add_child(folium.plugins.MeasureControl())\n",
    "    folium.plugins.Draw().add_to(mapa2)\n",
    "        \n",
    "    place_region = {\n",
    "    \"lat_ne\" : latitude + 0.3,\n",
    "    \"lat_sw\" : latitude - 0.3, \n",
    "    \"lon_ne\" : longitude + 0.3, \n",
    "    \"lon_sw\" : longitude - 0.3, \n",
    "        }\n",
    "\n",
    "    # issue the API request\n",
    "    place = client.Getpublicdata(region = place_region)\n",
    "    # convert the response to a pandas.DataFrame\n",
    "    #place.dataframe()\n",
    "    data2= place.dataframe().dropna(axis=0)\n",
    "    #data2\n",
    "    #data1= data1[['latitude','longitude','temperature']].as_matrix().tolist()\n",
    "    #zipado =zip(data2['latitude'].tolist(), data2['longitude'].tolist(),data2['pressure'].tolist())\n",
    "    #print(list(zipado))\n",
    "\n",
    "    lats = data2['latitude'].tolist()\n",
    "    lons = data2['longitude'].tolist()\n",
    "\n",
    "    temper = data2['temperature'].tolist()\n",
    "    press = data2['pressure'].tolist()\n",
    "    humid = data2['humidity'].tolist()\n",
    "    \n",
    "    mapa2.add_child(folium.plugins.HeatMap(list(zip(lats,lons,temper)),\n",
    "                                      name='temperature')) #data=[lat,lon,weight] #weight=temperature\n",
    "\n",
    "    mapa2.add_child(folium.plugins.HeatMap(list(zip(lats,lons, press)),\n",
    "                                      name='pressure'))\n",
    "\n",
    "    mapa2.add_child(folium.plugins.HeatMap(list(zip(lats,lons, humid)),\n",
    "                                      name='humidity'))\n",
    "    mapa2.add_child(folium.LayerControl())\n",
    "\n",
    "    folium.plugins.Fullscreen().add_to(mapa2)\n",
    "    \n",
    "\n",
    "    display(mapa2)\n",
    "\n",
    "\n",
    "interactive_plot = ipywidgets.interactive(f, latitude=(-90.0, 90.0, 0.5), \n",
    "                                          longitude=(-180.0,180.0, 0.5), continuous_update=False)\n",
    "output = interactive_plot.children[-1]\n",
    "output.layout.height = '500px'   #set the height of the interactive plot so it won't change size\n",
    "\n",
    "interactive_plot\n",
    "#see container/layout widgets: http://ipywidgets.readthedocs.io/en/stable/examples/Widget%20List.html"
   ]
  },
  {
   "cell_type": "code",
   "execution_count": 14,
   "metadata": {
    "collapsed": true,
    "extensions": {
     "jupyter_dashboards": {
      "version": 1,
      "views": {
       "grid_default": {
        "hidden": true
       },
       "report_default": {}
      }
     }
    }
   },
   "outputs": [],
   "source": [
    "from IPython.display import display\n",
    "import branca.colormap"
   ]
  },
  {
   "cell_type": "code",
   "execution_count": null,
   "metadata": {
    "extensions": {
     "jupyter_dashboards": {
      "version": 1,
      "views": {
       "grid_default": {
        "col": 0,
        "height": 5,
        "hidden": false,
        "row": 36,
        "width": 4
       },
       "report_default": {}
      }
     }
    }
   },
   "outputs": [],
   "source": []
  },
  {
   "cell_type": "code",
   "execution_count": null,
   "metadata": {
    "extensions": {
     "jupyter_dashboards": {
      "version": 1,
      "views": {
       "grid_default": {
        "col": 0,
        "height": 4,
        "hidden": false,
        "row": 41,
        "width": 4
       },
       "report_default": {}
      }
     }
    }
   },
   "outputs": [],
   "source": []
  },
  {
   "cell_type": "code",
   "execution_count": null,
   "metadata": {
    "extensions": {
     "jupyter_dashboards": {
      "version": 1,
      "views": {
       "grid_default": {
        "col": 0,
        "height": 8,
        "hidden": false,
        "row": 45,
        "width": 4
       },
       "report_default": {}
      }
     }
    }
   },
   "outputs": [],
   "source": []
  },
  {
   "cell_type": "code",
   "execution_count": null,
   "metadata": {
    "extensions": {
     "jupyter_dashboards": {
      "version": 1,
      "views": {
       "grid_default": {
        "col": 8,
        "height": 12,
        "hidden": false,
        "row": 45,
        "width": 4
       },
       "report_default": {}
      }
     }
    }
   },
   "outputs": [],
   "source": []
  },
  {
   "cell_type": "code",
   "execution_count": 29,
   "metadata": {
    "extensions": {
     "jupyter_dashboards": {
      "version": 1,
      "views": {
       "grid_default": {
        "col": 0,
        "height": 14,
        "hidden": false,
        "row": 53,
        "width": 4
       },
       "report_default": {}
      }
     }
    }
   },
   "outputs": [
    {
     "data": {
      "application/vnd.jupyter.widget-view+json": {
       "model_id": "d44379fbe731488ca2f4a90daea68c81",
       "version_major": 2,
       "version_minor": 0
      },
      "text/plain": [
       "A Jupyter Widget"
      ]
     },
     "metadata": {},
     "output_type": "display_data"
    },
    {
     "data": {
      "application/vnd.jupyter.widget-view+json": {
       "model_id": "ea38a0293d134ed3830c5b2d81f7adf7",
       "version_major": 2,
       "version_minor": 0
      },
      "text/plain": [
       "A Jupyter Widget"
      ]
     },
     "metadata": {},
     "output_type": "display_data"
    }
   ],
   "source": [
    "def f(latitude,longitude):\n",
    "    mapa2 = folium.Map(location=[latitude, longitude], tiles='stamentoner',zoom_start=5,control_scale=True)#, tiles='stamentoner', zoom_start=9)\n",
    "    folium.TileLayer('Mapbox Bright').add_to(mapa2)\n",
    "    folium.TileLayer('openstreetmap').add_to(mapa2)\n",
    "    folium.TileLayer('Mapbox Control Room').add_to(mapa2)\n",
    "    folium.TileLayer('stamen Watercolor').add_to(mapa2)\n",
    "    folium.TileLayer('CartoDB positron').add_to(mapa2)\n",
    "    folium.TileLayer('CartoDB dark_matter').add_to(mapa2)\n",
    "    folium.TileLayer('Stamen Terrain').add_to(mapa2)\n",
    "    \n",
    "    mapa2.add_child(folium.plugins.MeasureControl())\n",
    "    folium.plugins.Draw().add_to(mapa2)\n",
    "    \n",
    "    place_region = {\n",
    "    \"lat_ne\" : latitude + 0.3, \n",
    "    \"lat_sw\" : latitude - 0.3, \n",
    "    \"lon_ne\" : longitude + 0.3,\n",
    "    \"lon_sw\" : longitude - 0.3, \n",
    "        }\n",
    "    # issue the API request\n",
    "    place = client.Getpublicdata(region = place_region)\n",
    "    # convert the response to a pandas.DataFrame\n",
    "    data2= place.dataframe().dropna(axis=0)\n",
    "   \n",
    "    if data2.as_matrix().tolist() != []:\n",
    "        widgetText.value=str(len(data2)) +\" Weather stations\"\n",
    "        temper = data2['temperature'].tolist()\n",
    "        mean = numpy.mean(temper)\n",
    "        sd = numpy.std(temper,ddof=1)\n",
    "        final_data=[x for x in (data2[['altitude','humidity','latitude','longitude','pressure','temperature']].as_matrix().tolist()) \n",
    "             if(x[-1] > mean-2*sd)]\n",
    "        final_data=[x for x in (data2[['altitude','humidity','latitude','longitude','pressure','temperature']].as_matrix().tolist()) \n",
    "             if(x[-1] < mean+2*sd)]\n",
    "        temper = [row[-1] for row in final_data]\n",
    "        altit = [row[0] for row in final_data]\n",
    "        humid = [row[1] for row in final_data]\n",
    "        lats = [row[2] for row in final_data]\n",
    "        lons = [row[3] for row in final_data]\n",
    "        press = [row[4] for row in final_data]\n",
    "        colormapT = branca.colormap.LinearColormap(['blue', 'red'], \n",
    "                                          vmin=min(temper), vmax=max(temper))\n",
    "        colormapT.caption = 'temperature ['+u\"\\u2103 ]\"\n",
    "        mapa2.add_child(colormapT)\n",
    "\n",
    "        feature_groupTemp = folium.FeatureGroup(name='weather')\n",
    "        for i,value in enumerate(temper):\n",
    "            folium.RegularPolygonMarker([lats[i],lons[i]],\n",
    "                popup= str(value)+ u\"\\u2103\"  #unicode degree Celsius\n",
    "                                +', '+str(press[i])+' mbar, '+str(humid[i])+'% '+'at '+str(altit[i])+' m',\n",
    "                  number_of_sides=6, radius=10,\n",
    "                  color=colormapT(value),    #'blue', \n",
    "                  fill_color= colormapT(value)  #'#769d96'\n",
    "                 ).add_to(feature_groupTemp)\n",
    "\n",
    "        mapa2.add_child(feature_groupTemp)\n",
    "    else:\n",
    "        widgetText.value=\"No weather stations in this location.\"\n",
    "    \n",
    "    mapa2.add_child(folium.LayerControl())\n",
    "    folium.plugins.Fullscreen().add_to(mapa2)\n",
    "\n",
    "    display(mapa2)\n",
    "    return\n",
    "\n",
    "widgetText=ipywidgets.Text(value=' ', disabled=True)\n",
    "display(widgetText)\n",
    "\n",
    "interact_plot = ipywidgets.interact_manual(f, \n",
    "                                          latitude=ipywidgets.FloatSlider(min=-90.0,max= 90.0,step= 0.5),\n",
    "                                          longitude=ipywidgets.FloatSlider(min=-180.0,max=180.0,step=0.5)\n",
    "                                          );\n",
    "\n",
    "interact_plot.widget.children[-1].layout.height = '500px'   #set the height of the interactive plot so it won't change size\n",
    "interact_plot.widget.children[2].description=\"Click to plot\"\n"
   ]
  },
  {
   "cell_type": "code",
   "execution_count": null,
   "metadata": {
    "extensions": {
     "jupyter_dashboards": {
      "version": 1,
      "views": {
       "grid_default": {
        "col": 4,
        "height": 12,
        "hidden": false,
        "row": 55,
        "width": 4
       },
       "report_default": {}
      }
     }
    }
   },
   "outputs": [],
   "source": []
  },
  {
   "cell_type": "code",
   "execution_count": null,
   "metadata": {
    "extensions": {
     "jupyter_dashboards": {
      "version": 1,
      "views": {
       "grid_default": {
        "col": 8,
        "height": 20,
        "hidden": false,
        "row": 57,
        "width": 4
       },
       "report_default": {}
      }
     }
    }
   },
   "outputs": [],
   "source": []
  },
  {
   "cell_type": "code",
   "execution_count": 12,
   "metadata": {
    "extensions": {
     "jupyter_dashboards": {
      "version": 1,
      "views": {
       "grid_default": {
        "col": 0,
        "height": 25,
        "hidden": false,
        "row": 67,
        "width": 4
       },
       "report_default": {}
      }
     }
    }
   },
   "outputs": [
    {
     "data": {
      "application/vnd.jupyter.widget-view+json": {
       "model_id": "8eaaf5fb78224fa3a4deaf9c483e5507",
       "version_major": 2,
       "version_minor": 0
      },
      "text/plain": [
       "A Jupyter Widget"
      ]
     },
     "metadata": {},
     "output_type": "display_data"
    }
   ],
   "source": [
    "from IPython.display import display\n",
    "def f(lat,lon):\n",
    "    mapa2 = folium.Map(location=[lat, lon], tiles='stamenterrain',zoom_start=5,control_scale=True)#, tiles='stamentoner', zoom_start=9)\n",
    "    display(mapa2)\n",
    "\n",
    "\n",
    "interactive_plot = ipywidgets.interactive(f, lat=(-90.0, 90.0, 0.5), lon=(-180.0,180.0, 0.5))\n",
    "output = interactive_plot.children[-1]\n",
    "output.layout.height = '650px'   #set the height of the interactive plot so it won't change size\n",
    "interactive_plot"
   ]
  },
  {
   "cell_type": "code",
   "execution_count": 25,
   "metadata": {
    "extensions": {
     "jupyter_dashboards": {
      "version": 1,
      "views": {
       "grid_default": {
        "hidden": true
       },
       "report_default": {}
      }
     }
    }
   },
   "outputs": [
    {
     "ename": "ModuleNotFoundError",
     "evalue": "No module named 'urllib2'",
     "output_type": "error",
     "traceback": [
      "\u001b[0;31m---------------------------------------------------------------------------\u001b[0m",
      "\u001b[0;31mModuleNotFoundError\u001b[0m                       Traceback (most recent call last)",
      "\u001b[0;32m<ipython-input-25-26668d48aafc>\u001b[0m in \u001b[0;36m<module>\u001b[0;34m()\u001b[0m\n\u001b[0;32m----> 1\u001b[0;31m \u001b[0;32mimport\u001b[0m \u001b[0murllib2\u001b[0m\u001b[0;34m\u001b[0m\u001b[0m\n\u001b[0m\u001b[1;32m      2\u001b[0m \u001b[0;32mimport\u001b[0m \u001b[0mjson\u001b[0m\u001b[0;34m\u001b[0m\u001b[0m\n\u001b[1;32m      3\u001b[0m \u001b[0mf\u001b[0m \u001b[0;34m=\u001b[0m \u001b[0murllib2\u001b[0m\u001b[0;34m.\u001b[0m\u001b[0murlopen\u001b[0m\u001b[0;34m(\u001b[0m\u001b[0;34m'http://api.wunderground.com/api/Your_Key/geolookup/conditions/q/IA/Cedar_Rapids.json'\u001b[0m\u001b[0;34m)\u001b[0m\u001b[0;34m\u001b[0m\u001b[0m\n\u001b[1;32m      4\u001b[0m \u001b[0mjson_string\u001b[0m \u001b[0;34m=\u001b[0m \u001b[0mf\u001b[0m\u001b[0;34m.\u001b[0m\u001b[0mread\u001b[0m\u001b[0;34m(\u001b[0m\u001b[0;34m)\u001b[0m\u001b[0;34m\u001b[0m\u001b[0m\n\u001b[1;32m      5\u001b[0m \u001b[0mparsed_json\u001b[0m \u001b[0;34m=\u001b[0m \u001b[0mjson\u001b[0m\u001b[0;34m.\u001b[0m\u001b[0mloads\u001b[0m\u001b[0;34m(\u001b[0m\u001b[0mjson_string\u001b[0m\u001b[0;34m)\u001b[0m\u001b[0;34m\u001b[0m\u001b[0m\n",
      "\u001b[0;31mModuleNotFoundError\u001b[0m: No module named 'urllib2'"
     ]
    }
   ],
   "source": [
    "import urllib2\n",
    "import json\n",
    "f = urllib2.urlopen('http://api.wunderground.com/api/Your_Key/geolookup/conditions/q/IA/Cedar_Rapids.json')\n",
    "json_string = f.read()\n",
    "parsed_json = json.loads(json_string)\n",
    "location = parsed_json['location']['city']\n",
    "temp_f = parsed_json['current_observation']['temp_f']\n",
    "print( \"Current temperature in %s is: %s\" % (location, temp_f))\n",
    "f.close()"
   ]
  },
  {
   "cell_type": "code",
   "execution_count": 53,
   "metadata": {
    "collapsed": true,
    "extensions": {
     "jupyter_dashboards": {
      "version": 1,
      "views": {
       "grid_default": {
        "hidden": true
       },
       "report_default": {}
      }
     }
    }
   },
   "outputs": [],
   "source": []
  },
  {
   "cell_type": "code",
   "execution_count": null,
   "metadata": {
    "collapsed": true,
    "extensions": {
     "jupyter_dashboards": {
      "version": 1,
      "views": {
       "grid_default": {
        "hidden": true
       },
       "report_default": {}
      }
     }
    }
   },
   "outputs": [],
   "source": []
  },
  {
   "cell_type": "code",
   "execution_count": null,
   "metadata": {
    "extensions": {
     "jupyter_dashboards": {
      "version": 1,
      "views": {
       "grid_default": {
        "col": 4,
        "height": 4,
        "hidden": false,
        "row": 67,
        "width": 4
       },
       "report_default": {}
      }
     }
    }
   },
   "outputs": [],
   "source": []
  },
  {
   "cell_type": "code",
   "execution_count": null,
   "metadata": {
    "extensions": {
     "jupyter_dashboards": {
      "version": 1,
      "views": {
       "grid_default": {
        "col": 4,
        "height": 4,
        "hidden": false,
        "row": 71,
        "width": 4
       },
       "report_default": {}
      }
     }
    }
   },
   "outputs": [],
   "source": []
  },
  {
   "cell_type": "code",
   "execution_count": null,
   "metadata": {
    "extensions": {
     "jupyter_dashboards": {
      "version": 1,
      "views": {
       "grid_default": {
        "col": 4,
        "height": 6,
        "hidden": false,
        "row": 75,
        "width": 4
       },
       "report_default": {}
      }
     }
    }
   },
   "outputs": [],
   "source": []
  },
  {
   "cell_type": "code",
   "execution_count": null,
   "metadata": {
    "extensions": {
     "jupyter_dashboards": {
      "version": 1,
      "views": {
       "grid_default": {
        "hidden": true
       },
       "report_default": {}
      }
     }
    }
   },
   "outputs": [],
   "source": []
  },
  {
   "cell_type": "code",
   "execution_count": 12,
   "metadata": {
    "collapsed": true
   },
   "outputs": [],
   "source": []
  },
  {
   "cell_type": "code",
   "execution_count": null,
   "metadata": {
    "collapsed": true
   },
   "outputs": [],
   "source": []
  }
 ],
 "metadata": {
  "extensions": {
   "jupyter_dashboards": {
    "activeView": "grid_default",
    "version": 1,
    "views": {
     "grid_default": {
      "cellMargin": 10,
      "defaultCellHeight": 20,
      "maxColumns": 12,
      "name": "grid",
      "type": "grid"
     },
     "report_default": {
      "name": "report",
      "type": "report"
     }
    }
   }
  },
  "kernelspec": {
   "display_name": "Python 3",
   "language": "python",
   "name": "python3"
  },
  "language_info": {
   "codemirror_mode": {
    "name": "ipython",
    "version": 3
   },
   "file_extension": ".py",
   "mimetype": "text/x-python",
   "name": "python",
   "nbconvert_exporter": "python",
   "pygments_lexer": "ipython3",
   "version": "3.6.4"
  }
 },
 "nbformat": 4,
 "nbformat_minor": 2
}
