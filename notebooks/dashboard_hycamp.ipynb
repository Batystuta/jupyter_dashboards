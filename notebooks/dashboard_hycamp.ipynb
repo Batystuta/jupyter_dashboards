{
 "cells": [
  {
   "cell_type": "code",
   "execution_count": 1,
   "metadata": {
    "collapsed": true
   },
   "outputs": [],
   "source": [
    "import urllib.request\n",
    "import folium\n",
    "from pandas.io.json import json_normalize\n",
    "import pandas as pd\n",
    "from beakerx import *"
   ]
  },
  {
   "cell_type": "code",
   "execution_count": 2,
   "metadata": {
    "collapsed": true
   },
   "outputs": [],
   "source": [
    "url='https://raw.githubusercontent.com/annefou/jupyter_dashboards/gh-pages/data/Hardangervidda.geojson'\n",
    "# Download the file from `url`, save it in a temporary directory and get the\n",
    "# path to it (e.g. '/tmp/tmpb48zma.txt') in the `file_name` variable:\n",
    "geojson_filename, headers = urllib.request.urlretrieve(url)"
   ]
  },
  {
   "cell_type": "code",
   "execution_count": 3,
   "metadata": {
    "collapsed": true
   },
   "outputs": [],
   "source": [
    "map = folium.Map(location=[60.5, 7.5], tiles='Stamen Terrain')"
   ]
  },
  {
   "cell_type": "code",
   "execution_count": 4,
   "metadata": {
    "collapsed": true
   },
   "outputs": [],
   "source": [
    "geojson = folium.GeoJson(\n",
    "    geojson_filename,\n",
    "    name='geojson'\n",
    ").add_to(map)\n",
    "features=geojson.data['features']"
   ]
  },
  {
   "cell_type": "code",
   "execution_count": 5,
   "metadata": {
    "collapsed": true
   },
   "outputs": [],
   "source": [
    "import json\n",
    "\n",
    "def getStations(filename):\n",
    "    data = json.load(open(filename))['features']\n",
    "    stations={}\n",
    "    for i in range(0,len(features)):   \n",
    "        name = features[i]['properties']['description']\n",
    "        opr = int(features[i]['properties']['waspmote_id'],16)\n",
    "        stations[name] = opr\n",
    "    return (stations)"
   ]
  },
  {
   "cell_type": "code",
   "execution_count": 6,
   "metadata": {},
   "outputs": [
    {
     "name": "stdout",
     "output_type": "stream",
     "text": [
      "{'Appelsinhytta': 161398434909148276, 'Hills': 7383483387351159950, 'Middaselvi discharge': 4574644594755523609, 'Finselvi discharge': 4634607560887915575, 'Drift lower lidar': 7873531321804412124}\n"
     ]
    }
   ],
   "source": [
    "stations=getStations(geojson_filename)\n",
    "print(stations)"
   ]
  },
  {
   "cell_type": "code",
   "execution_count": 7,
   "metadata": {
    "collapsed": true
   },
   "outputs": [],
   "source": [
    "import requests\n",
    "URL = 'http://hycamp.org/wsn/api/query/'\n",
    "token = 'dcff0c629050b5492362ec28173fa3e051648cb1'\n",
    "headers = {'Authorization': 'Token %s' % token}"
   ]
  },
  {
   "cell_type": "code",
   "execution_count": 8,
   "metadata": {
    "collapsed": true
   },
   "outputs": [],
   "source": [
    "def getFinseStation(station, sensor):\n",
    "        params  = {\n",
    "            'limit': 10000,\n",
    "            'offset': 0,\n",
    "            'mote': station,\n",
    "            'xbee': None,\n",
    "            'sensor': sensor,\n",
    "            'tst__gte': None,\n",
    "            'tst__lte': None,\n",
    "            }\n",
    "        r = requests.get(URL, headers=headers, params = params)\n",
    "        data = r.json()['results']\n",
    "        if r.status_code == 200:\n",
    "            FinseStations = json_normalize(data)       \n",
    "            FinseStations['timestamp'] = pd.to_datetime(FinseStations.epoch, unit='s')\n",
    "            return FinseStations\n",
    "        else:\n",
    "            print(\"Data not available\")\n",
    "            return None"
   ]
  },
  {
   "cell_type": "code",
   "execution_count": 9,
   "metadata": {
    "collapsed": true
   },
   "outputs": [],
   "source": [
    "def getSensors(mote):\n",
    "    params  = {\n",
    "            'limit': 10000,\n",
    "            'offset': 0,\n",
    "            'mote': mote,\n",
    "            'xbee': None,\n",
    "            'sensor': None,\n",
    "            'tst__gte': None,\n",
    "            'tst__lte': None,\n",
    "            }\n",
    "    r = requests.get(URL, headers=headers, params = params)\n",
    "    data = r.json()['results']\n",
    "    if r.status_code == 200:\n",
    "        FinseStations = json_normalize(data)\n",
    "        listSensors=FinseStations['sensor'].unique()\n",
    "        return listSensors\n",
    "    else:\n",
    "        print(\"Data not available\")\n",
    "        return ([],[])\n",
    "    "
   ]
  },
  {
   "cell_type": "code",
   "execution_count": 10,
   "metadata": {},
   "outputs": [
    {
     "name": "stdout",
     "output_type": "stream",
     "text": [
      "Appelsinhytta\n",
      "Hills\n",
      "Middaselvi discharge\n",
      "Finselvi discharge\n",
      "Drift lower lidar\n",
      "{'Appelsinhytta': array(['ds2_meridional', 'ds2_dir', 'ds2_zonal', 'ds2_speed', 'ds2_temp',\n",
      "       'bat', 'ds2_gust'], dtype=object), 'Hills': array(['rssi', 'ds2_speed', 'bat', 'ds2_gust', 'ds2_temp', 'ds2_zonal',\n",
      "       'ds2_meridional', 'ds2_dir'], dtype=object), 'Middaselvi discharge': array(['bat'], dtype=object), 'Finselvi discharge': array(['ctd_temp', 'bat', 'ctd_depth', 'ctd_cond'], dtype=object), 'Drift lower lidar': array(['rssi', 'ds2_zonal', 'ds2_temp', 'ds2_speed', 'bat', 'ds2_dir',\n",
      "       'ds2_gust', 'ds2_meridional'], dtype=object)}\n"
     ]
    }
   ],
   "source": [
    "sensors={}\n",
    "for station in stations:\n",
    "    print(station)\n",
    "    sensors[station]=getSensors(stations[station])\n",
    "print(sensors)"
   ]
  },
  {
   "cell_type": "code",
   "execution_count": 11,
   "metadata": {},
   "outputs": [
    {
     "data": {
      "application/vnd.jupyter.widget-view+json": {
       "model_id": "497e37ab208640da8cbe8238e5154f67",
       "version_major": 2,
       "version_minor": 0
      },
      "text/html": [
       "<p>Failed to display Jupyter Widget of type <code>interactive</code>.</p>\n",
       "<p>\n",
       "  If you're reading this message in the Jupyter Notebook or JupyterLab Notebook, it may mean\n",
       "  that the widgets JavaScript is still loading. If this message persists, it\n",
       "  likely means that the widgets JavaScript library is either not installed or\n",
       "  not enabled. See the <a href=\"https://ipywidgets.readthedocs.io/en/stable/user_install.html\">Jupyter\n",
       "  Widgets Documentation</a> for setup instructions.\n",
       "</p>\n",
       "<p>\n",
       "  If you're reading this message in another frontend (for example, a static\n",
       "  rendering on GitHub or <a href=\"https://nbviewer.jupyter.org/\">NBViewer</a>),\n",
       "  it may mean that your frontend doesn't currently support widgets.\n",
       "</p>\n"
      ],
      "text/plain": [
       "interactive(children=(Select(description='Stations', options=('Appelsinhytta', 'Hills', 'Middaselvi discharge', 'Finselvi discharge', 'Drift lower lidar'), value='Appelsinhytta'), RadioButtons(description='Sensors', options=('ds2_meridional', 'ds2_dir', 'ds2_zonal', 'ds2_speed', 'ds2_temp', 'bat', 'ds2_gust'), value='ds2_meridional'), Button(description='Run Interact', style=ButtonStyle()), Output()), _dom_classes=('widget-interact',))"
      ]
     },
     "metadata": {},
     "output_type": "display_data"
    },
    {
     "data": {
      "text/plain": [
       "<function __main__.plot_sensor>"
      ]
     },
     "metadata": {},
     "output_type": "display_data"
    }
   ],
   "source": [
    "import ipywidgets as widgets\n",
    "from IPython.display import display, HTML\n",
    "\n",
    "\n",
    "def plot_sensor(station,sensor):\n",
    "    station_id=stations[station]\n",
    "    FinseStation = getFinseStation(station_id, sensor)\n",
    "    if sensor == 'bat':\n",
    "        print(\"BAT histogram\")\n",
    "    else:\n",
    "    # simple timeserie plot\n",
    "        # Select a sensor: for instance ds2_temp\n",
    "        ds2_temp = FinseStation.loc[FinseStation['sensor'] == sensor]\n",
    "        # Use BeakerX to plot:\n",
    "        tsplot = TimePlot(title=\"Title to adapt\",\n",
    "         xLabel=\"Date\",\n",
    "         yLabel=\"Whatever...\")\n",
    "        tsplot.add(Line(x=ds2_temp['timestamp'], y=ds2_temp['value'], color=Color.DARK_GRAY))\n",
    "        display(tsplot)\n",
    "        # Select a sensor: for instance ds2_temp\n",
    "\n",
    "def select_sensor(change):\n",
    "    print(change)\n",
    "    sensorW.options = sensors[change['new']]\n",
    "\n",
    "def print_values(val):\n",
    "    print(val)\n",
    "\n",
    "\n",
    "stationW = widgets.Select(options=sensors.keys(), description='Stations')\n",
    "init = stationW.value\n",
    "sensorW = widgets.RadioButtons(options=sensors[init], description='Sensors')\n",
    "stationW.observe(select_sensor, names=\"value\")\n",
    "interact_plot = widgets.interact_manual(plot_sensor, \n",
    "                    station = stationW,\n",
    "                    sensor= sensorW );\n",
    "interact_plot.widget.children[-1].layout.height = '600px'   #set the height of the interactive plot so it won't change size\n",
    "interact_plot.widget.children[2].description=\"Click to plot\"\n",
    "display(interact_plot)\n"
   ]
  },
  {
   "cell_type": "code",
   "execution_count": null,
   "metadata": {
    "collapsed": true
   },
   "outputs": [],
   "source": []
  }
 ],
 "metadata": {
  "kernelspec": {
   "display_name": "Python 3",
   "language": "python",
   "name": "python3"
  },
  "language_info": {
   "codemirror_mode": {
    "name": "ipython",
    "version": 3
   },
   "file_extension": ".py",
   "mimetype": "text/x-python",
   "name": "python",
   "nbconvert_exporter": "python",
   "pygments_lexer": "ipython3",
   "version": "3.6.3"
  }
 },
 "nbformat": 4,
 "nbformat_minor": 2
}
